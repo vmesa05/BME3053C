{
  "cells": [
    {
      "cell_type": "markdown",
      "id": "456796a4",
      "metadata": {
        "id": "456796a4"
      },
      "source": [
        "# BME3053C Midterm Study Guide\n",
        "\n",
        "This Jupyter Notebook provides practice problems covering concepts included in the midterm.\n",
        "\n",
        "- Conditionals (if/elif/else)\n",
        "- Boolean logic\n",
        "- Type conversion\n",
        "- Loops (for/while)\n",
        "- List slicing\n",
        "- References and mutability\n",
        "- Functions and Variable scope\n",
        "- NumPy array operations (basic arithmetic, broadcasting)\n",
        "- Pandas Conditionals\n",
        "- Indexing and Iteration in Pandas\n",
        "- Matrix Transformations\n",
        "\n",
        "Try each code snippet, predict the output, and then run the code to confirm your understanding.\n",
        "\n",
        "### Original Lesson Link: [![Open In Colab](https://colab.research.google.com/assets/colab-badge.svg)](https://colab.research.google.com/github/uf-bme/BME3053C-Fall-2025/blob/main/study-guides/midterm-study-guide.ipynb)\n"
      ]
    },
    {
      "cell_type": "markdown",
      "id": "056fa50a",
      "metadata": {
        "id": "056fa50a"
      },
      "source": [
        "## Tips to Succeed\n",
        "\n",
        "- Don't rush through the problems! Pay close attention to the syntax in each code cell (especially in print statements).\n",
        "- Try tweaking the code cells in this notebook to see how changes affect the output. Write down your predictions and the modified code on paper before running it.\n",
        "- Review the output and compare it with your predictions to reinforce your understanding.\n"
      ]
    },
    {
      "cell_type": "markdown",
      "id": "adfb1d07",
      "metadata": {
        "id": "adfb1d07"
      },
      "source": [
        "## Conditionals and Boolean Logic\n",
        "\n",
        "- Conditionals allow you to execute different blocks of code based on certain conditions.\n",
        "\n",
        "#### Multiple Conditionals in a Single Statement\n",
        "\n",
        "- You can combine multiple conditions in a single `if`, `elif`, or `else` statement\n",
        "- Boolean logic helps in combining multiple conditions using logical operators like `and`, `or`, and `not`.\n",
        "- When using `and`, the condition will only be true if both conditions are true.\n",
        "- When using `or`, the condition will be true if at least one of the conditions is true.\n",
        "- Parentheses will help ensure the condition is evaluated in the order you want.\n",
        "\n",
        "#### Practice\n",
        "\n",
        "Predict the prints, then run the cells below to check.\n"
      ]
    },
    {
      "cell_type": "code",
      "execution_count": null,
      "id": "33be82e7",
      "metadata": {
        "id": "33be82e7"
      },
      "outputs": [],
      "source": [
        "x = 6\n",
        "y = 3\n",
        "\n",
        "if x > 5 and y < 3:\n",
        "    print(\"Case 1\")\n",
        "elif x == 6 or y == 4:\n",
        "    print(\"Case 2\")\n",
        "else:\n",
        "    print(\"Case 3\")\n",
        "print(\"Done\")"
      ]
    },
    {
      "cell_type": "code",
      "execution_count": null,
      "id": "1381f8d7",
      "metadata": {
        "id": "1381f8d7"
      },
      "outputs": [],
      "source": [
        "a = 10\n",
        "b = 9\n",
        "c = 7\n",
        "\n",
        "if (a > b) and (b < c):\n",
        "    print(\"Condition 1\")\n",
        "elif (b > a) or (b < c):\n",
        "    print(\"Condition 2\")\n",
        "else:\n",
        "    print(\"Condition 3\")\n",
        "print(\"Done\")"
      ]
    },
    {
      "cell_type": "markdown",
      "id": "472f4229",
      "metadata": {
        "id": "472f4229"
      },
      "source": [
        "## Type Conversion\n",
        "\n",
        "- Type conversion is the process of converting one data type to another.\n",
        "- This is useful when you need to convert data from one type to another.\n",
        "- The `int()`, `str()`, and `float()` functions are commonly used for type conversion.\n",
        "\n",
        "**On the test, you could just write int or float. You wouldn't need to write <class 'int'> or <class 'float'>**\n",
        "\n",
        "**Task:** Understand how to convert between different data types using `int()`, `str()`, and `float()` functions.\n"
      ]
    },
    {
      "cell_type": "code",
      "execution_count": null,
      "id": "7b6edcec",
      "metadata": {
        "id": "7b6edcec"
      },
      "outputs": [],
      "source": [
        "num_str = \"123\"\n",
        "\n",
        "print(\"num_str\")\n",
        "\n",
        "\n",
        "num_int = int(num_str)\n",
        "print(num_int, type(num_int))\n",
        "\n",
        "\n",
        "\n",
        "float_num = 12.34\n",
        "int_num = int(float_num)\n",
        "print(int_num, type(int_num))\n",
        "\n",
        "bool_val = True\n",
        "str_bool = str(bool_val)\n",
        "print(str_bool, type(str_bool))\n"
      ]
    },
    {
      "cell_type": "markdown",
      "id": "787ba37c",
      "metadata": {
        "id": "787ba37c"
      },
      "source": [
        "## For Loops\n",
        "\n",
        "- A for loop is used to iterate over a sequence (such as a list, tuple, dictionary, set, or string).\n",
        "- The range() function is commonly used with for loops to generate a sequence of numbers.\n",
        "- The `range()` function can take 1, 2, or 3 arguments:\n",
        "  - `range(stop)`: generates numbers from 0 to stop-1\n",
        "  - `range(start, stop)`: generates numbers from start to stop-1\n",
        "  - `range(start, stop, step)`: generates numbers from start to stop-1, incrementing by step\n",
        "\n",
        "### Prompt\n",
        "\n",
        "```python\n",
        "total_sum = 0\n",
        "for i in range(3, 8):  # 3, 4, 5, 6, 7\n",
        "    total_sum += i\n",
        "print(total_sum)\n",
        "```\n",
        "\n",
        "**Task:** Predict the final value of `total_sum`.\n"
      ]
    },
    {
      "cell_type": "code",
      "execution_count": null,
      "id": "09b99306",
      "metadata": {
        "id": "09b99306"
      },
      "outputs": [],
      "source": [
        "total_sum = 0\n",
        "for i in range(3, 6,2):\n",
        "    print('i=',i,'total_sum=',total_sum)\n",
        "    total_sum += i    \n",
        "\n",
        "print(total_sum)"
      ]
    },
    {
      "cell_type": "markdown",
      "id": "u89qHhIUOvqd",
      "metadata": {
        "id": "u89qHhIUOvqd"
      },
      "source": [
        "### Continue and Break Statements\n",
        "\n",
        "- **Break Statement in Python:**\n",
        "\n",
        "  - Immediately exits the loop when executed.\n",
        "  - Useful when a certain condition is met and no further iterations are needed.\n",
        "  - Example:\n",
        "    ```python\n",
        "    for num in range(10):\n",
        "        if num == 5:\n",
        "            break  # Exit the loop\n",
        "        print(num)\n",
        "    ```\n",
        "\n",
        "- **Continue Statement in Python:**\n",
        "  - Skips the rest of the code in the current loop iteration.\n",
        "  - Proceeds directly to the next iteration of the loop.\n",
        "  - Example:\n",
        "    ```python\n",
        "    for num in range(10):\n",
        "        if num % 2 == 0:\n",
        "            continue  # Skip even numbers\n",
        "        print(num)\n",
        "    ```\n"
      ]
    },
    {
      "cell_type": "code",
      "execution_count": null,
      "id": "cw424PlZOTO0",
      "metadata": {
        "id": "cw424PlZOTO0"
      },
      "outputs": [],
      "source": [
        "for i in range(2,10,2):\n",
        "  if i < 6:\n",
        "    continue\n",
        "  print('i=',i)\n",
        "print('final',i)"
      ]
    },
    {
      "cell_type": "code",
      "execution_count": null,
      "id": "j57DwerpM_bT",
      "metadata": {
        "id": "j57DwerpM_bT"
      },
      "outputs": [],
      "source": [
        "total_sum = 0\n",
        "for i in range(1, 7,3):\n",
        "    if i == 4:\n",
        "      continue\n",
        "    if i > 5:\n",
        "      break\n",
        "    total_sum += i\n",
        "    print(i,total_sum)\n",
        "\n",
        "print('final',i,total_sum)\n"
      ]
    },
    {
      "cell_type": "markdown",
      "id": "444dd591",
      "metadata": {
        "id": "444dd591"
      },
      "source": [
        "## While Loops\n",
        "\n",
        "- A while loop is used to execute a block of code repeatedly as long as a condition is true.\n",
        "- The condition is evaluated before each iteration of the loop.\n",
        "\n",
        "**Task:** Observe how the loop increments `count` and prints when `count == 2`.\n"
      ]
    },
    {
      "cell_type": "code",
      "execution_count": null,
      "id": "1445657a",
      "metadata": {
        "id": "1445657a"
      },
      "outputs": [],
      "source": [
        "count = 0\n",
        "count2 = 0\n",
        "\n",
        "while count < 5:\n",
        "    count2+=1\n",
        "    if count == 2:\n",
        "        print(\"count2=\",count2)\n",
        "        count2+=1\n",
        "    count += 1\n",
        "\n",
        "print(\"Final count:\", count)\n",
        "print(\"Final count2:\",count2)"
      ]
    },
    {
      "cell_type": "markdown",
      "id": "41861314",
      "metadata": {
        "id": "41861314"
      },
      "source": [
        "## List Slicing\n",
        "\n",
        "- List slicing allows you to extract a portion of a list.\n",
        "- The syntax is `list[start:stop:step]`.\n",
        "- The start index is **inclusive**, the stop index is **exclusive**\n",
        "- Negative indices can be used to slice from the end of the list.\n",
        "- The step can be negative to reverse the order of the slice.\n"
      ]
    },
    {
      "cell_type": "code",
      "execution_count": null,
      "id": "528ab2f1",
      "metadata": {},
      "outputs": [],
      "source": [
        "nums = [10, 20, 30, 40, 50, 60]"
      ]
    },
    {
      "cell_type": "code",
      "execution_count": null,
      "id": "3dce214e",
      "metadata": {
        "id": "3dce214e"
      },
      "outputs": [],
      "source": [
        "print(\"nums[2:] =>\", nums[2:])"
      ]
    },
    {
      "cell_type": "code",
      "execution_count": null,
      "id": "4bda654f",
      "metadata": {},
      "outputs": [],
      "source": [
        "print(\"nums[:3] =>\", nums[:3])"
      ]
    },
    {
      "cell_type": "code",
      "execution_count": null,
      "id": "dad454c8",
      "metadata": {},
      "outputs": [],
      "source": [
        "print(\"nums[1:5:2] =>\", nums[1:5:2])"
      ]
    },
    {
      "cell_type": "code",
      "execution_count": null,
      "id": "7f624ced",
      "metadata": {},
      "outputs": [],
      "source": [
        "print(\"nums[1:4] =>\", nums[1:4])"
      ]
    },
    {
      "cell_type": "code",
      "execution_count": null,
      "id": "f5b226bb",
      "metadata": {},
      "outputs": [],
      "source": [
        "print(\"nums[-3:-1:1] =>\", nums[-3:-1:1])"
      ]
    },
    {
      "cell_type": "code",
      "execution_count": null,
      "id": "e39f1078",
      "metadata": {},
      "outputs": [],
      "source": [
        "print(\"nums[-3:1:-1] =>\", nums[-3:1:-1])"
      ]
    },
    {
      "cell_type": "markdown",
      "id": "07b3408b",
      "metadata": {},
      "source": [
        "## References & Mutability\n",
        "\n",
        "- Lists are mutable, meaning their contents can be changed after they are created.\n",
        "- When a list is assigned to a new variable, the new variable references the same list.\n",
        "\n",
        "**Task:** Understand how inserting into `another_ref` also affects `a_list` because both point to the same list.\n"
      ]
    },
    {
      "cell_type": "code",
      "execution_count": null,
      "id": "2a6e01d0",
      "metadata": {},
      "outputs": [],
      "source": [
        "a_list = [5, 6]\n",
        "another_ref = a_list\n",
        "another_ref.append(10)\n",
        "\n",
        "print(\"a_list =\", a_list)\n",
        "print(\"another_ref =\", another_ref)"
      ]
    },
    {
      "cell_type": "code",
      "execution_count": null,
      "id": "121f2583",
      "metadata": {},
      "outputs": [],
      "source": [
        "import copy\n",
        "a_list = [5, 6]\n",
        "another_ref = copy.deepcopy(a_list)\n",
        "another_ref.append(10)\n",
        "\n",
        "print(\"a_list =\", a_list)\n",
        "print(\"another_ref =\", another_ref)"
      ]
    },
    {
      "cell_type": "markdown",
      "id": "4e7db033",
      "metadata": {
        "id": "4e7db033"
      },
      "source": [
        "## Variable Scope\n",
        "\n",
        "Variable scope refers to the context in which a variable is defined and accessible. In Python, there are two main types of variable scope:\n",
        "\n",
        "1. **Global Scope**: Variables defined outside of any function or block, accessible throughout the entire script.\n",
        "2. **Local Scope**: Variables defined within a function or block, accessible only within that function or block.\n",
        "\n",
        "Understanding variable scope is crucial for avoiding naming conflicts and ensuring that variables are used correctly within their intended context.\n",
        "\n",
        "**Task:** Notice how `my_var` inside the function is not the same as the **global** `my_var`.\n"
      ]
    },
    {
      "cell_type": "code",
      "execution_count": null,
      "id": "ebbeaf06",
      "metadata": {
        "id": "ebbeaf06"
      },
      "outputs": [],
      "source": [
        "my_var = 100\n",
        "def multiply_by_two(x):\n",
        "    my_var = x * 2\n",
        "    return my_var\n",
        "\n",
        "result = multiply_by_two(5)\n",
        "print(\"my_var =\", my_var)\n",
        "print(\"result =\", result)"
      ]
    },
    {
      "cell_type": "markdown",
      "id": "5b772d93",
      "metadata": {
        "id": "5b772d93"
      },
      "source": [
        "## Function Parameters and Return Values\n",
        "\n",
        "- When working with functions, it's important to understand how return values and variable scope work.\n",
        "- In the example below, the function `add_two_numbers` is supposed to return the sum of two numbers, but it currently returns x.\n",
        "\n",
        "**Task:** Evaluate the importance of return values in the function `add_two_numbers`.\n"
      ]
    },
    {
      "cell_type": "code",
      "execution_count": null,
      "id": "b5e51643",
      "metadata": {
        "colab": {
          "base_uri": "https://localhost:8080/"
        },
        "id": "b5e51643",
        "outputId": "350982bc-b27b-48ff-9892-2f4ee653c2c2"
      },
      "outputs": [],
      "source": [
        "\n",
        "def add_two_numbers(x,y=0):\n",
        "    local_var = x + y\n",
        "    return x * y\n"
      ]
    },
    {
      "cell_type": "code",
      "execution_count": null,
      "id": "d201638a",
      "metadata": {},
      "outputs": [],
      "source": [
        "var1 = 7\n",
        "\n",
        "var2 = add_two_numbers(5)\n",
        "\n",
        "var3 = var1+var2\n",
        "print(var3)"
      ]
    },
    {
      "cell_type": "code",
      "execution_count": null,
      "id": "99defecd",
      "metadata": {},
      "outputs": [],
      "source": [
        "var1 = 7\n",
        "\n",
        "var2 = add_two_numbers(3,4)\n",
        "\n",
        "var3 = var1+var2\n",
        "print(var3)"
      ]
    },
    {
      "cell_type": "markdown",
      "id": "218c07b3",
      "metadata": {
        "id": "218c07b3"
      },
      "source": [
        "## NumPy: Basic Arithmetic & Broadcasting\n",
        "\n",
        "- NumPy arrays support element-wise arithmetic operations like addition, subtraction, multiplication, and division.\n",
        "- You can perform operations between arrays and scalars, or between arrays of compatible shapes.\n",
        "- The `@` operator is used for matrix multiplication, while `*` performs element-wise multiplication.\n",
        "- Broadcasting is a feature of NumPy that allows for element-wise operations between arrays of different shapes.\n",
        "\n",
        "**Task:** Practice element-wise operations.\\*\\*\n"
      ]
    },
    {
      "cell_type": "code",
      "execution_count": null,
      "id": "22cd4fe5",
      "metadata": {
        "id": "22cd4fe5"
      },
      "outputs": [],
      "source": [
        "import numpy as np\n",
        "x_mat = np.array([[4, 5, 6], [1, 2, 3],[7, 8, 9]])\n",
        "y_mat = np.array([[1, 2, 3], [4, 5, 6],[4, 6, 8]])\n",
        "print('x_mat:')\n",
        "print(x_mat)\n",
        "print()\n",
        "print('y_mat:')\n",
        "print(y_mat)"
      ]
    },
    {
      "cell_type": "code",
      "execution_count": null,
      "id": "4b5caf36",
      "metadata": {},
      "outputs": [],
      "source": [
        "print(x_mat * 2) "
      ]
    },
    {
      "cell_type": "code",
      "execution_count": null,
      "id": "36d8a038",
      "metadata": {},
      "outputs": [],
      "source": [
        "print(x_mat + y_mat) "
      ]
    },
    {
      "cell_type": "code",
      "execution_count": null,
      "id": "b2fc018b",
      "metadata": {},
      "outputs": [],
      "source": [
        "print(x_mat * y_mat) "
      ]
    },
    {
      "cell_type": "code",
      "execution_count": null,
      "id": "11377ece",
      "metadata": {},
      "outputs": [],
      "source": [
        "print(y_mat * x_mat) "
      ]
    },
    {
      "cell_type": "code",
      "execution_count": null,
      "id": "3575678d",
      "metadata": {},
      "outputs": [],
      "source": [
        "print(x_mat @ y_mat) "
      ]
    },
    {
      "cell_type": "code",
      "execution_count": null,
      "id": "b8424a41",
      "metadata": {},
      "outputs": [],
      "source": [
        "print(y_mat @ x_mat) "
      ]
    },
    {
      "cell_type": "markdown",
      "id": "4a08cb51",
      "metadata": {},
      "source": [
        "# Filtering data with conditionals in Pandas\n",
        "\n",
        "Pandas makes it easy to select, analyze, and process subsets of your data based on some condition `C`. This is accomplished with easily understandable syntax: `df[C]` will return a subset of DataFrame `df` that **matches** the condition `C` listed inside brackets `[]`.\n",
        "\n",
        "- we can create filtering criteria using familiar mathematical operators that were used in Python conditionals.\n",
        "\n",
        "**You will only need to write the indices of the rows that would be included in each condition**\n"
      ]
    },
    {
      "cell_type": "code",
      "execution_count": null,
      "id": "972c6cc3",
      "metadata": {},
      "outputs": [],
      "source": [
        "import pandas as pd\n",
        "import numpy as np\n",
        "\n",
        "# Create a new dataframe with 5 rows and 3 columns\n",
        "df = pd.DataFrame({\n",
        "    'Species': ['cat', 'dog', 'bird', 'cat', 'dog'],\n",
        "    'Age': [13,11,18,18,8],\n",
        "    'Weight': [13.3,32.4,2.4,19.3, 64.1],    \n",
        "})\n"
      ]
    },
    {
      "cell_type": "code",
      "execution_count": null,
      "id": "4f51e14a",
      "metadata": {},
      "outputs": [],
      "source": [
        "df"
      ]
    },
    {
      "cell_type": "code",
      "execution_count": null,
      "id": "894c6da8",
      "metadata": {},
      "outputs": [],
      "source": [
        "print(df[df['Age'] > 8])"
      ]
    },
    {
      "cell_type": "code",
      "execution_count": null,
      "id": "80f2b747",
      "metadata": {},
      "outputs": [],
      "source": [
        "print(df[(df['Age'] > 8) & (df['Weight'] > 20)])"
      ]
    },
    {
      "cell_type": "code",
      "execution_count": null,
      "id": "825c905a",
      "metadata": {},
      "outputs": [],
      "source": [
        "print(df[(df['Species'] == 'cat') & (df['Species'] == 'dog')])"
      ]
    },
    {
      "cell_type": "code",
      "execution_count": null,
      "id": "7ce0c57b",
      "metadata": {},
      "outputs": [],
      "source": [
        "print(df[(df['Species'] == 'cat') | (df['Species'] == 'dog')])"
      ]
    },
    {
      "cell_type": "markdown",
      "id": "133cdc22",
      "metadata": {},
      "source": [
        "## Indexing and Iteration\n",
        "\n",
        "### Accessing Data in DataFrames\n",
        "\n",
        "- Use `.iloc[]` for integer position-based indexing (e.g., df.iloc[0, 1] for first row, second column)\n",
        "- Use `.loc[]` for label-based indexing (e.g., df.loc['row_label', 'column_name'])\n",
        "\n",
        "- Example:\n",
        "  - df.iloc[0, 1] gets value in first row, second column regardless of labels\n",
        "  - df.loc['A', 'price'] gets value where index='A' and column='price'\n"
      ]
    },
    {
      "cell_type": "code",
      "execution_count": null,
      "id": "79bea91b",
      "metadata": {},
      "outputs": [],
      "source": [
        "df"
      ]
    },
    {
      "cell_type": "code",
      "execution_count": null,
      "id": "342650ce",
      "metadata": {},
      "outputs": [],
      "source": [
        "print(\"First row, second column using iloc:\")\n",
        "print(df.iloc[0, 1])"
      ]
    },
    {
      "cell_type": "code",
      "execution_count": null,
      "id": "5568d756",
      "metadata": {},
      "outputs": [],
      "source": [
        "print(\"Accessing row 0, column 'B' using loc:\")\n",
        "print(df.loc[0, 'Weight'])"
      ]
    },
    {
      "cell_type": "code",
      "execution_count": null,
      "id": "1ec989fc",
      "metadata": {},
      "outputs": [],
      "source": [
        "print(df.iloc[0:4:2,2])"
      ]
    },
    {
      "cell_type": "markdown",
      "id": "a46747b3",
      "metadata": {},
      "source": [
        "## Transformation Matrices in Homogeneous Coordinates\n",
        "\n",
        "Transformation matrices allow us to perform geometric operations (rotation, scaling, translation) on 2D shapes using matrix multiplication. In homogeneous coordinates, we represent 2D points as 3D vectors [x, y, 1], which enables us to express all transformations—including translation—as matrix multiplications.\n",
        "\n",
        "**Important Notes:**\n",
        "\n",
        "- Matrix multiplication order matters! Transformations are applied **right to left**\n",
        "- To rotate around a point (cx, cy) other than the origin: translate to origin → rotate → translate back\n",
        "- Multiple transformations can be combined into a single matrix by multiplying them together\n"
      ]
    },
    {
      "cell_type": "markdown",
      "id": "1cb1f60d",
      "metadata": {},
      "source": [
        "<center><img  src=\"https://github.com/uf-bme/bme3053c/raw/main/files/2D_affine_transformation_matrix.svg\" alt='Matrix Transformations'/></center>\n"
      ]
    },
    {
      "cell_type": "markdown",
      "id": "7c5d9fd0",
      "metadata": {},
      "source": [
        "### Example: Rotation + Scaling + Translation\n",
        "\n",
        "We can also combine rotation, scaling, and translation in one step by multiplying their respective matrices together:\n",
        "\n",
        "$$Combined=T⋅S⋅R(θ)$$\n",
        "\n",
        "This order applies the rotation first, then scaling, and finally translation.\n"
      ]
    },
    {
      "cell_type": "code",
      "execution_count": null,
      "id": "b29727a6",
      "metadata": {},
      "outputs": [],
      "source": [
        "import numpy as np\n",
        "\n",
        "import matplotlib.pyplot as plt\n",
        "\n",
        "# Enable inline plotting\n",
        "%matplotlib inline\n",
        "\n",
        "def generate_star(center=(0, 0), num_points=5, outer_radius=1, inner_radius=0.5,homogeneous=False):\n",
        "    '''\n",
        "    This function generates the coordinates of a star shape based on the specified number of points,\n",
        "    outer radius, inner radius, and center coordinates. The star is created by alternating between the\n",
        "    outer and inner radii at calculated angles, resulting in a visually appealing star pattern.\n",
        "    '''\n",
        "    angles = np.linspace(np.pi/2, 5*np.pi/2, num_points*2, endpoint=False)\n",
        "    radii = np.array([outer_radius, inner_radius] * num_points)\n",
        "    x = radii * np.cos(angles) + center[0]\n",
        "    y = radii * np.sin(angles) + center[1]\n",
        "    return np.column_stack((x, y)) if not homogeneous else np.column_stack((x, y, np.ones(num_points*2)))\n",
        "\n",
        "def plot_star(ax, star, title,global_view):\n",
        "    ax.plot(star[:, 0], star[:, 1], 'b-')\n",
        "    ax.plot([star[-1, 0], star[0, 0]], [star[-1, 1], star[0, 1]], 'b-')  # Connect last to first\n",
        "    ax.set_title(title)\n",
        "    ax.axis('equal')\n",
        "    if global_view:\n",
        "      ax.set_xlim(-10,10)\n",
        "      ax.set_ylim(-10,10)\n",
        "      ax.axhline(0, color='black')\n",
        "      ax.axvline(0, color='black')\n",
        "\n",
        "    ax.grid(True)  # Add grid\n",
        "\n",
        "    star_center = np.mean(star, axis=0)\n",
        "    arrow_start = star_center\n",
        "\n",
        "    vector_to_point = star[0] - star_center\n",
        "    direction = vector_to_point/np.linalg.norm(vector_to_point)  # Normalize the direction vector\n",
        "    arrow_length = np.linalg.norm(vector_to_point)/2\n",
        "    arrow_end = star_center + (arrow_length) * direction\n",
        "    headwidth=6 if global_view else 8\n",
        "    width = 1 if global_view else 2\n",
        "    ###########################################\n",
        "    ax.annotate('', xy=arrow_end, xytext=arrow_start,\n",
        "                arrowprops=dict(facecolor='green', shrink=0.05, width=width, headwidth=headwidth))\n",
        "\n",
        "def plot_stars(stars,global_view=False):\n",
        "    if len(stars) == 1 or not isinstance(stars, list):\n",
        "        print(\"There must be a list of multiple stars to plot\")\n",
        "        return\n",
        "    num_stars = len(stars)\n",
        "    fig, axs = plt.subplots(1, num_stars, figsize=(10, 5))\n",
        "    for i, star in enumerate(stars):\n",
        "        plot_star(axs[i], star[:,:2], f'Star {i+1}',global_view)\n",
        "\n",
        "def rotate(angle_degrees):\n",
        "    angle_radians = np.radians(angle_degrees)\n",
        "    cos_theta = np.cos(angle_radians)\n",
        "    sin_theta = np.sin(angle_radians)\n",
        "    return np.array([\n",
        "        [cos_theta, -sin_theta,0],\n",
        "        [sin_theta, cos_theta,0],\n",
        "        [0,0,1],\n",
        "    ])\n",
        "\n",
        "\n",
        "def scale(sx,sy):\n",
        "    return np.array([\n",
        "        [sx, 0,0],\n",
        "        [0, sy,0],\n",
        "        [0,0,1],\n",
        "    ])\n",
        "\n",
        "def translate(tx, ty):\n",
        "    return np.array([\n",
        "        [1, 0, tx],\n",
        "        [0, 1, ty],\n",
        "        [0, 0, 1]\n",
        "    ])"
      ]
    },
    {
      "cell_type": "code",
      "execution_count": null,
      "id": "bf12b97a",
      "metadata": {},
      "outputs": [],
      "source": [
        "star=generate_star(homogeneous=True)\n",
        "\n",
        "combined_transform =  translate(1,2) @scale(2,2)@ rotate(45)\n",
        "\n",
        "transformed_star = (combined_transform @ star.T).T\n",
        "\n",
        "plot_stars([star,transformed_star],global_view=True)"
      ]
    },
    {
      "cell_type": "code",
      "execution_count": null,
      "id": "327b8868",
      "metadata": {},
      "outputs": [],
      "source": [
        "star=generate_star(center=(1,1),homogeneous=True)\n",
        "\n",
        "combined_transform =  translate(1,2) @ rotate(-45)@translate(-1,-1)\n",
        "\n",
        "transformed_star = (combined_transform @ star.T).T\n",
        "\n",
        "plot_stars([star,transformed_star],global_view=True)"
      ]
    },
    {
      "cell_type": "code",
      "execution_count": null,
      "id": "66d4f5ef",
      "metadata": {},
      "outputs": [],
      "source": [
        "star=generate_star(center=(-4,-4),homogeneous=True)\n",
        "\n",
        "combined_transform = rotate(-180)\n",
        "\n",
        "transformed_star = (combined_transform @ star.T).T\n",
        "\n",
        "plot_stars([star,transformed_star],global_view=True)"
      ]
    },
    {
      "cell_type": "markdown",
      "id": "fe034700",
      "metadata": {
        "id": "fe034700"
      },
      "source": [
        "## **Good luck!**\n"
      ]
    }
  ],
  "metadata": {
    "colab": {
      "provenance": []
    },
    "kernelspec": {
      "display_name": ".venv",
      "language": "python",
      "name": "python3"
    },
    "language_info": {
      "codemirror_mode": {
        "name": "ipython",
        "version": 3
      },
      "file_extension": ".py",
      "mimetype": "text/x-python",
      "name": "python",
      "nbconvert_exporter": "python",
      "pygments_lexer": "ipython3",
      "version": "3.10.12"
    },
    "name": "BME3053C-midterm-study-guide-alternate"
  },
  "nbformat": 4,
  "nbformat_minor": 5
}
