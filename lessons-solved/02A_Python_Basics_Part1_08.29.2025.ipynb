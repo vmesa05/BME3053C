{
  "cells": [
    {
      "cell_type": "markdown",
      "metadata": {
        "id": "view-in-github",
        "colab_type": "text"
      },
      "source": [
        "<a href=\"https://colab.research.google.com/github/vmesa05/BME3053C/blob/main/lessons-solved/02A_Python_Basics_Part1_08.29.2025.ipynb\" target=\"_parent\"><img src=\"https://colab.research.google.com/assets/colab-badge.svg\" alt=\"Open In Colab\"/></a>"
      ]
    },
    {
      "cell_type": "markdown",
      "id": "82411e74",
      "metadata": {
        "id": "82411e74"
      },
      "source": [
        "# BME3053C - Computer Applications for BME\n",
        "\n",
        "<br/>\n",
        "\n",
        "<h1 align=\"center\">Python Basics - Part 1</h1>\n",
        "<h3 align=\"center\">Variables, Data Types, Functions & Lists</h3>\n",
        "\n",
        "---\n",
        "\n",
        "<center><h2>Lesson 02A</h2></center>\n",
        "\n",
        "**📚 Lesson Structure**: This lesson has been split into two parts for better learning:\n",
        "- **Part 1 (this lesson)**: Data fundamentals - Variables, types, functions, lists\n",
        "- **Part 2**: Control flow - Conditionals, loops, classes\n",
        "\n",
        "### Original Combined Lesson: [![Open In Colab](https://colab.research.google.com/assets/colab-badge.svg)](https://colab.research.google.com/github/uf-bme/BME3053C-Fall-2025/blob/main/lessons/02A_Python_Basics_Part1.ipynb)"
      ]
    },
    {
      "cell_type": "markdown",
      "id": "82b34d93",
      "metadata": {
        "id": "82b34d93"
      },
      "source": [
        "## Learning Objectives - Part 1\n",
        "\n",
        "By the end of this lesson, you will be able to:\n",
        "\n",
        "1. **Variables & Data Types**: Create and manipulate variables of different types (int, float, str, bool, list)\n",
        "2. **Type Casting**: Convert between data types and understand when it's necessary  \n",
        "3. **Functions**: Create reusable functions with parameters and return values\n",
        "4. **String Operations**: Manipulate text data using built-in string methods\n",
        "5. **Lists & Slicing**: Work with sequences of data and extract specific elements\n",
        "6. **Array Copying**: Understand the difference between references and copies when working with lists\n",
        "\n",
        "**Note**: In Part 2, we'll cover control flow (if statements, loops) and classes to complete your Python fundamentals.\n",
        "\n",
        "## Why Python for Biomedical Engineering?\n",
        "\n",
        "Python is widely used in biomedical engineering for:\n",
        "- **Data Analysis**: Processing patient data, clinical trial results, and research data\n",
        "- **Medical Imaging**: Analyzing MRI, CT, X-ray, and other medical images\n",
        "- **Signal Processing**: Processing ECG, EEG, EMG, and other biosignals\n",
        "- **Machine Learning**: Developing predictive models for diagnosis and treatment\n",
        "- **Simulation**: Modeling biological systems and medical devices\n",
        "- **Automation**: Streamlining laboratory workflows and data collection\n",
        "\n",
        "Throughout this lesson, we'll use examples relevant to biomedical engineering to help you see the practical applications of these programming concepts.\n",
        "\n",
        "---"
      ]
    },
    {
      "cell_type": "markdown",
      "id": "5a6aa2bc",
      "metadata": {
        "id": "5a6aa2bc"
      },
      "source": [
        "# Variables\n",
        "\n"
      ]
    },
    {
      "cell_type": "markdown",
      "id": "4a83200b",
      "metadata": {
        "id": "4a83200b"
      },
      "source": [
        "Variables are fundamental building blocks in programming that allow us to:\n",
        "\n",
        "* **Store data** - Save values like patient measurements, sensor readings, or calculation results\n",
        "* **Reference data** - Use descriptive names instead of remembering specific values\n",
        "* **Modify data** - Update values as conditions change (e.g., patient status, sensor readings)\n",
        "\n",
        "The `=` symbol is called the **assignment operator** and assigns the value on the right to the variable name on the left:\n",
        "\n",
        "```python\n",
        "# Examples relevant to biomedical engineering\n",
        "heart_rate = 75  # beats per minute\n",
        "patient_temperature = 98.6  # degrees Fahrenheit\n",
        "patient_name = \"John Doe\"\n",
        "is_patient_stable = True\n",
        "```\n",
        "\n",
        "**Important**: The variable name goes on the left, and the value goes on the right!"
      ]
    },
    {
      "cell_type": "code",
      "source": [],
      "metadata": {
        "id": "n49-mwW-SG-r"
      },
      "id": "n49-mwW-SG-r",
      "execution_count": null,
      "outputs": []
    },
    {
      "cell_type": "markdown",
      "id": "5ab428b5",
      "metadata": {
        "id": "5ab428b5"
      },
      "source": [
        "#### ✏️ **Exercise - Medical Variables**  \n",
        "\n",
        "Create variables for a patient's vital signs:\n",
        "1. Create a variable called `systolic_bp` and set it to 120 (systolic blood pressure)\n",
        "2. Create a variable called `diastolic_bp` and set it to 80 (diastolic blood pressure)  \n",
        "3. Create a variable called `oxygen_saturation` and set it to 98.5 (SpO2 percentage)\n",
        "4. Run the cell and check your variable explorer to see if your variables appear\n",
        "\n",
        "**Tip**: In VS Code, you can view variables by opening the \"Variables\" panel while debugging, or by using the Python extension's variable explorer."
      ]
    },
    {
      "cell_type": "code",
      "execution_count": null,
      "id": "50680db1",
      "metadata": {
        "id": "50680db1"
      },
      "outputs": [],
      "source": [
        "# Patient vital sign Variables\n",
        "systolic_bp = 120\n",
        "diastolic_bp = 80\n",
        "oxygen_saturation = 98.5"
      ]
    },
    {
      "cell_type": "code",
      "source": [
        "diastolic_bp = 4\n"
      ],
      "metadata": {
        "id": "Mo2u2lRYTPMu"
      },
      "id": "Mo2u2lRYTPMu",
      "execution_count": null,
      "outputs": []
    },
    {
      "cell_type": "markdown",
      "id": "99b9c564",
      "metadata": {
        "id": "99b9c564"
      },
      "source": [
        "## [snake_case](https://en.wikipedia.org/wiki/Snake_case) Naming Convention\n"
      ]
    },
    {
      "cell_type": "markdown",
      "id": "6716f8c6",
      "metadata": {
        "id": "6716f8c6"
      },
      "source": [
        "\n",
        "**In this course we will expect everyone to use the [snake_case](https://en.wikipedia.org/wiki/Snake_case) naming convention!**\n",
        "* Describe your variables and functions using lower case words that are separated by an underscore. (i.e., ```example_number = 5```)\n",
        "\n",
        "---\n",
        "\n",
        "## **Points will be deducted if this naming convention isn't followed!**\n",
        "\n",
        "---"
      ]
    },
    {
      "cell_type": "markdown",
      "id": "3e8519c2",
      "metadata": {
        "id": "3e8519c2"
      },
      "source": [
        "#### ✏️ **Exercise - Fix the Variable Names**  \n",
        "\n",
        "The variable names below don't follow proper snake_case convention. Fix them:\n",
        "\n",
        "1. Fix `PatientAge=65` to follow snake_case  \n",
        "2. Fix `bloodPressure=120` to follow snake_case\n",
        "\n",
        "**Remember**: Use lowercase letters and underscores to separate words!"
      ]
    },
    {
      "cell_type": "code",
      "execution_count": null,
      "id": "b21db907",
      "metadata": {
        "id": "b21db907"
      },
      "outputs": [],
      "source": [
        "# Fix these variable names to follow snake_case convention:\n",
        "\n",
        "# Wrong: patient_age=65\n",
        "\n",
        "# Wrong: blood_pressure=120"
      ]
    },
    {
      "cell_type": "markdown",
      "id": "c44fac32",
      "metadata": {
        "id": "c44fac32"
      },
      "source": [
        "# Variable Types\n"
      ]
    },
    {
      "cell_type": "markdown",
      "id": "70391d67",
      "metadata": {
        "id": "70391d67"
      },
      "source": [
        "* Variables can store data of different types\n",
        "* You will receive an error message if you try to combine variables with different types (e.g., ```var=3+\"cat\"```)\n"
      ]
    },
    {
      "cell_type": "markdown",
      "id": "29d7c4cf",
      "metadata": {
        "id": "29d7c4cf"
      },
      "source": [
        "\n",
        "## [Built-in Types](https://docs.python.org/3/library/stdtypes.html)"
      ]
    },
    {
      "cell_type": "markdown",
      "id": "0cd5b8ae",
      "metadata": {
        "id": "0cd5b8ae"
      },
      "source": [
        "|Type Categories|Types|Examples|BME Applications|\n",
        "|---|---|---|---|\n",
        "|Numeric| [`int`](https://docs.python.org/3/library/functions.html#int),[`float`](https://docs.python.org/3/library/functions.html#float),[`complex`](https://docs.python.org/3/library/functions.html#complex)|`heart_rate=72`, `temperature=98.6`, `impedance=50+2j`|Patient counts, measurements, electrical signals|\n",
        "|Text|[`str`](https://docs.python.org/3/library/stdtypes.html#text-sequence-type-str)|`patient_name=\"Jane Smith\"`|Patient names, medical notes, device IDs|\n",
        "|Boolean| [`bool`](https://docs.python.org/3/library/stdtypes.html#boolean-type-bool)|`is_patient_stable=True`|Status flags, test results, device states|\n",
        "|None|[`NoneType`](https://docs.python.org/3/library/types.html#types.NoneType)|`test_result=None`|Missing data, uninitialized values|\n",
        "|Sequence|[`list`](https://docs.python.org/3/library/stdtypes.html#lists),[`tuple`](https://docs.python.org/3/library/stdtypes.html#tuples),[`range`](https://docs.python.org/3/library/stdtypes.html#ranges)|`ecg_data=[0.1,0.2]`, `coordinates=(x,y)`, `samples=range(100)`|Time series data, coordinates, sample ranges|\n",
        "|Mapping|[`dict`](https://docs.python.org/3/tutorial/datastructures.html#dictionaries)|`patient={\"name\":\"John\",\"age\":45}`|Patient records, configuration settings|\n",
        "|Set|[`set`](https://docs.python.org/3/tutorial/datastructures.html#sets),[`frozenset`](https://docs.python.org/3/library/stdtypes.html#frozenset)|`symptoms={\"fever\",\"cough\"}`, `required_tests=frozenset({\"CBC\",\"BMP\"})`|Unique collections, medical conditions|\n",
        "|Binary|[`bytes`](https://docs.python.org/3/library/stdtypes.html#bytes),[`bytearray`](https://docs.python.org/3/library/stdtypes.html#bytearray),[`memoryview`](https://docs.python.org/3/library/stdtypes.html#memoryview)|`image_data=b\"...\"`, `buffer=bytearray(512)`, `view=memoryview(data)`|Medical images, raw sensor data, memory buffers|"
      ]
    },
    {
      "cell_type": "markdown",
      "id": "57809df5",
      "metadata": {
        "id": "57809df5"
      },
      "source": [
        "##Common Type Details"
      ]
    },
    {
      "cell_type": "markdown",
      "id": "988ba561",
      "metadata": {
        "id": "988ba561"
      },
      "source": [
        "### **Numeric**"
      ]
    },
    {
      "cell_type": "markdown",
      "id": "0356f90a",
      "metadata": {
        "id": "0356f90a"
      },
      "source": [
        "\n",
        "* [```int```](https://docs.python.org/3/library/functions.html#int): Whole numbers without decimal points\n",
        "  * Required when referencing array indices (e.g., ```var[0]``` is okay but ```var[0.0]``` isn't)\n",
        "* [```float```](https://docs.python.org/3/library/functions.html#float): Double-precision floating point numbers that can represent numbers with 15-17 significant digits of precision\n"
      ]
    },
    {
      "cell_type": "markdown",
      "id": "453e7526",
      "metadata": {
        "id": "453e7526"
      },
      "source": [
        "### **Text**"
      ]
    },
    {
      "cell_type": "markdown",
      "id": "f32d8fcb",
      "metadata": {
        "id": "f32d8fcb"
      },
      "source": [
        "\n",
        "\n",
        "  * [```str```](https://docs.python.org/3/library/stdtypes.html#text-sequence-type-str):Sequences of characters that are wrapped with ```\"\"``` or ```''```\n",
        "    * The type of quotation used isn't important but you should stay consistent\n"
      ]
    },
    {
      "cell_type": "markdown",
      "id": "ef4ee889",
      "metadata": {
        "id": "ef4ee889"
      },
      "source": [
        "### **Boolean**"
      ]
    },
    {
      "cell_type": "markdown",
      "id": "55b164d6",
      "metadata": {
        "id": "55b164d6"
      },
      "source": [
        "\n",
        "  * [```bool```](https://docs.python.org/3/library/stdtypes.html#boolean-type-bool): Similar to a light switch, can  either be True or False\n",
        "  * You can use type casting to convert numbers to bool and vice versa."
      ]
    },
    {
      "cell_type": "markdown",
      "id": "a3760341",
      "metadata": {
        "id": "a3760341"
      },
      "source": [
        "### **Sequence**"
      ]
    },
    {
      "cell_type": "markdown",
      "id": "cfef4250",
      "metadata": {
        "id": "cfef4250"
      },
      "source": [
        "\n",
        "  * [```list```](https://docs.python.org/3/library/stdtypes.html#lists): lists of objects that can be modified after creating (lists are mutable)\n",
        "    * Elements in a list can be referenced using brackets ```[]```\n",
        "      * ```A[0]``` will reference the first element of the list (sequences start at 0 in Python and 1 in MATLAB)\n",
        "      * ```A[-1]``` will reference the last element in a list\n",
        "      * ```ints``` must be used to reference specific elements in a list (```x[0.0]``` will return an error)"
      ]
    },
    {
      "cell_type": "markdown",
      "id": "9b38d9ad",
      "metadata": {
        "id": "9b38d9ad"
      },
      "source": [
        "#### Checking an Object's Type\n",
        "**Python provides a ```type()``` function that can be used to check a variable's type**"
      ]
    },
    {
      "cell_type": "code",
      "execution_count": null,
      "id": "e162cf67",
      "metadata": {
        "id": "e162cf67",
        "outputId": "4eeac62b-a97f-497a-b209-cb16898f3921",
        "colab": {
          "base_uri": "https://localhost:8080/"
        }
      },
      "outputs": [
        {
          "output_type": "stream",
          "name": "stdout",
          "text": [
            "Variable types in medical data:\n",
            "heart_rate = 72, type = <class 'int'>\n",
            "temperature = 98.6, type = <class 'float'>\n",
            "patient_name = 'Alice Johnson', type = <class 'str'>\n",
            "is_fever = True, type = <class 'bool'>\n"
          ]
        }
      ],
      "source": [
        "# Checking types of medical data\n",
        "heart_rate = 72  # integer - whole number of beats per minute\n",
        "temperature = 98.6  # float - body temperature with decimal precision\n",
        "patient_name = \"Alice Johnson\"  # string - text data\n",
        "is_fever = True  # boolean - true/false condition\n",
        "\n",
        "print(\"Variable types in medical data:\")\n",
        "print(f\"heart_rate = {heart_rate}, type = {type(heart_rate)}\")\n",
        "print(f\"temperature = {temperature}, type = {type(temperature)}\")\n",
        "print(f\"patient_name = '{patient_name}', type = {type(patient_name)}\")\n",
        "print(f\"is_fever = {is_fever}, type = {type(is_fever)}\")"
      ]
    },
    {
      "cell_type": "markdown",
      "id": "2f211d6b",
      "metadata": {
        "id": "2f211d6b"
      },
      "source": [
        "## Type Casting"
      ]
    },
    {
      "cell_type": "markdown",
      "id": "b2544de9",
      "metadata": {
        "id": "b2544de9"
      },
      "source": [
        "### Implicit Type Casting\n",
        "Python automatically converts data types into another when it's required for a  particular operation."
      ]
    },
    {
      "cell_type": "code",
      "execution_count": null,
      "id": "6151248f",
      "metadata": {
        "id": "6151248f",
        "outputId": "d5125e3a-8092-4906-f0d2-775f84e2f809",
        "colab": {
          "base_uri": "https://localhost:8080/"
        }
      },
      "outputs": [
        {
          "output_type": "stream",
          "name": "stdout",
          "text": [
            "BMI Calculation:\n",
            "Weight: 70 kg (type: <class 'int'>)\n",
            "Height: 1.75 m (type: <class 'float'>)\n",
            "BMI: 22.86 (type: <class 'float'>)\n"
          ]
        }
      ],
      "source": [
        "# Example: Calculating BMI (Body Mass Index)\n",
        "weight_kg = 70  # integer: weight in kilograms\n",
        "height_m = 1.75  # float: height in meters\n",
        "\n",
        "# Python automatically converts int to float when needed\n",
        "bmi = weight_kg / (height_m ** 2)\n",
        "\n",
        "print('BMI Calculation:')\n",
        "print(f'Weight: {weight_kg} kg (type: {type(weight_kg)})')\n",
        "print(f'Height: {height_m} m (type: {type(height_m)})')\n",
        "print(f'BMI: {bmi:.2f} (type: {type(bmi)})')\n",
        "\n",
        "# Notice how the result is automatically a float"
      ]
    },
    {
      "cell_type": "markdown",
      "id": "792fb814",
      "metadata": {
        "id": "792fb814"
      },
      "source": [
        "### Explicit Type Casting\n",
        "Explicit type casting can be used to manually convert a variable to a specific type"
      ]
    },
    {
      "cell_type": "code",
      "execution_count": null,
      "id": "15f4bf13",
      "metadata": {
        "id": "15f4bf13",
        "outputId": "3e2418ed-53a0-478e-efa3-879b768dfda1",
        "colab": {
          "base_uri": "https://localhost:8080/"
        }
      },
      "outputs": [
        {
          "output_type": "stream",
          "name": "stdout",
          "text": [
            "Heart Rate Analysis:\n",
            "Measured: 72.8 bpm (type: <class 'float'>)\n",
            "Rounded: 72 bpm (type: <class 'int'>)\n",
            "Target: 70 bpm (type: <class 'int'>)\n",
            "Difference: 2 bpm (type: <class 'int'>)\n"
          ]
        }
      ],
      "source": [
        "# Example: Processing heart rate data\n",
        "measured_heart_rate = 72.8  # float from a sensor\n",
        "target_heart_rate = 70  # integer target value\n",
        "\n",
        "# Convert float to int for comparison (rounds down)\n",
        "heart_rate_rounded = int(measured_heart_rate)\n",
        "difference = heart_rate_rounded - target_heart_rate\n",
        "\n",
        "print('Heart Rate Analysis:')\n",
        "print(f'Measured: {measured_heart_rate} bpm (type: {type(measured_heart_rate)})')\n",
        "print(f'Rounded: {heart_rate_rounded} bpm (type: {type(heart_rate_rounded)})')\n",
        "print(f'Target: {target_heart_rate} bpm (type: {type(target_heart_rate)})')\n",
        "print(f'Difference: {difference} bpm (type: {type(difference)})')"
      ]
    },
    {
      "cell_type": "markdown",
      "id": "f161c259",
      "metadata": {
        "id": "f161c259"
      },
      "source": [
        "#### **Casting a float to an integer will always round down!**\n"
      ]
    },
    {
      "cell_type": "code",
      "execution_count": null,
      "id": "2a5d2664",
      "metadata": {
        "id": "2a5d2664",
        "outputId": "5c5329cc-7089-4b01-c97d-935d20b67704",
        "colab": {
          "base_uri": "https://localhost:8080/"
        }
      },
      "outputs": [
        {
          "output_type": "stream",
          "name": "stdout",
          "text": [
            "z = 8\n",
            "x type = <class 'int'>\n",
            "y type = <class 'float'>\n",
            "z type = <class 'int'>\n"
          ]
        }
      ],
      "source": [
        "x = 5\n",
        "y = 3.8\n",
        "\n",
        "z = x + int(y)\n",
        "print('z =', z)\n",
        "print('x type =',type(x))\n",
        "print('y type =',type(y))\n",
        "print('z type =',type(z))"
      ]
    },
    {
      "cell_type": "markdown",
      "id": "83fd377f",
      "metadata": {
        "id": "83fd377f"
      },
      "source": [
        "#### ✏️ **Exercise - Medical Data Type Casting**  \n",
        "\n",
        "Complete the following tasks:\n",
        "\n",
        "1. **Boolean Casting**: Change the value of `glucose_level` so that when cast as a `bool`, it evaluates to `False`\n",
        "   - *Hint*: What number evaluates to `False` when cast as a boolean?\n",
        "\n",
        "2. **Boolean to Number**: Cast `True` to both an `int` and `float`, then print both values\n",
        "   - What values do you get? This is useful for counting conditions (True = 1, False = 0)\n",
        "\n",
        "3. **Medical Application**: If a patient has glucose level > 100, they might have diabetes. Use boolean casting to create a simple diabetes risk indicator."
      ]
    },
    {
      "cell_type": "code",
      "execution_count": null,
      "id": "db3d80a9",
      "metadata": {
        "id": "db3d80a9",
        "outputId": "ca6585af-e3a8-446a-f322-0b6bb3c9e5b1",
        "colab": {
          "base_uri": "https://localhost:8080/"
        }
      },
      "outputs": [
        {
          "output_type": "stream",
          "name": "stdout",
          "text": [
            "Glucose level 0 as bool: False\n",
            "True as int: 1\n",
            "True as float: True\n",
            "\n",
            "Patient glucose: 110 mg/dL\n",
            "Diabetes risk: True\n",
            "Risk score: 1 (0 = low risk, 1 = high risk)\n"
          ]
        }
      ],
      "source": [
        "# Complete the exercises below:\n",
        "\n",
        "# 1. Boolean casting - change glucose_level so it evaluates to False when cast as bool\n",
        "glucose_level = 0\n",
        "# False = 0. Any number that is >0 will be True (if it has value)\n",
        "\n",
        "print(f\"Glucose level {glucose_level} as bool: {bool(glucose_level)}\")\n",
        "\n",
        "# 2. Boolean to number casting - cast True to both int and float\n",
        "true_as_int = 1\n",
        "true_as_float = bool(true_as_int)\n",
        "# Any number will output 1 if true or 0 if false\n",
        "\n",
        "print(f\"True as int: {true_as_int}\")\n",
        "print(f\"True as float: {true_as_float}\")\n",
        "\n",
        "# 3. Medical application - create a diabetes risk indicator\n",
        "patient_glucose = 110  # mg/dL\n",
        "\n",
        "# Your code here: create a boolean variable 'has_diabetes_risk'\n",
        "# that is True if patient_glucose > 100, False otherwise\n",
        "has_diabetes_risk = patient_glucose > 100\n",
        "\n",
        "# Your code here: convert the boolean to a risk score (0 or 1)\n",
        "risk_score = int(has_diabetes_risk)\n",
        "\n",
        "print(f\"\\nPatient glucose: {patient_glucose} mg/dL\")\n",
        "print(f\"Diabetes risk: {has_diabetes_risk}\")\n",
        "print(f\"Risk score: {risk_score} (0 = low risk, 1 = high risk)\")"
      ]
    },
    {
      "cell_type": "markdown",
      "id": "4188cb42",
      "metadata": {
        "id": "4188cb42"
      },
      "source": [
        "# Functions\n",
        "\n",
        "Functions are one of the most powerful features in programming that enable you to:\n",
        "\n",
        "* **Organize code** - Group related operations together\n",
        "* **Reuse code** - Write once, use many times  \n",
        "* **Avoid repetition** - Follow the DRY principle (Don't Repeat Yourself)\n",
        "* **Make code readable** - Give meaningful names to complex operations\n",
        "* **Test easily** - Isolate functionality for easier debugging\n",
        "\n",
        "In biomedical engineering, functions are essential for:\n",
        "- **Data processing pipelines** - Standardized analysis of medical data\n",
        "- **Calculation libraries** - Reusable medical formulas and conversions\n",
        "- **Device control** - Consistent interfaces for medical equipment\n",
        "- **Quality assurance** - Repeatable validation procedures\n",
        "\n",
        "Functions are called using the function name followed by parentheses: `print('hello')`"
      ]
    },
    {
      "cell_type": "markdown",
      "id": "f657db75",
      "metadata": {
        "id": "f657db75"
      },
      "source": [
        "## Creating Functions\n",
        "\n",
        "**All code inside a function must be indented using tab or four spaces.**\n",
        "\n",
        "### Function Syntax:\n",
        "1. Begin with `def`, followed by an appropriate function name\n",
        "2. Add parentheses `()` after the function name\n",
        "3. Inside parentheses, list input arguments separated by commas (functions can have zero arguments)\n",
        "4. Add a colon `:` after the closing parentheses  \n",
        "5. Write the function body (indented)\n",
        "7. Use **parameters** (input variables) to make functions flexible and reusable\n",
        "8. Parameters act like variables inside the function that receive values when called\n",
        "6. **Optional**: Add a `return` statement to output a value\n",
        "\n",
        "### Basic Function Example:\n",
        "```python\n",
        "def add_two_numbers(x, y):\n",
        "    local_var = x + y\n",
        "    return local_var\n",
        "\n",
        "print(add_two_numbers(3, 4))  # Output: 7\n",
        "```\n",
        "\n",
        "**Important**: Variables created inside functions (like `local_var`) are **local** - they only exist inside the function and won't appear in your variable explorer after the function finishes running."
      ]
    },
    {
      "cell_type": "markdown",
      "id": "094e3082",
      "metadata": {
        "id": "094e3082"
      },
      "source": [
        "## Function Naming Best Practices\n",
        "\n",
        "Like variables, function names should follow these rules:\n",
        "\n",
        "### **Technical Rules:**\n",
        "- Can contain **only** letters, digits, and underscores (`_`)\n",
        "- Cannot start with a digit\n",
        "- Cannot be a Python reserved word\n",
        "- Use **snake_case** convention (lowercase with underscores)\n",
        "\n",
        "### **Medical Software Guidelines:**\n",
        "- **Be descriptive**: `calculate_bmi()` not `calc()`\n",
        "- **Use verbs**: Functions *do* things - `convert_units()`, `validate_input()`, `analyze_ecg()`\n",
        "- **Be specific**: `calculate_systolic_bp()` not `calculate_bp()`\n",
        "- **Follow conventions**: `get_patient_data()`, `set_alarm_threshold()`, `is_valid_heart_rate()`\n",
        "\n",
        "### **Examples of Good Function Names:**\n",
        "```python\n",
        "def convert_celsius_to_fahrenheit(temp_c):\n",
        "def calculate_body_mass_index(weight_kg, height_m):\n",
        "def validate_blood_pressure_range(systolic, diastolic):\n",
        "def is_patient_eligible_for_study(age, condition):\n",
        "```\n",
        "\n",
        "**Medical Importance**: Clear function names are critical in healthcare software for safety, compliance, and maintainability!"
      ]
    },
    {
      "cell_type": "code",
      "execution_count": 1,
      "id": "5efc837f",
      "metadata": {
        "id": "5efc837f",
        "outputId": "d685a687-90a5-4268-871c-bf44cc4bb846",
        "colab": {
          "base_uri": "https://localhost:8080/"
        }
      },
      "outputs": [
        {
          "output_type": "stream",
          "name": "stdout",
          "text": [
            "Python Reserved Words (cannot be used as function names):\n",
            "['False', 'None', 'True', 'and', 'as', 'assert', 'async', 'await', 'break', 'class', 'continue', 'def', 'del', 'elif', 'else', 'except', 'finally', 'for', 'from', 'global', 'if', 'import', 'in', 'is', 'lambda', 'nonlocal', 'not', 'or', 'pass', 'raise', 'return', 'try', 'while', 'with', 'yield']\n",
            "\n",
            "Total reserved words: 35\n",
            "\n",
            "Common ones to avoid: def, if, else, for, while, return, class, import, etc.\n"
          ]
        }
      ],
      "source": [
        "# Show Python reserved words that cannot be used as function names\n",
        "import keyword\n",
        "\n",
        "print(\"Python Reserved Words (cannot be used as function names):\")\n",
        "print(keyword.kwlist)\n",
        "\n",
        "print(f\"\\nTotal reserved words: {len(keyword.kwlist)}\")\n",
        "print(\"\\nCommon ones to avoid: def, if, else, for, while, return, class, import, etc.\")"
      ]
    },
    {
      "cell_type": "markdown",
      "id": "23db4ff0",
      "metadata": {
        "id": "23db4ff0"
      },
      "source": [
        "#### ✏️ **Exercise - Create A Function**  \n",
        "\n",
        "**Create a simple function that multiplies two numbers**\n",
        "\n",
        "**Task**:\n",
        "1. Create a function that multiplies two numbers\n",
        "2. Call the funciton `multiply_two_numbers`\n",
        "3. Call your function to test it!"
      ]
    },
    {
      "cell_type": "code",
      "execution_count": 9,
      "id": "d5213c0f",
      "metadata": {
        "id": "d5213c0f",
        "outputId": "647d7fe8-5048-45cd-fc50-432d37a79755",
        "colab": {
          "base_uri": "https://localhost:8080/"
        }
      },
      "outputs": [
        {
          "output_type": "stream",
          "name": "stdout",
          "text": [
            "14\n"
          ]
        }
      ],
      "source": [
        "#Create and call your function below\n",
        "def multiply_two_numbers(number1, number2):\n",
        "  result = number1 * number2\n",
        "  return result\n",
        "\n",
        "#Or you can do this:\n",
        "#def multiply_two_numbers(number1, number2):\n",
        "  #return = number1 * number2\n",
        "\n",
        "print(multiply_two_numbers(7, 2))"
      ]
    },
    {
      "cell_type": "markdown",
      "id": "9ce52ada",
      "metadata": {
        "id": "9ce52ada"
      },
      "source": [
        "## [Built-in Functions](https://docs.python.org/3/library/functions.html)\n",
        "\n",
        "Python provides many built-in functions that are always available for common tasks:\n",
        "\n",
        "### **Mathematical Operations**:\n",
        "- `round()`, `sum()`, `min()`, `max()`, `abs()` - Basic math operations\n",
        "\n",
        "### **Type Conversion**:\n",
        "- `int()`, `float()`, `str()`, `list()` - Convert between data types\n",
        "\n",
        "### **String/Data Operations**:\n",
        "- `len()`, `sorted()`, `reversed()` - Work with sequences\n",
        "\n",
        "### **Input/Output**:\n",
        "- `print()`, `input()` - Display output and get user input\n",
        "\n",
        "### **Object Inspection**:\n",
        "- `type()`, `help()` - Get information about objects\n",
        "\n",
        "**Medical Example**: Built-in functions are perfect for processing vital signs data!"
      ]
    },
    {
      "cell_type": "code",
      "execution_count": 10,
      "id": "12912e44",
      "metadata": {
        "id": "12912e44",
        "outputId": "83cf6c69-401e-4e85-ee11-90507507d317",
        "colab": {
          "base_uri": "https://localhost:8080/"
        }
      },
      "outputs": [
        {
          "output_type": "stream",
          "name": "stdout",
          "text": [
            "Heart Rate Analysis Using Built-in Functions:\n",
            "Measurements: [72, 68, 75, 82, 69, 77, 71]\n",
            "Number of measurements: 7\n",
            "Average heart rate: 73.4 bpm\n",
            "Minimum heart rate: 68 bpm\n",
            "Maximum heart rate: 82 bpm\n",
            "Range: 14 bpm\n",
            "\n",
            "Blood Glucose Reading:\n",
            "Exact: 126.7 mg/dL\n",
            "Rounded: 127 mg/dL\n",
            "Rounded to 1 decimal: 126.7 mg/dL\n",
            "\n",
            "Rounding Examples:\n",
            "2.5 rounded = 2\n",
            "3.5 rounded = 4\n"
          ]
        }
      ],
      "source": [
        "# Example: Using built-in functions with medical data\n",
        "heart_rates = [72, 68, 75, 82, 69, 77, 71]  # Daily heart rate measurements (bpm)\n",
        "\n",
        "print(\"Heart Rate Analysis Using Built-in Functions:\")\n",
        "print(f\"Measurements: {heart_rates}\")\n",
        "print(f\"Number of measurements: {len(heart_rates)}\")\n",
        "print(f\"Average heart rate: {sum(heart_rates) / len(heart_rates):.1f} bpm\")\n",
        "print(f\"Minimum heart rate: {min(heart_rates)} bpm\")\n",
        "print(f\"Maximum heart rate: {max(heart_rates)} bpm\")\n",
        "print(f\"Range: {max(heart_rates) - min(heart_rates)} bpm\")\n",
        "\n",
        "# Demonstrate rounding behavior - important for medical measurements!\n",
        "glucose_reading = 126.7  # Blood glucose in mg/dL\n",
        "print(f\"\\nBlood Glucose Reading:\")\n",
        "print(f\"Exact: {glucose_reading} mg/dL\")\n",
        "print(f\"Rounded: {round(glucose_reading)} mg/dL\")\n",
        "print(f\"Rounded to 1 decimal: {round(glucose_reading, 1)} mg/dL\")\n",
        "\n",
        "# Note: Python's round() function uses \"banker's rounding\"\n",
        "print(f\"\\nRounding Examples:\")\n",
        "print(f\"2.5 rounded = {round(2.5)}\")  # Rounds to 2 (even number)\n",
        "print(f\"3.5 rounded = {round(3.5)}\")  # Rounds to 4 (even number)"
      ]
    },
    {
      "cell_type": "markdown",
      "id": "83e8bcd9",
      "metadata": {
        "id": "83e8bcd9"
      },
      "source": [
        "## [Default Arguments in Functions](https://docs.python.org/3/tutorial/controlflow.html#default-argument-values)\n",
        "\n",
        "Default arguments allow you to create optional parameters that have predetermined values if not specified:\n",
        "\n",
        "* **Providing the argument** will replace the default with your own value\n",
        "* **Not providing the argument** will use the default value\n",
        "* **Default arguments must come after non-default arguments**\n",
        "\n",
        "**Medical Example**: Many medical calculations have standard reference values that can be defaults."
      ]
    },
    {
      "cell_type": "code",
      "execution_count": 14,
      "id": "8308cd85",
      "metadata": {
        "id": "8308cd85",
        "outputId": "cb166bb8-fe11-4cd1-ed8d-8fee9c80f3f4",
        "colab": {
          "base_uri": "https://localhost:8080/"
        }
      },
      "outputs": [
        {
          "output_type": "stream",
          "name": "stdout",
          "text": [
            "Hello, Patient! Welcome to the clinic.\n",
            "Hello, Dr. Smith! Welcome to the clinic.\n",
            "\n",
            "Hello, Patient! Welcome to CliniX.\n",
            "Hello, Vivian! Welcome to CliniX.\n",
            "\n",
            "BMI Calculations:\n",
            "Default precision: 22.9 kg/m²\n",
            "High precision: 22.857 kg/m²\n",
            "No decimals: 23.0 kg/m²\n",
            "\n",
            "Blood Pressure Categories:\n",
            "120/80: Elevated/Pre-hypertension\n",
            "135/85: Elevated/Pre-hypertension\n",
            "150/95: High (Hypertension)\n",
            "150/95 (pediatric thresholds): High (Hypertension)\n"
          ]
        }
      ],
      "source": [
        "# Example 1: Simple default argument\n",
        "def greet_patient(name=\"Patient\"):\n",
        "    \"\"\"Greet a patient with an optional name.\"\"\"\n",
        "    print(f\"Hello, {name}! Welcome to the clinic.\")\n",
        "\n",
        "# Test with and without providing the name\n",
        "greet_patient()  # Uses default: \"Patient\"\n",
        "greet_patient(\"Dr. Smith\")  # Uses provided name\n",
        "\n",
        "print()\n",
        "\n",
        "## Known parapaters must be listed first\n",
        "def greet_patient(clinic_name, name=\"Patient\"):\n",
        "    \"\"\"Greet a patient with an optional name.\"\"\"\n",
        "    print(f\"Hello, {name}! Welcome to {clinic_name}.\")\n",
        "\n",
        "greet_patient(\"CliniX\")\n",
        "greet_patient(\"CliniX\", \"Vivian\")\n",
        "\n",
        "print()\n",
        "\n",
        "# Example 2: Medical calculation with default reference values\n",
        "def calculate_bmi(weight_kg, height_m, precision=1):\n",
        "    \"\"\"\n",
        "    Calculate Body Mass Index with optional precision.\n",
        "\n",
        "    Args:\n",
        "        weight_kg (float): Weight in kilograms\n",
        "        height_m (float): Height in meters\n",
        "        precision (int): Decimal places for result (default: 1)\n",
        "\n",
        "    Returns:\n",
        "        float: BMI value rounded to specified precision\n",
        "    \"\"\"\n",
        "    bmi = weight_kg / (height_m ** 2)\n",
        "    return round(bmi, precision)\n",
        "\n",
        "# Test with different precision levels\n",
        "weight = 70  # kg\n",
        "height = 1.75  # meters\n",
        "\n",
        "print(\"BMI Calculations:\")\n",
        "print(f\"Default precision: {calculate_bmi(weight, height)} kg/m²\")\n",
        "print(f\"High precision: {calculate_bmi(weight, height, 3)} kg/m²\")\n",
        "print(f\"No decimals: {calculate_bmi(weight, height, 0)} kg/m²\")\n",
        "\n",
        "# Example 3: Blood pressure categorization with default thresholds\n",
        "def categorize_blood_pressure(systolic, diastolic,\n",
        "                            normal_sys=120, normal_dia=80,\n",
        "                            high_sys=140, high_dia=90):\n",
        "    \"\"\"\n",
        "    Categorize blood pressure using configurable thresholds.\n",
        "    Default values based on American Heart Association guidelines.\n",
        "    \"\"\"\n",
        "    if systolic < normal_sys and diastolic < normal_dia:\n",
        "        return \"Normal\"\n",
        "    elif systolic < high_sys and diastolic < high_dia:\n",
        "        return \"Elevated/Pre-hypertension\"\n",
        "    else:\n",
        "        return \"High (Hypertension)\"\n",
        "\n",
        "print(f\"\\nBlood Pressure Categories:\")\n",
        "print(f\"120/80: {categorize_blood_pressure(120, 80)}\")\n",
        "print(f\"135/85: {categorize_blood_pressure(135, 85)}\")\n",
        "print(f\"150/95: {categorize_blood_pressure(150, 95)}\")\n",
        "\n",
        "# Using custom thresholds for pediatric patients\n",
        "print(f\"150/95 (pediatric thresholds): {categorize_blood_pressure(150, 95, normal_sys=110, normal_dia=70, high_sys=130, high_dia=85)}\")"
      ]
    },
    {
      "cell_type": "markdown",
      "id": "e937db87",
      "metadata": {
        "id": "e937db87"
      },
      "source": [
        "## Function Documentation\n",
        "\n",
        "**Documentation is crucial in medical software for safety, regulatory compliance, and team collaboration!**\n",
        "\n",
        "### **Docstrings**\n",
        "Use triple quotes to add documentation inside your functions:\n",
        "\n",
        "\n",
        "```python\n",
        "def convert_units_pressure(pressure_mmhg, target_unit=\"kPa\"):\n",
        "  \"\"\"\n",
        "  Convert blood pressure from mmHg to other units.\n",
        "  \n",
        "  Args:\n",
        "    pressure_mmhg (float): Pressure in millimeters of mercury\n",
        "    target_unit (str): Target unit - \"kPa\" for kilopascals, \"psi\" for pounds per square inch\n",
        "  \n",
        "  Returns:\n",
        "    float: Converted pressure value\n",
        "  \n",
        "  Example:\n",
        "    >>> convert_units_pressure(120, \"kPa\")\n",
        "    15.998\n",
        "    >>> convert_units_pressure(80, \"psi\")\n",
        "    1.549\n",
        "  \"\"\"\n",
        "  if target_unit == \"kPa\":\n",
        "    return pressure_mmhg * 0.133322\n",
        "  elif target_unit == \"psi\":\n",
        "    return pressure_mmhg * 0.01934\n",
        "  else:\n",
        "    return pressure_mmhg  # Return original if unit not recognized\n",
        "````\n",
        "\n",
        "### **Why Documentation Matters in BME:**\n",
        "- **Patient Safety**: Clear function behavior prevents medical errors\n",
        "- **FDA Compliance**: Medical device software requires thorough documentation\n",
        "- **Team Collaboration**: Other engineers can understand and maintain your code\n",
        "- **Code Reuse**: Well-documented functions can be safely used across projects\n",
        "\n",
        "**Best Practice**: Document what the function does, its parameters, return values, and provide usage examples!"
      ]
    },
    {
      "cell_type": "code",
      "execution_count": null,
      "id": "8f215c55",
      "metadata": {
        "id": "8f215c55"
      },
      "outputs": [],
      "source": [
        "# Example function - adding two numbers (provided as example)\n",
        "def add_two_numbers(x, y):\n",
        "    local_var = x + y  # This variable only exists inside the function\n",
        "    return local_var\n",
        "\n",
        "# Test the example function\n",
        "result = add_two_numbers(3, 4)\n",
        "print(f\"3 + 4 = {result}\")\n"
      ]
    },
    {
      "cell_type": "markdown",
      "id": "48435538",
      "metadata": {
        "id": "48435538"
      },
      "source": [
        "#### ✏️ **Exercise - Convert Temperature to Celcius**  \n",
        "\n",
        "**Medical Context**: Create a simple function to convert body temperature between Fahrenheit and Celsius.\n",
        "\n",
        "**Task**:\n",
        "1. Copy and run the function below that adds two numbers\n",
        "2. Check if `local_var` appears in your variable explorer (it shouldn't!)\n",
        "3. Create your own function called `fahrenheit_to_celsius()` that takes a temperature in Fahrenheit and returns it in Celsius\n",
        "\n",
        "**Formula**: °C = (°F - 32) × 5/9\n",
        "\n",
        "**Test your function**: Normal body temperature is 98.6°F, which should convert to 37°C"
      ]
    },
    {
      "cell_type": "code",
      "execution_count": null,
      "id": "0dfef75a",
      "metadata": {
        "id": "0dfef75a"
      },
      "outputs": [],
      "source": [
        "#create your function below\n",
        "\n",
        "# Test your function with these values:\n",
        "body_temp_f = 98.6  # Normal body temperature in Fahrenheit\n",
        "fever_temp_f = 102.2  # Fever temperature\n",
        "\n",
        "# Your code here: use your function to convert the temperatures\n",
        "body_temp_c = # Use your function here\n",
        "fever_temp_c = # Use your function here\n",
        "\n",
        "print(f\"\\nTemperature Conversion:\")\n",
        "print(f\"{body_temp_f}°F = {body_temp_c:.1f}°C\")\n",
        "print(f\"{fever_temp_f}°F = {fever_temp_c:.1f}°C (fever!)\")"
      ]
    },
    {
      "cell_type": "markdown",
      "id": "3cf0f53d",
      "metadata": {
        "id": "3cf0f53d"
      },
      "source": [
        "## Variable Scope\n",
        "\n",
        "**Scope** determines where variables can be accessed in your program. Understanding scope is crucial for writing reliable medical software!\n",
        "\n",
        "### **Local Scope**\n",
        "Variables created inside functions are **local** - they only exist within that function:\n",
        "\n",
        "```python\n",
        "def calculate_heart_rate_zones(max_hr):\n",
        "  zone_1 = max_hr * 0.6  # Local variable - only exists in this function\n",
        "  zone_2 = max_hr * 0.7  # Local variable\n",
        "  return zone_1, zone_2\n",
        "\n",
        "# zone_1 and zone_2 don't exist outside the function!\n",
        "```\n",
        "\n",
        "### **Global Scope**\n",
        "Variables created outside functions are **global** - they can be accessed from anywhere:\n",
        "\n",
        "```python\n",
        "NORMAL_BODY_TEMP = 98.6  # Global variable - accessible everywhere\n",
        "\n",
        "def check_fever(patient_temp):\n",
        "  if patient_temp > NORMAL_BODY_TEMP:  # Can access global variable\n",
        "    return True\n",
        "  return False\n",
        "```\n",
        "\n",
        "### **The `global` Keyword**\n",
        "To modify a global variable inside a function, use the `global` keyword to declare it before use:\n",
        "\n",
        "```python\n",
        "patient_count = 0  # Global variable\n",
        "\n",
        "def admit_patient():\n",
        "  global patient_count  # Declare we want to modify the global variable\n",
        "  patient_count += 1    # Now we can change it\n",
        "  \n",
        "def discharge_patient():\n",
        "  global patient_count\n",
        "  patient_count -= 1\n",
        "```\n",
        "\n",
        "### **Best Practices**\n",
        "- **Minimize global variables** - They make code harder to test and debug\n",
        "- **Use function parameters** instead of relying on global state\n",
        "- **Constants in UPPERCASE** - Global constants (like reference values) are acceptable"
      ]
    },
    {
      "cell_type": "code",
      "execution_count": null,
      "id": "b16390ea",
      "metadata": {
        "id": "b16390ea",
        "outputId": "20566888-2120-458b-ec04-d8189696d1cc"
      },
      "outputs": [
        {
          "name": "stdout",
          "output_type": "stream",
          "text": [
            "Initial patient count: 5\n",
            "Discharged patient. Total: 4\n",
            "ERROR: local variable 'patient_count' referenced before assignment\n",
            "Fix: Add 'global patient_count' at the start of admit_patient()\n",
            "Final patient count: 4\n"
          ]
        }
      ],
      "source": [
        "# Example showing problems with mixing local and global variables\n",
        "\n",
        "patient_count = 5  # Global variable\n",
        "\n",
        "def admit_patient():\n",
        "  # BUG: Forgot 'global' keyword - creates a local variable instead!\n",
        "  patient_count = patient_count + 1  # This will cause an UnboundLocalError\n",
        "  print(f\"Admitted patient. Total: {patient_count}\")\n",
        "\n",
        "def discharge_patient():\n",
        "  global patient_count  # Correct way to modify global variable\n",
        "  patient_count = patient_count - 1\n",
        "  print(f\"Discharged patient. Total: {patient_count}\")\n",
        "\n",
        "\n",
        "\n",
        "print(f\"Initial patient count: {patient_count}\")\n",
        "\n",
        "# This works fine\n",
        "discharge_patient()\n",
        "\n",
        "# This will cause an error!\n",
        "try:\n",
        "  admit_patient()\n",
        "except UnboundLocalError as e:\n",
        "  print(f\"ERROR: {e}\")\n",
        "  print(\"Fix: Add 'global patient_count' at the start of admit_patient()\")\n",
        "\n",
        "print(f\"Final patient count: {patient_count}\")\n"
      ]
    },
    {
      "cell_type": "markdown",
      "id": "549f7ed7",
      "metadata": {
        "id": "549f7ed7"
      },
      "source": [
        "# Order of Operations\n",
        "Python follows PEMDAS rules when evaluating complex expressions"
      ]
    },
    {
      "cell_type": "markdown",
      "id": "7105fb70",
      "metadata": {
        "id": "7105fb70"
      },
      "source": [
        "<center><img  src=\"https://github.com/snsie/aicc24/raw/main/graphics/pemdas.gif\" alt='Colab Features'/></center>"
      ]
    },
    {
      "cell_type": "markdown",
      "id": "203d475d",
      "metadata": {
        "id": "203d475d"
      },
      "source": [
        "#### ✏️ **Exercise - Medical Dosage Calculation**\n",
        "\n",
        "**Scenario**: You need to calculate a medication dosage using this formula: $\\frac{19 - 4^3}{5}$\n",
        "\n",
        "1. Create a function called `calculate_dosage()` that computes this expression\n",
        "2. The function should return the calculated dosage value\n",
        "3. Test your function by calling it and printing the result\n",
        "\n",
        "**Hints:**\n",
        "- Use `**` for exponentiation (not `^`)  \n",
        "- Remember PEMDAS: Parentheses, Exponents, Multiplication/Division, Addition/Subtraction\n",
        "- The expected result should be **-9.0**\n",
        "- No parameters needed for this function\n",
        "\n",
        "**Medical Context**: In real applications, dosage calculations often involve complex formulas considering patient weight, age, kidney function, etc."
      ]
    },
    {
      "cell_type": "code",
      "execution_count": null,
      "id": "38424781",
      "metadata": {
        "id": "38424781"
      },
      "outputs": [],
      "source": [
        "# Your task: Create the calculate_dosage() function\n",
        "# Expected result: -9.0\n",
        "\n",
        "def calculate_dosage():\n",
        "    \"\"\"\n",
        "    Calculate medication dosage using the formula:\n",
        "    Returns the calculated dosage value.\n",
        "    \"\"\"\n",
        "    # Your code here: implement the calculation following PEMDAS rules\n",
        "    # Remember: use ** for exponentiation, not ^\n",
        "\n",
        "    dosage = # Complete this calculation\n",
        "    return dosage\n",
        "\n",
        "# Test your function (uncomment the lines below once you complete the function)\n",
        "# result = calculate_dosage()\n",
        "# print(f\"Calculated dosage: {result}\")\n",
        "\n",
        "# Once your function works, uncomment these lines to verify step-by-step:\n",
        "# print(\"\\nStep-by-step verification:\")\n",
        "# print(f\"4^3 = {4**3}\")\n",
        "# print(f\"19 - 64 = {19 - 4**3}\")\n",
        "# print(f\"(-45) / 5 = {(19 - 4**3) / 5}\")"
      ]
    },
    {
      "cell_type": "markdown",
      "id": "d1fe816d",
      "metadata": {
        "id": "d1fe816d"
      },
      "source": [
        "### [String Methods](https://docs.python.org/3/library/stdtypes.html#string-methods)\n"
      ]
    },
    {
      "cell_type": "markdown",
      "id": "f5c35e38",
      "metadata": {
        "id": "f5c35e38"
      },
      "source": [
        "* Python provides a variety of [String Methods](https://docs.python.org/3/library/stdtypes.html#string-methods) to make it easy modify strings.\n",
        "* String methods are built into stings and be called as shown below:\n",
        "\n"
      ]
    },
    {
      "cell_type": "code",
      "execution_count": null,
      "id": "da06eb07",
      "metadata": {
        "id": "da06eb07"
      },
      "outputs": [],
      "source": [
        "# Example: Cleaning patient ID data\n",
        "patient_id = '00P12345-BME00'\n",
        "\n",
        "# Remove leading and trailing zeros and hyphens for clean display\n",
        "clean_id = patient_id.strip('0').strip('-')\n",
        "print(f'Original patient ID: {patient_id}')\n",
        "print(f'Cleaned patient ID: {clean_id}')\n",
        "\n",
        "# Additional string methods useful in medical data processing\n",
        "patient_name = \"  JANE DOE  \"\n",
        "print(f'\\nOriginal name: \"{patient_name}\"')\n",
        "print(f'Cleaned name: \"{patient_name.strip().title()}\"')  # Remove spaces and proper case"
      ]
    },
    {
      "cell_type": "markdown",
      "id": "6113ae2f",
      "metadata": {
        "id": "6113ae2f"
      },
      "source": [
        "#### ✏️ **Exercise - Medical Report Text Processing**\n",
        "\n",
        "**Scenario**: You're processing medical reports and need to clean up the text.\n",
        "\n",
        "1. Use the `replace()` method to change \"abnormal findings\" to \"normal findings\" in the medical report below\n",
        "2. **Important**: The `replace()` method doesn't modify the original string - it returns a new string\n",
        "3. Store the result in a new variable and print both the original and modified versions\n",
        "\n",
        "**Hints:**\n",
        "- Method syntax: `string.replace(old_text, new_text)`\n",
        "- String methods are case-sensitive\n",
        "- Remember to assign the result to a variable to keep the changes"
      ]
    },
    {
      "cell_type": "code",
      "execution_count": null,
      "id": "6b60e22c",
      "metadata": {
        "id": "6b60e22c"
      },
      "outputs": [],
      "source": [
        "# Original medical report text\n",
        "medical_report = \"Patient examination shows abnormal findings in cardiac function.\"\n",
        "\n",
        "print(\"Original report:\")\n",
        "print(medical_report)\n",
        "\n",
        "# Your task: Use the replace() method to change \"abnormal findings\" to \"normal findings\"\n",
        "# Remember: replace() doesn't modify the original string - it returns a new string!\n",
        "\n",
        "# Your code here:\n",
        "corrected_report = # Complete this line using the replace() method\n",
        "\n",
        "print(\"\\nCorrected report:\")\n",
        "# Uncomment the line below once you complete the exercise:\n",
        "# print(corrected_report)\n",
        "\n",
        "# Demonstrate that original string is unchanged:\n",
        "# Uncomment these lines once you complete the exercise:\n",
        "# print(f\"\\nOriginal unchanged: {medical_report}\")\n",
        "# print(f\"New version: {corrected_report}\")\n",
        "\n",
        "# Bonus: Try these additional string operations for medical data\n",
        "patient_symptoms = \"fever, cough, headache\"\n",
        "# Your code here: use the split() method to convert the symptoms string to a list\n",
        "# symptom_list =\n",
        "# print(f\"\\nSymptoms as list: {symptom_list}\")"
      ]
    },
    {
      "cell_type": "markdown",
      "id": "25c4db9a",
      "metadata": {
        "id": "25c4db9a"
      },
      "source": [
        "### [Slicing](https://python-reference.readthedocs.io/en/latest/docs/brackets/slicing.html) Sequences\n"
      ]
    },
    {
      "cell_type": "markdown",
      "id": "7c625260",
      "metadata": {
        "id": "7c625260"
      },
      "source": [
        "\n",
        "You can use slicing to reference multiple elements in a sequence.\n",
        "\n",
        "```\n",
        "sequence[start:stop[:step]]\n",
        "```\n",
        "\n",
        "* **start**\n",
        "  * **(Optional)** Defaults to 0\n",
        "  * Starting index of the slice\n",
        "* **stop**\n",
        "  * **(Optional)** Defaults to ```len(sequence)```\n",
        "  * The last index (exclusive) of the slice\n",
        "  * Because ```stop``` is exclusive, ```my_list[:3]``` will return the 0th, 1st, and 2nd element.  \n",
        "* **step**\n",
        "  * **(Optional)** Step value of the slice\n",
        "  * Defaults to 1\n"
      ]
    },
    {
      "cell_type": "markdown",
      "id": "bc899a0d",
      "metadata": {
        "id": "bc899a0d"
      },
      "source": [
        "#### ✏️ **Exercise - ECG Data Slicing**  \n",
        "\n",
        "**Scenario**: You have ECG (heart rhythm) measurements taken every second. Practice slicing to extract specific time periods.\n",
        "\n",
        "Using the ECG data below, complete these tasks:\n",
        "1. **Print the last three measurements** (representing the most recent 3 seconds)\n",
        "2. **Create a new list called `peak_values`** containing only the values `[5, 8, 2]` using slicing\n",
        "   - These represent the peak readings during specific time intervals\n",
        "\n",
        "**Hint**: Remember that negative indices count from the end: `[-3:]` gives the last 3 elements"
      ]
    },
    {
      "cell_type": "code",
      "execution_count": null,
      "id": "ff455f60",
      "metadata": {
        "id": "ff455f60"
      },
      "outputs": [],
      "source": [
        "# ECG measurements (mV) taken every second\n",
        "ecg_data = [3, 5, 7, 8, 1, 2]\n",
        "print(f\"Full ECG data: {ecg_data}\")\n",
        "\n",
        "# Your tasks:\n",
        "\n",
        "# 1. Print the last three measurements using slicing\n",
        "# Hint: Use negative indices or slice from index 3 onwards\n",
        "last_three = # Your code here\n",
        "print(f\"Last three measurements: {last_three}\")\n",
        "\n",
        "# 2. Create peak_values containing [5, 8, 2] using slicing or indexing\n",
        "# These correspond to indices 1, 3, and 5 in the ecg_data\n",
        "# You can use individual indexing or slicing techniques\n",
        "peak_values = # Your code here\n",
        "print(f\"Peak values: {peak_values}\")\n",
        "\n",
        "# Bonus exercises (try these once you complete the main tasks):\n",
        "# - Get the first 3 values: ecg_data[:3]\n",
        "# - Get middle values (skip first and last): ecg_data[1:-1]\n",
        "# - Get every second value: ecg_data[::2]\n",
        "\n",
        "# Uncomment these lines to try the bonus exercises:\n",
        "# print(f\"\\nBonus slicing examples:\")\n",
        "# print(f\"First 3 values: {ecg_data[:3]}\")\n",
        "# print(f\"Middle values (skip first and last): {ecg_data[1:-1]}\")\n",
        "# print(f\"Every second value: {ecg_data[::2]}\")"
      ]
    },
    {
      "cell_type": "markdown",
      "id": "77f3ca8f",
      "metadata": {
        "id": "77f3ca8f"
      },
      "source": [
        "### Copying Arrays\n"
      ]
    },
    {
      "cell_type": "markdown",
      "id": "684303d9",
      "metadata": {
        "id": "684303d9"
      },
      "source": [
        "* When you set one array equal to another using ```=```, you are not creating a new copy of the list. **Instead, you're creating a new reference to the same list.**\n",
        "*  **Modifying the new list will modify the old list!**\n",
        "* You can prevent this by setting the new array equal to the *elements* in the old array (i.e., list2=list1[:]), or using the copy library that is built into python.\n",
        "\n",
        "```\n",
        "import copy\n",
        "list2=copy.deepcopy(list1)\n",
        "```\n",
        "\n",
        "**This is an important thing to keep in mind when working with data structures!** Your functions may behave unexpectedly if you don't keep this in mind!\n",
        "\n"
      ]
    },
    {
      "cell_type": "code",
      "execution_count": null,
      "id": "acaa5f41",
      "metadata": {
        "id": "acaa5f41"
      },
      "outputs": [],
      "source": [
        "# Issues with setting list2 equal to list1\n",
        "list1 = [1, 2, 3]\n",
        "list2 = list1\n",
        "list2.append(4)\n",
        "\n",
        "print(list1)\n",
        "print(list2)"
      ]
    },
    {
      "cell_type": "code",
      "execution_count": null,
      "id": "064c2e23",
      "metadata": {
        "id": "064c2e23"
      },
      "outputs": [],
      "source": [
        "list1 = [1, 2, 3]\n",
        "import copy\n",
        "\n",
        "\n",
        "list2 = copy.deepcopy(list1)\n",
        "list2.append(4)\n",
        "\n",
        "print(list1)\n",
        "print(list2)"
      ]
    },
    {
      "cell_type": "markdown",
      "id": "9fba2312",
      "metadata": {
        "id": "9fba2312"
      },
      "source": [
        "---\n",
        "\n",
        "# 🎯 Part 1 Summary\n",
        "\n",
        "### **Data Fundamentals**\n",
        "- **Variables & Assignment**: Store and reference data using descriptive names\n",
        "- **Data Types**: Work with integers, floats, strings, booleans, and lists\n",
        "- **Type Casting**: Safely convert between data types with error handling\n",
        "- **String Operations**: Manipulate and format text data effectively\n",
        "\n",
        "### **Code Organization**\n",
        "- **Functions**: Create reusable code blocks with parameters and return values\n",
        "- **Default Parameters**: Make functions more flexible and user-friendly\n",
        "- **Documentation**: Write clear docstrings and comments\n",
        "\n",
        "### **Data Structures**\n",
        "- **Lists**: Store and organize sequences of data\n",
        "- **Indexing & Slicing**: Access and extract specific elements or ranges\n",
        "- **List Methods**: Add, remove, and manipulate list contents\n",
        "- **Array Copying**: Understand references vs. deep copies"
      ]
    }
  ],
  "metadata": {
    "kernelspec": {
      "display_name": ".venv",
      "language": "python",
      "name": "python3"
    },
    "language_info": {
      "codemirror_mode": {
        "name": "ipython",
        "version": 3
      },
      "file_extension": ".py",
      "mimetype": "text/x-python",
      "name": "python",
      "nbconvert_exporter": "python",
      "pygments_lexer": "ipython3",
      "version": "3.10.12"
    },
    "colab": {
      "provenance": [],
      "include_colab_link": true
    }
  },
  "nbformat": 4,
  "nbformat_minor": 5
}