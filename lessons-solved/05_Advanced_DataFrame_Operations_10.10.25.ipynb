{
  "cells": [
    {
      "cell_type": "markdown",
      "metadata": {
        "id": "view-in-github",
        "colab_type": "text"
      },
      "source": [
        "<a href=\"https://colab.research.google.com/github/vmesa05/BME3053C/blob/main/lessons-solved/05_Advanced_DataFrame_Operations_10.10.25.ipynb\" target=\"_parent\"><img src=\"https://colab.research.google.com/assets/colab-badge.svg\" alt=\"Open In Colab\"/></a>"
      ]
    },
    {
      "cell_type": "markdown",
      "id": "a1944203",
      "metadata": {
        "id": "a1944203"
      },
      "source": [
        "# BME3053C - Computer Applications for BME\n",
        "\n",
        "<br/>\n",
        "\n",
        "<h1 align=\"center\">Advanced DataFrame Operations</h1>\n",
        "\n",
        "---\n",
        "\n",
        "<center><h2>Lesson: 05</h2></center>\n",
        "\n",
        "<br/>\n",
        "\n",
        "<center><img src='https://github.com/snsie/aicc24/blob/main/graphics/pandas_logo.png?raw=1' alt='The Pandas logo' align='center' width=200></center>\n",
        "\n",
        "<br/>\n",
        "\n",
        "### Original Lesson Link: [![Open In Colab](https://colab.research.google.com/assets/colab-badge.svg)](https://colab.research.google.com/github/uf-bme/BME3053C-Fall-2025/blob/main/lessons/05_Advanced_DataFrame_Operations.ipynb)\n",
        "\n",
        "### **Covered Topics**\n",
        "\n",
        "1. **Indexing and Iteration**\n",
        "\n",
        "   - Different ways to access data in DataFrames\n",
        "   - Efficient methods for iterating through rows and columns\n",
        "\n",
        "2. **Combining DataFrames**\n",
        "\n",
        "   - Merging DataFrames\n",
        "   - Concatenating DataFrames\n",
        "\n",
        "3. **Data Cleaning**\n",
        "   - Handling missing values and duplicates\n",
        "   - Data type conversion\n"
      ]
    },
    {
      "cell_type": "markdown",
      "id": "c2558daf",
      "metadata": {
        "id": "c2558daf"
      },
      "source": [
        "#### Import Pandas\n"
      ]
    },
    {
      "cell_type": "code",
      "execution_count": 1,
      "id": "5eac5a00",
      "metadata": {
        "id": "5eac5a00"
      },
      "outputs": [],
      "source": [
        "import pandas as pd"
      ]
    },
    {
      "cell_type": "markdown",
      "id": "d459391f",
      "metadata": {
        "id": "d459391f"
      },
      "source": [
        "## Indexing and Iteration\n",
        "\n",
        "### Accessing Data in DataFrames\n",
        "\n",
        "- Use `.iloc[]` for integer position-based indexing (e.g., df.iloc[0, 1] for first row, second column)\n",
        "- Use `.loc[]` for label-based indexing (e.g., df.loc['row_label', 'column_name'])\n",
        "\n",
        "- Example:\n",
        "  - df.iloc[0, 1] gets value in first row, second column regardless of labels\n",
        "  - df.loc['A', 'price'] gets value where index='A' and column='price'\n"
      ]
    },
    {
      "cell_type": "code",
      "execution_count": 2,
      "id": "c53c3f97",
      "metadata": {
        "id": "c53c3f97",
        "outputId": "029d8d54-66c4-41d5-867c-7000c0a4712f",
        "colab": {
          "base_uri": "https://localhost:8080/",
          "height": 206
        }
      },
      "outputs": [
        {
          "output_type": "execute_result",
          "data": {
            "text/plain": [
              "   A   B    C\n",
              "0  1  10  100\n",
              "1  2  20  200\n",
              "2  3  30  300\n",
              "3  4  40  400\n",
              "4  5  50  500"
            ],
            "text/html": [
              "\n",
              "  <div id=\"df-65e57459-8f06-471b-ab05-4d20fef209f5\" class=\"colab-df-container\">\n",
              "    <div>\n",
              "<style scoped>\n",
              "    .dataframe tbody tr th:only-of-type {\n",
              "        vertical-align: middle;\n",
              "    }\n",
              "\n",
              "    .dataframe tbody tr th {\n",
              "        vertical-align: top;\n",
              "    }\n",
              "\n",
              "    .dataframe thead th {\n",
              "        text-align: right;\n",
              "    }\n",
              "</style>\n",
              "<table border=\"1\" class=\"dataframe\">\n",
              "  <thead>\n",
              "    <tr style=\"text-align: right;\">\n",
              "      <th></th>\n",
              "      <th>A</th>\n",
              "      <th>B</th>\n",
              "      <th>C</th>\n",
              "    </tr>\n",
              "  </thead>\n",
              "  <tbody>\n",
              "    <tr>\n",
              "      <th>0</th>\n",
              "      <td>1</td>\n",
              "      <td>10</td>\n",
              "      <td>100</td>\n",
              "    </tr>\n",
              "    <tr>\n",
              "      <th>1</th>\n",
              "      <td>2</td>\n",
              "      <td>20</td>\n",
              "      <td>200</td>\n",
              "    </tr>\n",
              "    <tr>\n",
              "      <th>2</th>\n",
              "      <td>3</td>\n",
              "      <td>30</td>\n",
              "      <td>300</td>\n",
              "    </tr>\n",
              "    <tr>\n",
              "      <th>3</th>\n",
              "      <td>4</td>\n",
              "      <td>40</td>\n",
              "      <td>400</td>\n",
              "    </tr>\n",
              "    <tr>\n",
              "      <th>4</th>\n",
              "      <td>5</td>\n",
              "      <td>50</td>\n",
              "      <td>500</td>\n",
              "    </tr>\n",
              "  </tbody>\n",
              "</table>\n",
              "</div>\n",
              "    <div class=\"colab-df-buttons\">\n",
              "\n",
              "  <div class=\"colab-df-container\">\n",
              "    <button class=\"colab-df-convert\" onclick=\"convertToInteractive('df-65e57459-8f06-471b-ab05-4d20fef209f5')\"\n",
              "            title=\"Convert this dataframe to an interactive table.\"\n",
              "            style=\"display:none;\">\n",
              "\n",
              "  <svg xmlns=\"http://www.w3.org/2000/svg\" height=\"24px\" viewBox=\"0 -960 960 960\">\n",
              "    <path d=\"M120-120v-720h720v720H120Zm60-500h600v-160H180v160Zm220 220h160v-160H400v160Zm0 220h160v-160H400v160ZM180-400h160v-160H180v160Zm440 0h160v-160H620v160ZM180-180h160v-160H180v160Zm440 0h160v-160H620v160Z\"/>\n",
              "  </svg>\n",
              "    </button>\n",
              "\n",
              "  <style>\n",
              "    .colab-df-container {\n",
              "      display:flex;\n",
              "      gap: 12px;\n",
              "    }\n",
              "\n",
              "    .colab-df-convert {\n",
              "      background-color: #E8F0FE;\n",
              "      border: none;\n",
              "      border-radius: 50%;\n",
              "      cursor: pointer;\n",
              "      display: none;\n",
              "      fill: #1967D2;\n",
              "      height: 32px;\n",
              "      padding: 0 0 0 0;\n",
              "      width: 32px;\n",
              "    }\n",
              "\n",
              "    .colab-df-convert:hover {\n",
              "      background-color: #E2EBFA;\n",
              "      box-shadow: 0px 1px 2px rgba(60, 64, 67, 0.3), 0px 1px 3px 1px rgba(60, 64, 67, 0.15);\n",
              "      fill: #174EA6;\n",
              "    }\n",
              "\n",
              "    .colab-df-buttons div {\n",
              "      margin-bottom: 4px;\n",
              "    }\n",
              "\n",
              "    [theme=dark] .colab-df-convert {\n",
              "      background-color: #3B4455;\n",
              "      fill: #D2E3FC;\n",
              "    }\n",
              "\n",
              "    [theme=dark] .colab-df-convert:hover {\n",
              "      background-color: #434B5C;\n",
              "      box-shadow: 0px 1px 3px 1px rgba(0, 0, 0, 0.15);\n",
              "      filter: drop-shadow(0px 1px 2px rgba(0, 0, 0, 0.3));\n",
              "      fill: #FFFFFF;\n",
              "    }\n",
              "  </style>\n",
              "\n",
              "    <script>\n",
              "      const buttonEl =\n",
              "        document.querySelector('#df-65e57459-8f06-471b-ab05-4d20fef209f5 button.colab-df-convert');\n",
              "      buttonEl.style.display =\n",
              "        google.colab.kernel.accessAllowed ? 'block' : 'none';\n",
              "\n",
              "      async function convertToInteractive(key) {\n",
              "        const element = document.querySelector('#df-65e57459-8f06-471b-ab05-4d20fef209f5');\n",
              "        const dataTable =\n",
              "          await google.colab.kernel.invokeFunction('convertToInteractive',\n",
              "                                                    [key], {});\n",
              "        if (!dataTable) return;\n",
              "\n",
              "        const docLinkHtml = 'Like what you see? Visit the ' +\n",
              "          '<a target=\"_blank\" href=https://colab.research.google.com/notebooks/data_table.ipynb>data table notebook</a>'\n",
              "          + ' to learn more about interactive tables.';\n",
              "        element.innerHTML = '';\n",
              "        dataTable['output_type'] = 'display_data';\n",
              "        await google.colab.output.renderOutput(dataTable, element);\n",
              "        const docLink = document.createElement('div');\n",
              "        docLink.innerHTML = docLinkHtml;\n",
              "        element.appendChild(docLink);\n",
              "      }\n",
              "    </script>\n",
              "  </div>\n",
              "\n",
              "\n",
              "    <div id=\"df-7ea1bdc1-2774-4056-a631-43771dde3b48\">\n",
              "      <button class=\"colab-df-quickchart\" onclick=\"quickchart('df-7ea1bdc1-2774-4056-a631-43771dde3b48')\"\n",
              "                title=\"Suggest charts\"\n",
              "                style=\"display:none;\">\n",
              "\n",
              "<svg xmlns=\"http://www.w3.org/2000/svg\" height=\"24px\"viewBox=\"0 0 24 24\"\n",
              "     width=\"24px\">\n",
              "    <g>\n",
              "        <path d=\"M19 3H5c-1.1 0-2 .9-2 2v14c0 1.1.9 2 2 2h14c1.1 0 2-.9 2-2V5c0-1.1-.9-2-2-2zM9 17H7v-7h2v7zm4 0h-2V7h2v10zm4 0h-2v-4h2v4z\"/>\n",
              "    </g>\n",
              "</svg>\n",
              "      </button>\n",
              "\n",
              "<style>\n",
              "  .colab-df-quickchart {\n",
              "      --bg-color: #E8F0FE;\n",
              "      --fill-color: #1967D2;\n",
              "      --hover-bg-color: #E2EBFA;\n",
              "      --hover-fill-color: #174EA6;\n",
              "      --disabled-fill-color: #AAA;\n",
              "      --disabled-bg-color: #DDD;\n",
              "  }\n",
              "\n",
              "  [theme=dark] .colab-df-quickchart {\n",
              "      --bg-color: #3B4455;\n",
              "      --fill-color: #D2E3FC;\n",
              "      --hover-bg-color: #434B5C;\n",
              "      --hover-fill-color: #FFFFFF;\n",
              "      --disabled-bg-color: #3B4455;\n",
              "      --disabled-fill-color: #666;\n",
              "  }\n",
              "\n",
              "  .colab-df-quickchart {\n",
              "    background-color: var(--bg-color);\n",
              "    border: none;\n",
              "    border-radius: 50%;\n",
              "    cursor: pointer;\n",
              "    display: none;\n",
              "    fill: var(--fill-color);\n",
              "    height: 32px;\n",
              "    padding: 0;\n",
              "    width: 32px;\n",
              "  }\n",
              "\n",
              "  .colab-df-quickchart:hover {\n",
              "    background-color: var(--hover-bg-color);\n",
              "    box-shadow: 0 1px 2px rgba(60, 64, 67, 0.3), 0 1px 3px 1px rgba(60, 64, 67, 0.15);\n",
              "    fill: var(--button-hover-fill-color);\n",
              "  }\n",
              "\n",
              "  .colab-df-quickchart-complete:disabled,\n",
              "  .colab-df-quickchart-complete:disabled:hover {\n",
              "    background-color: var(--disabled-bg-color);\n",
              "    fill: var(--disabled-fill-color);\n",
              "    box-shadow: none;\n",
              "  }\n",
              "\n",
              "  .colab-df-spinner {\n",
              "    border: 2px solid var(--fill-color);\n",
              "    border-color: transparent;\n",
              "    border-bottom-color: var(--fill-color);\n",
              "    animation:\n",
              "      spin 1s steps(1) infinite;\n",
              "  }\n",
              "\n",
              "  @keyframes spin {\n",
              "    0% {\n",
              "      border-color: transparent;\n",
              "      border-bottom-color: var(--fill-color);\n",
              "      border-left-color: var(--fill-color);\n",
              "    }\n",
              "    20% {\n",
              "      border-color: transparent;\n",
              "      border-left-color: var(--fill-color);\n",
              "      border-top-color: var(--fill-color);\n",
              "    }\n",
              "    30% {\n",
              "      border-color: transparent;\n",
              "      border-left-color: var(--fill-color);\n",
              "      border-top-color: var(--fill-color);\n",
              "      border-right-color: var(--fill-color);\n",
              "    }\n",
              "    40% {\n",
              "      border-color: transparent;\n",
              "      border-right-color: var(--fill-color);\n",
              "      border-top-color: var(--fill-color);\n",
              "    }\n",
              "    60% {\n",
              "      border-color: transparent;\n",
              "      border-right-color: var(--fill-color);\n",
              "    }\n",
              "    80% {\n",
              "      border-color: transparent;\n",
              "      border-right-color: var(--fill-color);\n",
              "      border-bottom-color: var(--fill-color);\n",
              "    }\n",
              "    90% {\n",
              "      border-color: transparent;\n",
              "      border-bottom-color: var(--fill-color);\n",
              "    }\n",
              "  }\n",
              "</style>\n",
              "\n",
              "      <script>\n",
              "        async function quickchart(key) {\n",
              "          const quickchartButtonEl =\n",
              "            document.querySelector('#' + key + ' button');\n",
              "          quickchartButtonEl.disabled = true;  // To prevent multiple clicks.\n",
              "          quickchartButtonEl.classList.add('colab-df-spinner');\n",
              "          try {\n",
              "            const charts = await google.colab.kernel.invokeFunction(\n",
              "                'suggestCharts', [key], {});\n",
              "          } catch (error) {\n",
              "            console.error('Error during call to suggestCharts:', error);\n",
              "          }\n",
              "          quickchartButtonEl.classList.remove('colab-df-spinner');\n",
              "          quickchartButtonEl.classList.add('colab-df-quickchart-complete');\n",
              "        }\n",
              "        (() => {\n",
              "          let quickchartButtonEl =\n",
              "            document.querySelector('#df-7ea1bdc1-2774-4056-a631-43771dde3b48 button');\n",
              "          quickchartButtonEl.style.display =\n",
              "            google.colab.kernel.accessAllowed ? 'block' : 'none';\n",
              "        })();\n",
              "      </script>\n",
              "    </div>\n",
              "\n",
              "    </div>\n",
              "  </div>\n"
            ],
            "application/vnd.google.colaboratory.intrinsic+json": {
              "type": "dataframe",
              "variable_name": "df",
              "summary": "{\n  \"name\": \"df\",\n  \"rows\": 5,\n  \"fields\": [\n    {\n      \"column\": \"A\",\n      \"properties\": {\n        \"dtype\": \"number\",\n        \"std\": 1,\n        \"min\": 1,\n        \"max\": 5,\n        \"num_unique_values\": 5,\n        \"samples\": [\n          2,\n          5,\n          3\n        ],\n        \"semantic_type\": \"\",\n        \"description\": \"\"\n      }\n    },\n    {\n      \"column\": \"B\",\n      \"properties\": {\n        \"dtype\": \"number\",\n        \"std\": 15,\n        \"min\": 10,\n        \"max\": 50,\n        \"num_unique_values\": 5,\n        \"samples\": [\n          20,\n          50,\n          30\n        ],\n        \"semantic_type\": \"\",\n        \"description\": \"\"\n      }\n    },\n    {\n      \"column\": \"C\",\n      \"properties\": {\n        \"dtype\": \"number\",\n        \"std\": 158,\n        \"min\": 100,\n        \"max\": 500,\n        \"num_unique_values\": 5,\n        \"samples\": [\n          200,\n          500,\n          300\n        ],\n        \"semantic_type\": \"\",\n        \"description\": \"\"\n      }\n    }\n  ]\n}"
            }
          },
          "metadata": {},
          "execution_count": 2
        }
      ],
      "source": [
        "sample_data = {\n",
        "    'A': [1, 2, 3, 4, 5],\n",
        "    'B': [10, 20, 30, 40, 50],\n",
        "    'C': [100, 200, 300, 400, 500]\n",
        "}\n",
        "df = pd.DataFrame(sample_data)\n",
        "df.head()"
      ]
    },
    {
      "cell_type": "code",
      "execution_count": null,
      "id": "0e38d7fa",
      "metadata": {
        "id": "0e38d7fa",
        "outputId": "17154b1f-f4ab-4898-82b5-5e46008b3344",
        "colab": {
          "base_uri": "https://localhost:8080/",
          "height": 213
        }
      },
      "outputs": [
        {
          "output_type": "stream",
          "name": "stdout",
          "text": [
            "\n",
            "First row using iloc:\n"
          ]
        },
        {
          "output_type": "execute_result",
          "data": {
            "text/plain": [
              "A      1\n",
              "B     10\n",
              "C    100\n",
              "Name: 0, dtype: int64"
            ],
            "text/html": [
              "<div>\n",
              "<style scoped>\n",
              "    .dataframe tbody tr th:only-of-type {\n",
              "        vertical-align: middle;\n",
              "    }\n",
              "\n",
              "    .dataframe tbody tr th {\n",
              "        vertical-align: top;\n",
              "    }\n",
              "\n",
              "    .dataframe thead th {\n",
              "        text-align: right;\n",
              "    }\n",
              "</style>\n",
              "<table border=\"1\" class=\"dataframe\">\n",
              "  <thead>\n",
              "    <tr style=\"text-align: right;\">\n",
              "      <th></th>\n",
              "      <th>0</th>\n",
              "    </tr>\n",
              "  </thead>\n",
              "  <tbody>\n",
              "    <tr>\n",
              "      <th>A</th>\n",
              "      <td>1</td>\n",
              "    </tr>\n",
              "    <tr>\n",
              "      <th>B</th>\n",
              "      <td>10</td>\n",
              "    </tr>\n",
              "    <tr>\n",
              "      <th>C</th>\n",
              "      <td>100</td>\n",
              "    </tr>\n",
              "  </tbody>\n",
              "</table>\n",
              "</div><br><label><b>dtype:</b> int64</label>"
            ]
          },
          "metadata": {},
          "execution_count": 3
        }
      ],
      "source": [
        "# Access first row using integer-based indexing\n",
        "print('\\nFirst row using iloc:')\n",
        "df.iloc[0]\n"
      ]
    },
    {
      "cell_type": "code",
      "source": [
        "# Access first row using integer-based indexing\n",
        "print('\\nFirst column using iloc:')\n",
        "df.iloc[:, 0]"
      ],
      "metadata": {
        "id": "4cRDcYkpdrA_",
        "outputId": "a80a5d68-3f63-498b-bf6f-57d534469208",
        "colab": {
          "base_uri": "https://localhost:8080/",
          "height": 276
        }
      },
      "id": "4cRDcYkpdrA_",
      "execution_count": null,
      "outputs": [
        {
          "output_type": "stream",
          "name": "stdout",
          "text": [
            "\n",
            "First column using iloc:\n"
          ]
        },
        {
          "output_type": "execute_result",
          "data": {
            "text/plain": [
              "0    1\n",
              "1    2\n",
              "2    3\n",
              "3    4\n",
              "4    5\n",
              "Name: A, dtype: int64"
            ],
            "text/html": [
              "<div>\n",
              "<style scoped>\n",
              "    .dataframe tbody tr th:only-of-type {\n",
              "        vertical-align: middle;\n",
              "    }\n",
              "\n",
              "    .dataframe tbody tr th {\n",
              "        vertical-align: top;\n",
              "    }\n",
              "\n",
              "    .dataframe thead th {\n",
              "        text-align: right;\n",
              "    }\n",
              "</style>\n",
              "<table border=\"1\" class=\"dataframe\">\n",
              "  <thead>\n",
              "    <tr style=\"text-align: right;\">\n",
              "      <th></th>\n",
              "      <th>A</th>\n",
              "    </tr>\n",
              "  </thead>\n",
              "  <tbody>\n",
              "    <tr>\n",
              "      <th>0</th>\n",
              "      <td>1</td>\n",
              "    </tr>\n",
              "    <tr>\n",
              "      <th>1</th>\n",
              "      <td>2</td>\n",
              "    </tr>\n",
              "    <tr>\n",
              "      <th>2</th>\n",
              "      <td>3</td>\n",
              "    </tr>\n",
              "    <tr>\n",
              "      <th>3</th>\n",
              "      <td>4</td>\n",
              "    </tr>\n",
              "    <tr>\n",
              "      <th>4</th>\n",
              "      <td>5</td>\n",
              "    </tr>\n",
              "  </tbody>\n",
              "</table>\n",
              "</div><br><label><b>dtype:</b> int64</label>"
            ]
          },
          "metadata": {},
          "execution_count": 10
        }
      ]
    },
    {
      "cell_type": "code",
      "execution_count": null,
      "id": "242aec8f",
      "metadata": {
        "id": "242aec8f",
        "outputId": "31a0f11e-deaf-4169-ac0f-44cea234500e",
        "colab": {
          "base_uri": "https://localhost:8080/"
        }
      },
      "outputs": [
        {
          "output_type": "stream",
          "name": "stdout",
          "text": [
            "\n",
            "First 3 rows and first 3 columns using iloc:\n",
            "   A   B    C\n",
            "0  1  10  100\n",
            "1  2  20  200\n",
            "2  3  30  300\n"
          ]
        }
      ],
      "source": [
        "\n",
        "# Access first 3 rows and first 3 columns using iloc\n",
        "print('\\nFirst 3 rows and first 3 columns using iloc:')\n",
        "print(df.iloc[0:3, 0:3])\n"
      ]
    },
    {
      "cell_type": "code",
      "execution_count": null,
      "id": "e2160f19",
      "metadata": {
        "id": "e2160f19",
        "outputId": "f3afa6d1-7c71-4bb8-876e-a17393b8c525",
        "colab": {
          "base_uri": "https://localhost:8080/"
        }
      },
      "outputs": [
        {
          "output_type": "stream",
          "name": "stdout",
          "text": [
            "First row using loc:\n",
            "A      1\n",
            "B     10\n",
            "C    100\n",
            "Name: 0, dtype: int64\n"
          ]
        }
      ],
      "source": [
        "# Access first row using label-based indexing\n",
        "# Note: For this dataset, .loc[] with integer index acts similar to .iloc[]\n",
        "# because the index is numeric and sequential starting from 0\n",
        "\n",
        "print('First row using loc:')\n",
        "print(df.loc[0])\n"
      ]
    },
    {
      "cell_type": "code",
      "execution_count": null,
      "id": "641aabd9",
      "metadata": {
        "id": "641aabd9",
        "outputId": "1d6cfe4d-bc32-41a8-a7ba-93e478dc63ec",
        "colab": {
          "base_uri": "https://localhost:8080/"
        }
      },
      "outputs": [
        {
          "output_type": "stream",
          "name": "stdout",
          "text": [
            "\n",
            "First 3 rows and selected columns using loc:\n",
            "   A   B\n",
            "0  1  10\n",
            "1  2  20\n",
            "2  3  30\n"
          ]
        }
      ],
      "source": [
        "# Access first 3 rows and specific columns using loc\n",
        "print('\\nFirst 3 rows and selected columns using loc:')\n",
        "print(df.loc[0:2, ['A', 'B']])"
      ]
    },
    {
      "cell_type": "markdown",
      "id": "e47e3ed0",
      "metadata": {
        "id": "e47e3ed0"
      },
      "source": [
        "### When .loc with integer index differs from .iloc\n",
        "\n",
        "1. **Non-sequential index**: If DataFrame index is not 0,1,2,...\n",
        "\n",
        "   - `.loc[0]` looks for row with index label 0 (may not exist)\n",
        "   - `.iloc[0]` gets first row regardless of its index\n",
        "\n",
        "2. **Non-numeric index**: If DataFrame uses string/date indices\n",
        "\n",
        "   - `.loc[]` won't work with integer input\n",
        "   - `.iloc[]` still works with integer positions\n",
        "\n",
        "3. **Gaps in numeric index**: If index like [0,2,5,...]\n",
        "   - `.loc[1]` looks for index 1 (doesn't exist)\n",
        "   - `.iloc[1]` gets second row (index 2)\n",
        "\n",
        "Example showing difference with non-sequential index:\n"
      ]
    },
    {
      "cell_type": "code",
      "execution_count": null,
      "id": "4d911fa5",
      "metadata": {
        "id": "4d911fa5",
        "outputId": "569933cb-8b23-477a-abec-6fcff7392462",
        "colab": {
          "base_uri": "https://localhost:8080/"
        }
      },
      "outputs": [
        {
          "output_type": "stream",
          "name": "stdout",
          "text": [
            "\n",
            "Example with non-sequential index:\n",
            "Using .loc[10]:\n",
            "A    1\n",
            "B    4\n",
            "Name: 10, dtype: int64\n",
            "\n",
            "Using .iloc[0]:\n",
            "A    1\n",
            "B    4\n",
            "Name: 10, dtype: int64\n"
          ]
        }
      ],
      "source": [
        "\n",
        "example_df = pd.DataFrame({'A': [1,2,3], 'B': [4,5,6]}, index=[10,20,30])\n",
        "print(\"\\nExample with non-sequential index:\")\n",
        "print(\"Using .loc[10]:\")  # Gets row with index label 10\n",
        "print(example_df.loc[10])\n",
        "print(\"\\nUsing .iloc[0]:\")  # Gets first row regardless of index\n",
        "print(example_df.iloc[0])"
      ]
    },
    {
      "cell_type": "markdown",
      "id": "4685f406",
      "metadata": {
        "id": "4685f406"
      },
      "source": [
        "#### ✏️ **Exercise**\n",
        "\n",
        "1. Create a DataFrame with the following data:\n",
        "   - Columns: 'Name', 'Age', 'City'\n",
        "   - Data: [['Alice', 25, 'New York'], ['Bob', 30, 'Boston'], ['Charlie', 35, 'Chicago']]\n",
        "   - Index: [100, 200, 300]\n",
        "2. Use .loc[] to:\n",
        "   - Get the row with index 200\n",
        "3. Use .iloc[] to:\n",
        "   - Get the first row\n",
        "   - Get the second and third rows with only the 'Name' and 'City' columns\n"
      ]
    },
    {
      "cell_type": "code",
      "execution_count": 3,
      "id": "2675babd",
      "metadata": {
        "id": "2675babd",
        "outputId": "98839963-8a96-4079-ab2e-52b953d86c45",
        "colab": {
          "base_uri": "https://localhost:8080/",
          "height": 143
        }
      },
      "outputs": [
        {
          "output_type": "execute_result",
          "data": {
            "text/plain": [
              "        Name  Age      City\n",
              "100    Alice   25  New York\n",
              "200      Bob   30    Boston\n",
              "300  Charlie   35   Chicago"
            ],
            "text/html": [
              "\n",
              "  <div id=\"df-8bcc3719-bb5a-47c1-a5b9-5de8ea784aa7\" class=\"colab-df-container\">\n",
              "    <div>\n",
              "<style scoped>\n",
              "    .dataframe tbody tr th:only-of-type {\n",
              "        vertical-align: middle;\n",
              "    }\n",
              "\n",
              "    .dataframe tbody tr th {\n",
              "        vertical-align: top;\n",
              "    }\n",
              "\n",
              "    .dataframe thead th {\n",
              "        text-align: right;\n",
              "    }\n",
              "</style>\n",
              "<table border=\"1\" class=\"dataframe\">\n",
              "  <thead>\n",
              "    <tr style=\"text-align: right;\">\n",
              "      <th></th>\n",
              "      <th>Name</th>\n",
              "      <th>Age</th>\n",
              "      <th>City</th>\n",
              "    </tr>\n",
              "  </thead>\n",
              "  <tbody>\n",
              "    <tr>\n",
              "      <th>100</th>\n",
              "      <td>Alice</td>\n",
              "      <td>25</td>\n",
              "      <td>New York</td>\n",
              "    </tr>\n",
              "    <tr>\n",
              "      <th>200</th>\n",
              "      <td>Bob</td>\n",
              "      <td>30</td>\n",
              "      <td>Boston</td>\n",
              "    </tr>\n",
              "    <tr>\n",
              "      <th>300</th>\n",
              "      <td>Charlie</td>\n",
              "      <td>35</td>\n",
              "      <td>Chicago</td>\n",
              "    </tr>\n",
              "  </tbody>\n",
              "</table>\n",
              "</div>\n",
              "    <div class=\"colab-df-buttons\">\n",
              "\n",
              "  <div class=\"colab-df-container\">\n",
              "    <button class=\"colab-df-convert\" onclick=\"convertToInteractive('df-8bcc3719-bb5a-47c1-a5b9-5de8ea784aa7')\"\n",
              "            title=\"Convert this dataframe to an interactive table.\"\n",
              "            style=\"display:none;\">\n",
              "\n",
              "  <svg xmlns=\"http://www.w3.org/2000/svg\" height=\"24px\" viewBox=\"0 -960 960 960\">\n",
              "    <path d=\"M120-120v-720h720v720H120Zm60-500h600v-160H180v160Zm220 220h160v-160H400v160Zm0 220h160v-160H400v160ZM180-400h160v-160H180v160Zm440 0h160v-160H620v160ZM180-180h160v-160H180v160Zm440 0h160v-160H620v160Z\"/>\n",
              "  </svg>\n",
              "    </button>\n",
              "\n",
              "  <style>\n",
              "    .colab-df-container {\n",
              "      display:flex;\n",
              "      gap: 12px;\n",
              "    }\n",
              "\n",
              "    .colab-df-convert {\n",
              "      background-color: #E8F0FE;\n",
              "      border: none;\n",
              "      border-radius: 50%;\n",
              "      cursor: pointer;\n",
              "      display: none;\n",
              "      fill: #1967D2;\n",
              "      height: 32px;\n",
              "      padding: 0 0 0 0;\n",
              "      width: 32px;\n",
              "    }\n",
              "\n",
              "    .colab-df-convert:hover {\n",
              "      background-color: #E2EBFA;\n",
              "      box-shadow: 0px 1px 2px rgba(60, 64, 67, 0.3), 0px 1px 3px 1px rgba(60, 64, 67, 0.15);\n",
              "      fill: #174EA6;\n",
              "    }\n",
              "\n",
              "    .colab-df-buttons div {\n",
              "      margin-bottom: 4px;\n",
              "    }\n",
              "\n",
              "    [theme=dark] .colab-df-convert {\n",
              "      background-color: #3B4455;\n",
              "      fill: #D2E3FC;\n",
              "    }\n",
              "\n",
              "    [theme=dark] .colab-df-convert:hover {\n",
              "      background-color: #434B5C;\n",
              "      box-shadow: 0px 1px 3px 1px rgba(0, 0, 0, 0.15);\n",
              "      filter: drop-shadow(0px 1px 2px rgba(0, 0, 0, 0.3));\n",
              "      fill: #FFFFFF;\n",
              "    }\n",
              "  </style>\n",
              "\n",
              "    <script>\n",
              "      const buttonEl =\n",
              "        document.querySelector('#df-8bcc3719-bb5a-47c1-a5b9-5de8ea784aa7 button.colab-df-convert');\n",
              "      buttonEl.style.display =\n",
              "        google.colab.kernel.accessAllowed ? 'block' : 'none';\n",
              "\n",
              "      async function convertToInteractive(key) {\n",
              "        const element = document.querySelector('#df-8bcc3719-bb5a-47c1-a5b9-5de8ea784aa7');\n",
              "        const dataTable =\n",
              "          await google.colab.kernel.invokeFunction('convertToInteractive',\n",
              "                                                    [key], {});\n",
              "        if (!dataTable) return;\n",
              "\n",
              "        const docLinkHtml = 'Like what you see? Visit the ' +\n",
              "          '<a target=\"_blank\" href=https://colab.research.google.com/notebooks/data_table.ipynb>data table notebook</a>'\n",
              "          + ' to learn more about interactive tables.';\n",
              "        element.innerHTML = '';\n",
              "        dataTable['output_type'] = 'display_data';\n",
              "        await google.colab.output.renderOutput(dataTable, element);\n",
              "        const docLink = document.createElement('div');\n",
              "        docLink.innerHTML = docLinkHtml;\n",
              "        element.appendChild(docLink);\n",
              "      }\n",
              "    </script>\n",
              "  </div>\n",
              "\n",
              "\n",
              "    <div id=\"df-0a7c5e33-ccc7-402a-85a7-d0227c16df20\">\n",
              "      <button class=\"colab-df-quickchart\" onclick=\"quickchart('df-0a7c5e33-ccc7-402a-85a7-d0227c16df20')\"\n",
              "                title=\"Suggest charts\"\n",
              "                style=\"display:none;\">\n",
              "\n",
              "<svg xmlns=\"http://www.w3.org/2000/svg\" height=\"24px\"viewBox=\"0 0 24 24\"\n",
              "     width=\"24px\">\n",
              "    <g>\n",
              "        <path d=\"M19 3H5c-1.1 0-2 .9-2 2v14c0 1.1.9 2 2 2h14c1.1 0 2-.9 2-2V5c0-1.1-.9-2-2-2zM9 17H7v-7h2v7zm4 0h-2V7h2v10zm4 0h-2v-4h2v4z\"/>\n",
              "    </g>\n",
              "</svg>\n",
              "      </button>\n",
              "\n",
              "<style>\n",
              "  .colab-df-quickchart {\n",
              "      --bg-color: #E8F0FE;\n",
              "      --fill-color: #1967D2;\n",
              "      --hover-bg-color: #E2EBFA;\n",
              "      --hover-fill-color: #174EA6;\n",
              "      --disabled-fill-color: #AAA;\n",
              "      --disabled-bg-color: #DDD;\n",
              "  }\n",
              "\n",
              "  [theme=dark] .colab-df-quickchart {\n",
              "      --bg-color: #3B4455;\n",
              "      --fill-color: #D2E3FC;\n",
              "      --hover-bg-color: #434B5C;\n",
              "      --hover-fill-color: #FFFFFF;\n",
              "      --disabled-bg-color: #3B4455;\n",
              "      --disabled-fill-color: #666;\n",
              "  }\n",
              "\n",
              "  .colab-df-quickchart {\n",
              "    background-color: var(--bg-color);\n",
              "    border: none;\n",
              "    border-radius: 50%;\n",
              "    cursor: pointer;\n",
              "    display: none;\n",
              "    fill: var(--fill-color);\n",
              "    height: 32px;\n",
              "    padding: 0;\n",
              "    width: 32px;\n",
              "  }\n",
              "\n",
              "  .colab-df-quickchart:hover {\n",
              "    background-color: var(--hover-bg-color);\n",
              "    box-shadow: 0 1px 2px rgba(60, 64, 67, 0.3), 0 1px 3px 1px rgba(60, 64, 67, 0.15);\n",
              "    fill: var(--button-hover-fill-color);\n",
              "  }\n",
              "\n",
              "  .colab-df-quickchart-complete:disabled,\n",
              "  .colab-df-quickchart-complete:disabled:hover {\n",
              "    background-color: var(--disabled-bg-color);\n",
              "    fill: var(--disabled-fill-color);\n",
              "    box-shadow: none;\n",
              "  }\n",
              "\n",
              "  .colab-df-spinner {\n",
              "    border: 2px solid var(--fill-color);\n",
              "    border-color: transparent;\n",
              "    border-bottom-color: var(--fill-color);\n",
              "    animation:\n",
              "      spin 1s steps(1) infinite;\n",
              "  }\n",
              "\n",
              "  @keyframes spin {\n",
              "    0% {\n",
              "      border-color: transparent;\n",
              "      border-bottom-color: var(--fill-color);\n",
              "      border-left-color: var(--fill-color);\n",
              "    }\n",
              "    20% {\n",
              "      border-color: transparent;\n",
              "      border-left-color: var(--fill-color);\n",
              "      border-top-color: var(--fill-color);\n",
              "    }\n",
              "    30% {\n",
              "      border-color: transparent;\n",
              "      border-left-color: var(--fill-color);\n",
              "      border-top-color: var(--fill-color);\n",
              "      border-right-color: var(--fill-color);\n",
              "    }\n",
              "    40% {\n",
              "      border-color: transparent;\n",
              "      border-right-color: var(--fill-color);\n",
              "      border-top-color: var(--fill-color);\n",
              "    }\n",
              "    60% {\n",
              "      border-color: transparent;\n",
              "      border-right-color: var(--fill-color);\n",
              "    }\n",
              "    80% {\n",
              "      border-color: transparent;\n",
              "      border-right-color: var(--fill-color);\n",
              "      border-bottom-color: var(--fill-color);\n",
              "    }\n",
              "    90% {\n",
              "      border-color: transparent;\n",
              "      border-bottom-color: var(--fill-color);\n",
              "    }\n",
              "  }\n",
              "</style>\n",
              "\n",
              "      <script>\n",
              "        async function quickchart(key) {\n",
              "          const quickchartButtonEl =\n",
              "            document.querySelector('#' + key + ' button');\n",
              "          quickchartButtonEl.disabled = true;  // To prevent multiple clicks.\n",
              "          quickchartButtonEl.classList.add('colab-df-spinner');\n",
              "          try {\n",
              "            const charts = await google.colab.kernel.invokeFunction(\n",
              "                'suggestCharts', [key], {});\n",
              "          } catch (error) {\n",
              "            console.error('Error during call to suggestCharts:', error);\n",
              "          }\n",
              "          quickchartButtonEl.classList.remove('colab-df-spinner');\n",
              "          quickchartButtonEl.classList.add('colab-df-quickchart-complete');\n",
              "        }\n",
              "        (() => {\n",
              "          let quickchartButtonEl =\n",
              "            document.querySelector('#df-0a7c5e33-ccc7-402a-85a7-d0227c16df20 button');\n",
              "          quickchartButtonEl.style.display =\n",
              "            google.colab.kernel.accessAllowed ? 'block' : 'none';\n",
              "        })();\n",
              "      </script>\n",
              "    </div>\n",
              "\n",
              "    </div>\n",
              "  </div>\n"
            ],
            "application/vnd.google.colaboratory.intrinsic+json": {
              "type": "dataframe",
              "variable_name": "df_ppl",
              "summary": "{\n  \"name\": \"df_ppl\",\n  \"rows\": 3,\n  \"fields\": [\n    {\n      \"column\": \"Name\",\n      \"properties\": {\n        \"dtype\": \"string\",\n        \"num_unique_values\": 3,\n        \"samples\": [\n          \"Alice\",\n          \"Bob\",\n          \"Charlie\"\n        ],\n        \"semantic_type\": \"\",\n        \"description\": \"\"\n      }\n    },\n    {\n      \"column\": \"Age\",\n      \"properties\": {\n        \"dtype\": \"number\",\n        \"std\": 5,\n        \"min\": 25,\n        \"max\": 35,\n        \"num_unique_values\": 3,\n        \"samples\": [\n          25,\n          30,\n          35\n        ],\n        \"semantic_type\": \"\",\n        \"description\": \"\"\n      }\n    },\n    {\n      \"column\": \"City\",\n      \"properties\": {\n        \"dtype\": \"string\",\n        \"num_unique_values\": 3,\n        \"samples\": [\n          \"New York\",\n          \"Boston\",\n          \"Chicago\"\n        ],\n        \"semantic_type\": \"\",\n        \"description\": \"\"\n      }\n    }\n  ]\n}"
            }
          },
          "metadata": {},
          "execution_count": 3
        }
      ],
      "source": [
        "df_ppl = pd.DataFrame([['Alice', 25, 'New York'], ['Bob', 30, 'Boston'], ['Charlie', 35, 'Chicago']], [100, 200, 300], [\"Name\", 'Age', 'City'])\n",
        "df_ppl.head()"
      ]
    },
    {
      "cell_type": "code",
      "source": [
        "df_ppl.loc[200]"
      ],
      "metadata": {
        "id": "ZCWMBKnJf2W5",
        "outputId": "66e86758-b7f4-438b-90ad-5aa729040e99",
        "colab": {
          "base_uri": "https://localhost:8080/",
          "height": 178
        }
      },
      "id": "ZCWMBKnJf2W5",
      "execution_count": 4,
      "outputs": [
        {
          "output_type": "execute_result",
          "data": {
            "text/plain": [
              "Name       Bob\n",
              "Age         30\n",
              "City    Boston\n",
              "Name: 200, dtype: object"
            ],
            "text/html": [
              "<div>\n",
              "<style scoped>\n",
              "    .dataframe tbody tr th:only-of-type {\n",
              "        vertical-align: middle;\n",
              "    }\n",
              "\n",
              "    .dataframe tbody tr th {\n",
              "        vertical-align: top;\n",
              "    }\n",
              "\n",
              "    .dataframe thead th {\n",
              "        text-align: right;\n",
              "    }\n",
              "</style>\n",
              "<table border=\"1\" class=\"dataframe\">\n",
              "  <thead>\n",
              "    <tr style=\"text-align: right;\">\n",
              "      <th></th>\n",
              "      <th>200</th>\n",
              "    </tr>\n",
              "  </thead>\n",
              "  <tbody>\n",
              "    <tr>\n",
              "      <th>Name</th>\n",
              "      <td>Bob</td>\n",
              "    </tr>\n",
              "    <tr>\n",
              "      <th>Age</th>\n",
              "      <td>30</td>\n",
              "    </tr>\n",
              "    <tr>\n",
              "      <th>City</th>\n",
              "      <td>Boston</td>\n",
              "    </tr>\n",
              "  </tbody>\n",
              "</table>\n",
              "</div><br><label><b>dtype:</b> object</label>"
            ]
          },
          "metadata": {},
          "execution_count": 4
        }
      ]
    },
    {
      "cell_type": "code",
      "source": [
        "df_ppl.iloc[0]"
      ],
      "metadata": {
        "id": "IVgU3c2GgDQd",
        "outputId": "f40dba7f-6390-45c8-980a-e4f9192279f1",
        "colab": {
          "base_uri": "https://localhost:8080/",
          "height": 178
        }
      },
      "id": "IVgU3c2GgDQd",
      "execution_count": 5,
      "outputs": [
        {
          "output_type": "execute_result",
          "data": {
            "text/plain": [
              "Name       Alice\n",
              "Age           25\n",
              "City    New York\n",
              "Name: 100, dtype: object"
            ],
            "text/html": [
              "<div>\n",
              "<style scoped>\n",
              "    .dataframe tbody tr th:only-of-type {\n",
              "        vertical-align: middle;\n",
              "    }\n",
              "\n",
              "    .dataframe tbody tr th {\n",
              "        vertical-align: top;\n",
              "    }\n",
              "\n",
              "    .dataframe thead th {\n",
              "        text-align: right;\n",
              "    }\n",
              "</style>\n",
              "<table border=\"1\" class=\"dataframe\">\n",
              "  <thead>\n",
              "    <tr style=\"text-align: right;\">\n",
              "      <th></th>\n",
              "      <th>100</th>\n",
              "    </tr>\n",
              "  </thead>\n",
              "  <tbody>\n",
              "    <tr>\n",
              "      <th>Name</th>\n",
              "      <td>Alice</td>\n",
              "    </tr>\n",
              "    <tr>\n",
              "      <th>Age</th>\n",
              "      <td>25</td>\n",
              "    </tr>\n",
              "    <tr>\n",
              "      <th>City</th>\n",
              "      <td>New York</td>\n",
              "    </tr>\n",
              "  </tbody>\n",
              "</table>\n",
              "</div><br><label><b>dtype:</b> object</label>"
            ]
          },
          "metadata": {},
          "execution_count": 5
        }
      ]
    },
    {
      "cell_type": "code",
      "source": [
        "df_ppl.iloc[1:3, [0, 2]] #can't do 1:2 because it ends on 2 (before 2). also columns MUST be [0,2] not [1,3]"
      ],
      "metadata": {
        "id": "m5E6AOIQgcw2",
        "outputId": "8e36d098-d1a3-4320-8cbe-622cd54f1a63",
        "colab": {
          "base_uri": "https://localhost:8080/",
          "height": 112
        }
      },
      "id": "m5E6AOIQgcw2",
      "execution_count": null,
      "outputs": [
        {
          "output_type": "execute_result",
          "data": {
            "text/plain": [
              "        Name     City\n",
              "200      Bob   Boston\n",
              "300  Charlie  Chicago"
            ],
            "text/html": [
              "\n",
              "  <div id=\"df-17f3edc0-004a-4593-a33a-3940699ebf52\" class=\"colab-df-container\">\n",
              "    <div>\n",
              "<style scoped>\n",
              "    .dataframe tbody tr th:only-of-type {\n",
              "        vertical-align: middle;\n",
              "    }\n",
              "\n",
              "    .dataframe tbody tr th {\n",
              "        vertical-align: top;\n",
              "    }\n",
              "\n",
              "    .dataframe thead th {\n",
              "        text-align: right;\n",
              "    }\n",
              "</style>\n",
              "<table border=\"1\" class=\"dataframe\">\n",
              "  <thead>\n",
              "    <tr style=\"text-align: right;\">\n",
              "      <th></th>\n",
              "      <th>Name</th>\n",
              "      <th>City</th>\n",
              "    </tr>\n",
              "  </thead>\n",
              "  <tbody>\n",
              "    <tr>\n",
              "      <th>200</th>\n",
              "      <td>Bob</td>\n",
              "      <td>Boston</td>\n",
              "    </tr>\n",
              "    <tr>\n",
              "      <th>300</th>\n",
              "      <td>Charlie</td>\n",
              "      <td>Chicago</td>\n",
              "    </tr>\n",
              "  </tbody>\n",
              "</table>\n",
              "</div>\n",
              "    <div class=\"colab-df-buttons\">\n",
              "\n",
              "  <div class=\"colab-df-container\">\n",
              "    <button class=\"colab-df-convert\" onclick=\"convertToInteractive('df-17f3edc0-004a-4593-a33a-3940699ebf52')\"\n",
              "            title=\"Convert this dataframe to an interactive table.\"\n",
              "            style=\"display:none;\">\n",
              "\n",
              "  <svg xmlns=\"http://www.w3.org/2000/svg\" height=\"24px\" viewBox=\"0 -960 960 960\">\n",
              "    <path d=\"M120-120v-720h720v720H120Zm60-500h600v-160H180v160Zm220 220h160v-160H400v160Zm0 220h160v-160H400v160ZM180-400h160v-160H180v160Zm440 0h160v-160H620v160ZM180-180h160v-160H180v160Zm440 0h160v-160H620v160Z\"/>\n",
              "  </svg>\n",
              "    </button>\n",
              "\n",
              "  <style>\n",
              "    .colab-df-container {\n",
              "      display:flex;\n",
              "      gap: 12px;\n",
              "    }\n",
              "\n",
              "    .colab-df-convert {\n",
              "      background-color: #E8F0FE;\n",
              "      border: none;\n",
              "      border-radius: 50%;\n",
              "      cursor: pointer;\n",
              "      display: none;\n",
              "      fill: #1967D2;\n",
              "      height: 32px;\n",
              "      padding: 0 0 0 0;\n",
              "      width: 32px;\n",
              "    }\n",
              "\n",
              "    .colab-df-convert:hover {\n",
              "      background-color: #E2EBFA;\n",
              "      box-shadow: 0px 1px 2px rgba(60, 64, 67, 0.3), 0px 1px 3px 1px rgba(60, 64, 67, 0.15);\n",
              "      fill: #174EA6;\n",
              "    }\n",
              "\n",
              "    .colab-df-buttons div {\n",
              "      margin-bottom: 4px;\n",
              "    }\n",
              "\n",
              "    [theme=dark] .colab-df-convert {\n",
              "      background-color: #3B4455;\n",
              "      fill: #D2E3FC;\n",
              "    }\n",
              "\n",
              "    [theme=dark] .colab-df-convert:hover {\n",
              "      background-color: #434B5C;\n",
              "      box-shadow: 0px 1px 3px 1px rgba(0, 0, 0, 0.15);\n",
              "      filter: drop-shadow(0px 1px 2px rgba(0, 0, 0, 0.3));\n",
              "      fill: #FFFFFF;\n",
              "    }\n",
              "  </style>\n",
              "\n",
              "    <script>\n",
              "      const buttonEl =\n",
              "        document.querySelector('#df-17f3edc0-004a-4593-a33a-3940699ebf52 button.colab-df-convert');\n",
              "      buttonEl.style.display =\n",
              "        google.colab.kernel.accessAllowed ? 'block' : 'none';\n",
              "\n",
              "      async function convertToInteractive(key) {\n",
              "        const element = document.querySelector('#df-17f3edc0-004a-4593-a33a-3940699ebf52');\n",
              "        const dataTable =\n",
              "          await google.colab.kernel.invokeFunction('convertToInteractive',\n",
              "                                                    [key], {});\n",
              "        if (!dataTable) return;\n",
              "\n",
              "        const docLinkHtml = 'Like what you see? Visit the ' +\n",
              "          '<a target=\"_blank\" href=https://colab.research.google.com/notebooks/data_table.ipynb>data table notebook</a>'\n",
              "          + ' to learn more about interactive tables.';\n",
              "        element.innerHTML = '';\n",
              "        dataTable['output_type'] = 'display_data';\n",
              "        await google.colab.output.renderOutput(dataTable, element);\n",
              "        const docLink = document.createElement('div');\n",
              "        docLink.innerHTML = docLinkHtml;\n",
              "        element.appendChild(docLink);\n",
              "      }\n",
              "    </script>\n",
              "  </div>\n",
              "\n",
              "\n",
              "    <div id=\"df-908c742f-a3c0-4903-8905-321464a23405\">\n",
              "      <button class=\"colab-df-quickchart\" onclick=\"quickchart('df-908c742f-a3c0-4903-8905-321464a23405')\"\n",
              "                title=\"Suggest charts\"\n",
              "                style=\"display:none;\">\n",
              "\n",
              "<svg xmlns=\"http://www.w3.org/2000/svg\" height=\"24px\"viewBox=\"0 0 24 24\"\n",
              "     width=\"24px\">\n",
              "    <g>\n",
              "        <path d=\"M19 3H5c-1.1 0-2 .9-2 2v14c0 1.1.9 2 2 2h14c1.1 0 2-.9 2-2V5c0-1.1-.9-2-2-2zM9 17H7v-7h2v7zm4 0h-2V7h2v10zm4 0h-2v-4h2v4z\"/>\n",
              "    </g>\n",
              "</svg>\n",
              "      </button>\n",
              "\n",
              "<style>\n",
              "  .colab-df-quickchart {\n",
              "      --bg-color: #E8F0FE;\n",
              "      --fill-color: #1967D2;\n",
              "      --hover-bg-color: #E2EBFA;\n",
              "      --hover-fill-color: #174EA6;\n",
              "      --disabled-fill-color: #AAA;\n",
              "      --disabled-bg-color: #DDD;\n",
              "  }\n",
              "\n",
              "  [theme=dark] .colab-df-quickchart {\n",
              "      --bg-color: #3B4455;\n",
              "      --fill-color: #D2E3FC;\n",
              "      --hover-bg-color: #434B5C;\n",
              "      --hover-fill-color: #FFFFFF;\n",
              "      --disabled-bg-color: #3B4455;\n",
              "      --disabled-fill-color: #666;\n",
              "  }\n",
              "\n",
              "  .colab-df-quickchart {\n",
              "    background-color: var(--bg-color);\n",
              "    border: none;\n",
              "    border-radius: 50%;\n",
              "    cursor: pointer;\n",
              "    display: none;\n",
              "    fill: var(--fill-color);\n",
              "    height: 32px;\n",
              "    padding: 0;\n",
              "    width: 32px;\n",
              "  }\n",
              "\n",
              "  .colab-df-quickchart:hover {\n",
              "    background-color: var(--hover-bg-color);\n",
              "    box-shadow: 0 1px 2px rgba(60, 64, 67, 0.3), 0 1px 3px 1px rgba(60, 64, 67, 0.15);\n",
              "    fill: var(--button-hover-fill-color);\n",
              "  }\n",
              "\n",
              "  .colab-df-quickchart-complete:disabled,\n",
              "  .colab-df-quickchart-complete:disabled:hover {\n",
              "    background-color: var(--disabled-bg-color);\n",
              "    fill: var(--disabled-fill-color);\n",
              "    box-shadow: none;\n",
              "  }\n",
              "\n",
              "  .colab-df-spinner {\n",
              "    border: 2px solid var(--fill-color);\n",
              "    border-color: transparent;\n",
              "    border-bottom-color: var(--fill-color);\n",
              "    animation:\n",
              "      spin 1s steps(1) infinite;\n",
              "  }\n",
              "\n",
              "  @keyframes spin {\n",
              "    0% {\n",
              "      border-color: transparent;\n",
              "      border-bottom-color: var(--fill-color);\n",
              "      border-left-color: var(--fill-color);\n",
              "    }\n",
              "    20% {\n",
              "      border-color: transparent;\n",
              "      border-left-color: var(--fill-color);\n",
              "      border-top-color: var(--fill-color);\n",
              "    }\n",
              "    30% {\n",
              "      border-color: transparent;\n",
              "      border-left-color: var(--fill-color);\n",
              "      border-top-color: var(--fill-color);\n",
              "      border-right-color: var(--fill-color);\n",
              "    }\n",
              "    40% {\n",
              "      border-color: transparent;\n",
              "      border-right-color: var(--fill-color);\n",
              "      border-top-color: var(--fill-color);\n",
              "    }\n",
              "    60% {\n",
              "      border-color: transparent;\n",
              "      border-right-color: var(--fill-color);\n",
              "    }\n",
              "    80% {\n",
              "      border-color: transparent;\n",
              "      border-right-color: var(--fill-color);\n",
              "      border-bottom-color: var(--fill-color);\n",
              "    }\n",
              "    90% {\n",
              "      border-color: transparent;\n",
              "      border-bottom-color: var(--fill-color);\n",
              "    }\n",
              "  }\n",
              "</style>\n",
              "\n",
              "      <script>\n",
              "        async function quickchart(key) {\n",
              "          const quickchartButtonEl =\n",
              "            document.querySelector('#' + key + ' button');\n",
              "          quickchartButtonEl.disabled = true;  // To prevent multiple clicks.\n",
              "          quickchartButtonEl.classList.add('colab-df-spinner');\n",
              "          try {\n",
              "            const charts = await google.colab.kernel.invokeFunction(\n",
              "                'suggestCharts', [key], {});\n",
              "          } catch (error) {\n",
              "            console.error('Error during call to suggestCharts:', error);\n",
              "          }\n",
              "          quickchartButtonEl.classList.remove('colab-df-spinner');\n",
              "          quickchartButtonEl.classList.add('colab-df-quickchart-complete');\n",
              "        }\n",
              "        (() => {\n",
              "          let quickchartButtonEl =\n",
              "            document.querySelector('#df-908c742f-a3c0-4903-8905-321464a23405 button');\n",
              "          quickchartButtonEl.style.display =\n",
              "            google.colab.kernel.accessAllowed ? 'block' : 'none';\n",
              "        })();\n",
              "      </script>\n",
              "    </div>\n",
              "\n",
              "    </div>\n",
              "  </div>\n"
            ],
            "application/vnd.google.colaboratory.intrinsic+json": {
              "type": "dataframe",
              "summary": "{\n  \"name\": \"df_ppl\",\n  \"rows\": 2,\n  \"fields\": [\n    {\n      \"column\": \"Name\",\n      \"properties\": {\n        \"dtype\": \"string\",\n        \"num_unique_values\": 2,\n        \"samples\": [\n          \"Charlie\",\n          \"Bob\"\n        ],\n        \"semantic_type\": \"\",\n        \"description\": \"\"\n      }\n    },\n    {\n      \"column\": \"City\",\n      \"properties\": {\n        \"dtype\": \"string\",\n        \"num_unique_values\": 2,\n        \"samples\": [\n          \"Chicago\",\n          \"Boston\"\n        ],\n        \"semantic_type\": \"\",\n        \"description\": \"\"\n      }\n    }\n  ]\n}"
            }
          },
          "metadata": {},
          "execution_count": 13
        }
      ]
    },
    {
      "cell_type": "markdown",
      "id": "b55830e5",
      "metadata": {
        "id": "b55830e5"
      },
      "source": [
        "## Iterating Through Rows and Columns\n",
        "\n",
        "#### Using .iterrows()\n",
        "\n",
        "- Iterates through DataFrame rows as (index, Series) pairs\n",
        "- Each row is returned as a pandas Series object\n",
        "- Useful for row-wise operations\n",
        "- Note: Can be slower than vectorized operations\n",
        "\n",
        "#### Using .items()\n",
        "\n",
        "- Iterates through DataFrame columns as (column_name, Series) pairs\n",
        "- Each column is returned as a pandas Series object\n",
        "- Useful for column-wise operations\n",
        "\n",
        "#### Best Practices:\n",
        "\n",
        "- Use vectorized operations when possible for better performance\n",
        "- Only use iteration when necessary for custom row/column operations\n",
        "- Consider using .apply() as an alternative to explicit loops\n"
      ]
    },
    {
      "cell_type": "code",
      "execution_count": 6,
      "id": "894b3b88",
      "metadata": {
        "id": "894b3b88",
        "outputId": "f3d3ec14-36c9-4905-c5c1-926b9730e8e7",
        "colab": {
          "base_uri": "https://localhost:8080/"
        }
      },
      "outputs": [
        {
          "output_type": "stream",
          "name": "stdout",
          "text": [
            "Row 0: 1\n",
            "Row 1: 2\n",
            "Row 2: 3\n",
            "Row 3: 4\n",
            "Row 4: 5\n"
          ]
        }
      ],
      "source": [
        "for index, row in df.iterrows():\n",
        "    print(f\"Row {index}: {row ['A']}\")\n",
        "    if index > 3:\n",
        "        break\n"
      ]
    },
    {
      "cell_type": "code",
      "source": [
        "for index, row in df.iterrows():\n",
        "    print(f\"Row {index}: {row}\")\n",
        "    if index > 3:\n",
        "        break"
      ],
      "metadata": {
        "id": "lBPTYf18ltg2",
        "outputId": "983495f5-54ea-498b-e0b5-39d8f0aa5baf",
        "colab": {
          "base_uri": "https://localhost:8080/"
        }
      },
      "id": "lBPTYf18ltg2",
      "execution_count": 7,
      "outputs": [
        {
          "output_type": "stream",
          "name": "stdout",
          "text": [
            "Row 0: A      1\n",
            "B     10\n",
            "C    100\n",
            "Name: 0, dtype: int64\n",
            "Row 1: A      2\n",
            "B     20\n",
            "C    200\n",
            "Name: 1, dtype: int64\n",
            "Row 2: A      3\n",
            "B     30\n",
            "C    300\n",
            "Name: 2, dtype: int64\n",
            "Row 3: A      4\n",
            "B     40\n",
            "C    400\n",
            "Name: 3, dtype: int64\n",
            "Row 4: A      5\n",
            "B     50\n",
            "C    500\n",
            "Name: 4, dtype: int64\n"
          ]
        }
      ]
    },
    {
      "cell_type": "code",
      "execution_count": 8,
      "id": "b2f38e17",
      "metadata": {
        "id": "b2f38e17",
        "outputId": "793c7a29-a749-487f-86e0-2861f8fa81f7",
        "colab": {
          "base_uri": "https://localhost:8080/"
        }
      },
      "outputs": [
        {
          "output_type": "stream",
          "name": "stdout",
          "text": [
            "Column A: 0    1\n",
            "1    2\n",
            "2    3\n",
            "3    4\n",
            "4    5\n",
            "Name: A, dtype: int64\n"
          ]
        }
      ],
      "source": [
        "for column_name, column_data in df.items():\n",
        "    if column_name == 'A':  # Stop after mean radius column\n",
        "        print(f\"Column {column_name}: {column_data[0:5]}\")  # Print first value in each column\n",
        "        break\n"
      ]
    },
    {
      "cell_type": "code",
      "source": [
        "df.items()"
      ],
      "metadata": {
        "id": "SzVRjs8mjMNO",
        "outputId": "48a4d279-5d7a-461d-c09c-f4d60b9ea7d7",
        "colab": {
          "base_uri": "https://localhost:8080/"
        }
      },
      "id": "SzVRjs8mjMNO",
      "execution_count": null,
      "outputs": [
        {
          "output_type": "execute_result",
          "data": {
            "text/plain": [
              "<generator object DataFrame.items at 0x788b501eee30>"
            ]
          },
          "metadata": {},
          "execution_count": 17
        }
      ]
    },
    {
      "cell_type": "markdown",
      "id": "5fdbcdfb",
      "metadata": {
        "id": "5fdbcdfb"
      },
      "source": [
        "#### ✏️ **Exercise**\n",
        "\n",
        "Create a loop using .items() to find the maximum value in each column of df.\n",
        "Print the column name and its maximum value.\n",
        "\n",
        "- Example output:\n",
        "\n",
        "`A: 5`\n",
        "\n",
        "`B: 50`\n",
        "\n",
        "`C: 500`\n"
      ]
    },
    {
      "cell_type": "code",
      "execution_count": null,
      "id": "e1bb3688",
      "metadata": {
        "id": "e1bb3688",
        "outputId": "eeefd449-66ed-405e-8e69-eeea69196a9d",
        "colab": {
          "base_uri": "https://localhost:8080/"
        }
      },
      "outputs": [
        {
          "output_type": "stream",
          "name": "stdout",
          "text": [
            "A : 5\n",
            "B : 50\n",
            "C : 500\n"
          ]
        }
      ],
      "source": [
        "df = pd.DataFrame(sample_data)\n",
        "for column, data in df.items():\n",
        "  print(f'{column} : {data.max()}')"
      ]
    },
    {
      "cell_type": "markdown",
      "id": "2bde1adb",
      "metadata": {
        "id": "2bde1adb"
      },
      "source": [
        "## Combining DataFrames\n",
        "\n",
        "### Concatenating Datasets with pd.concat()\n",
        "\n",
        "- Use `pd.concat()` to stack DataFrames vertically or horizontally\n",
        "- Parameters:\n",
        "  - `axis=0`: Stack vertically (default)\n",
        "  - `axis=1`: Stack horizontally\n",
        "  - `ignore_index`: Reset index after concatenation\n"
      ]
    },
    {
      "cell_type": "code",
      "execution_count": 9,
      "id": "c4aa4b7e",
      "metadata": {
        "id": "c4aa4b7e",
        "outputId": "b86c67b3-3bcb-4114-c789-d01f7997dafb",
        "colab": {
          "base_uri": "https://localhost:8080/"
        }
      },
      "outputs": [
        {
          "output_type": "stream",
          "name": "stdout",
          "text": [
            "DataFrame 1:\n",
            "    A   B\n",
            "0  A0  B0\n",
            "1  A1  B1\n",
            "2  A2  B2\n",
            "\n",
            "DataFrame 2:\n",
            "    A   B\n",
            "0  A3  B3\n",
            "1  A4  B4\n",
            "2  A5  B5\n",
            "\n",
            "DataFrame 3:\n",
            "    C   D\n",
            "0  C0  D0\n",
            "1  C1  D1\n",
            "2  C2  D2\n",
            "\n",
            "Vertical concatenation (axis=0):\n",
            "    A   B\n",
            "0  A0  B0\n",
            "1  A1  B1\n",
            "2  A2  B2\n",
            "0  A3  B3\n",
            "1  A4  B4\n",
            "2  A5  B5\n"
          ]
        }
      ],
      "source": [
        "# Create sample DataFrames\n",
        "df1 = pd.DataFrame({\n",
        "    'A': ['A0', 'A1', 'A2'],\n",
        "    'B': ['B0', 'B1', 'B2']\n",
        "})\n",
        "\n",
        "df2 = pd.DataFrame({\n",
        "    'A': ['A3', 'A4', 'A5'],\n",
        "    'B': ['B3', 'B4', 'B5']\n",
        "})\n",
        "\n",
        "df3 = pd.DataFrame({\n",
        "    'C': ['C0', 'C1', 'C2'],\n",
        "    'D': ['D0', 'D1', 'D2']\n",
        "})\n",
        "\n",
        "print(\"DataFrame 1:\")\n",
        "print(df1)\n",
        "print(\"\\nDataFrame 2:\")\n",
        "print(df2)\n",
        "print(\"\\nDataFrame 3:\")\n",
        "print(df3)\n",
        "\n",
        "# Vertical concatenation (axis=0)\n",
        "vertical_concat = pd.concat([df1, df2])\n",
        "print(\"\\nVertical concatenation (axis=0):\")\n",
        "print(vertical_concat)"
      ]
    },
    {
      "cell_type": "code",
      "execution_count": null,
      "id": "15548ee1",
      "metadata": {
        "id": "15548ee1",
        "outputId": "479f4f9e-b8b1-46cc-e0e4-883864d794fa",
        "colab": {
          "base_uri": "https://localhost:8080/"
        }
      },
      "outputs": [
        {
          "output_type": "stream",
          "name": "stdout",
          "text": [
            "DataFrame 1:\n",
            "    A   B\n",
            "0  A0  B0\n",
            "1  A1  B1\n",
            "2  A2  B2\n",
            "\n",
            "DataFrame 2:\n",
            "    A   B\n",
            "0  A3  B3\n",
            "1  A4  B4\n",
            "2  A5  B5\n",
            "\n",
            "Vertical concatenation with reset index:\n",
            "    A   B\n",
            "0  A0  B0\n",
            "1  A1  B1\n",
            "2  A2  B2\n",
            "3  A3  B3\n",
            "4  A4  B4\n",
            "5  A5  B5\n"
          ]
        }
      ],
      "source": [
        "print(\"DataFrame 1:\")\n",
        "print(df1)\n",
        "print(\"\\nDataFrame 2:\")\n",
        "print(df2)\n",
        "# Vertical concatenation with reset index\n",
        "vertical_concat_reset = pd.concat([df1, df2], ignore_index=True)\n",
        "print(\"\\nVertical concatenation with reset index:\")\n",
        "print(vertical_concat_reset)"
      ]
    },
    {
      "cell_type": "code",
      "execution_count": null,
      "id": "f3e645c1",
      "metadata": {
        "id": "f3e645c1",
        "outputId": "3a7a11f9-ddb2-4321-96e3-17b167e54518",
        "colab": {
          "base_uri": "https://localhost:8080/"
        }
      },
      "outputs": [
        {
          "output_type": "stream",
          "name": "stdout",
          "text": [
            "DataFrame 1:\n",
            "    A   B\n",
            "0  A0  B0\n",
            "1  A1  B1\n",
            "2  A2  B2\n",
            "\n",
            "DataFrame 3:\n",
            "    C   D\n",
            "0  C0  D0\n",
            "1  C1  D1\n",
            "2  C2  D2\n",
            "\n",
            "Horizontal concatenation (axis=1):\n",
            "    A   B   C   D\n",
            "0  A0  B0  C0  D0\n",
            "1  A1  B1  C1  D1\n",
            "2  A2  B2  C2  D2\n"
          ]
        }
      ],
      "source": [
        "print(\"DataFrame 1:\")\n",
        "print(df1)\n",
        "\n",
        "print(\"\\nDataFrame 3:\")\n",
        "print(df3)\n",
        "# Horizontal concatenation (axis=1)\n",
        "horizontal_concat = pd.concat([df1, df3], axis=1)\n",
        "print(\"\\nHorizontal concatenation (axis=1):\")\n",
        "print(horizontal_concat)\n"
      ]
    },
    {
      "cell_type": "markdown",
      "id": "ed5f7e87",
      "metadata": {
        "id": "ed5f7e87"
      },
      "source": [
        "### Merging Datasets with pd.merge()\n",
        "\n",
        "- Use `pd.merge()` to combine DataFrames based on common columns/keys\n",
        "- Similar to SQL JOIN operations\n",
        "- Use `on`: to specify the column(s) to merge on\n"
      ]
    },
    {
      "cell_type": "code",
      "execution_count": null,
      "id": "3c956700",
      "metadata": {
        "id": "3c956700",
        "outputId": "f67fee57-7e20-4712-80a2-74ea018e275a",
        "colab": {
          "base_uri": "https://localhost:8080/"
        }
      },
      "outputs": [
        {
          "output_type": "stream",
          "name": "stdout",
          "text": [
            "DataFrame 1:\n",
            "  key  columnA\n",
            "0   A        1\n",
            "1   B        2\n",
            "2   C        3\n",
            "\n",
            "DataFrame 2:\n",
            "  key  columnB\n",
            "0   A        3\n",
            "1   B        4\n",
            "\n",
            "Single key merge:\n",
            "  key  columnA  columnB\n",
            "0   A        1        3\n",
            "1   B        2        4\n"
          ]
        }
      ],
      "source": [
        "# Single key merge\n",
        "df1 = pd.DataFrame({'key': ['A', 'B', 'C'], 'columnA': [1, 2, 3]})\n",
        "df2 = pd.DataFrame({'key': ['A', 'B'], 'columnB': [3, 4]})\n",
        "merged_single = pd.merge(df1, df2, on='key')\n",
        "\n",
        "print(\"DataFrame 1:\")\n",
        "print(df1)\n",
        "\n",
        "print(\"\\nDataFrame 2:\")\n",
        "print(df2)\n",
        "\n",
        "print(\"\\nSingle key merge:\")\n",
        "print(merged_single)\n",
        "\n"
      ]
    },
    {
      "cell_type": "code",
      "execution_count": null,
      "id": "f537ceba",
      "metadata": {
        "id": "f537ceba",
        "outputId": "f3c43809-db5a-46a0-dc25-488c085600ca",
        "colab": {
          "base_uri": "https://localhost:8080/"
        }
      },
      "outputs": [
        {
          "output_type": "stream",
          "name": "stdout",
          "text": [
            "DataFrame 1:\n",
            "  ColumnA  ColumnB  ColumnX\n",
            "0       A        1        1\n",
            "1       B        2        2\n",
            "2       C        3        3\n",
            "3       D        4        4\n",
            "\n",
            "DataFrame 2:\n",
            "  ColumnA  ColumnB  ColumnY\n",
            "0       B        2        4\n",
            "1       C        3        5\n",
            "2       D        1        6\n",
            "3       E        2        7\n",
            "Multiple key merge:\n",
            "  ColumnA  ColumnB  ColumnX  ColumnY\n",
            "0       B        2        2        4\n",
            "1       C        3        3        5\n",
            "\n"
          ]
        }
      ],
      "source": [
        "# Multiple key merge\n",
        "df3 = pd.DataFrame({'ColumnA': ['A', 'B', 'C', 'D'], 'ColumnB': [1, 2, 3, 4], 'ColumnX': [1, 2, 3, 4]})\n",
        "df4 = pd.DataFrame({'ColumnA': ['B', 'C', 'D', 'E'], 'ColumnB': [2, 3, 1, 2], 'ColumnY': [4, 5, 6, 7]})\n",
        "merged_multi = pd.merge(df3, df4, on=['ColumnA', 'ColumnB'])\n",
        "\n",
        "print(\"DataFrame 1:\")\n",
        "print(df3)\n",
        "\n",
        "print(\"\\nDataFrame 2:\")\n",
        "print(df4)\n",
        "\n",
        "print(\"Multiple key merge:\")\n",
        "print(merged_multi)\n",
        "print()\n"
      ]
    },
    {
      "cell_type": "markdown",
      "id": "2d8db971",
      "metadata": {
        "id": "2d8db971"
      },
      "source": [
        "#### ✏️ **Exercise**\n",
        "\n",
        "Try to predict the output of the following operations:\n",
        "\n",
        "1. What will happen when we merge these DataFrames?\n",
        "   ```python\n",
        "   df1 = pd.DataFrame({'key': ['A','B'], 'val': [1,2]})\n",
        "   df2 = pd.DataFrame({'key': ['B','C'], 'val': [3,4]})\n",
        "   pd.merge(df1, df2, on='key')\n",
        "   ```\n",
        "2. What will happen when we concatenate the same DataFrames?\n",
        "   ```python\n",
        "   pd.concat([df1, df2])\n",
        "   ```\n",
        "   Key differences to note:\n",
        "\n",
        "- merge: Combines based on matching values in the 'key' column\n",
        "- concat: Simply stacks the DataFrames, keeping all rows\n",
        "  Check your predictions in the next code cell!\n"
      ]
    },
    {
      "cell_type": "code",
      "execution_count": null,
      "id": "5f5f38f4",
      "metadata": {
        "id": "5f5f38f4"
      },
      "outputs": [],
      "source": []
    },
    {
      "cell_type": "markdown",
      "id": "da106ab8",
      "metadata": {
        "id": "da106ab8"
      },
      "source": [
        "## Data Cleaning and Preprocessing\n",
        "\n",
        "### Checking for Missing Values\n",
        "\n",
        "- Use `.isna()` or `.isnull()` to check for missing values.\n",
        "- Use `.notna()` or `.notnull()` to check for non-missing values.\n",
        "- Use `.any()` to see if any values are missing in a DataFrame.\n",
        "- Use `.sum()` to count the number of missing values in each column.\n"
      ]
    },
    {
      "cell_type": "code",
      "execution_count": 10,
      "id": "0bf83df1",
      "metadata": {
        "id": "0bf83df1",
        "outputId": "8370c850-ac43-42aa-b237-edb96f2d7894",
        "colab": {
          "base_uri": "https://localhost:8080/"
        }
      },
      "outputs": [
        {
          "output_type": "stream",
          "name": "stdout",
          "text": [
            "DataFrame with NaN, None, and pd.NA values:\n",
            "     A     B\n",
            "0  NaN   4.0\n",
            "1  NaN   NaN\n",
            "2  3.0   NaN\n",
            "3  1.0  33.0\n"
          ]
        }
      ],
      "source": [
        "df_with_nan = pd.DataFrame({'A': [None, None, 3, 1], 'B': [4, None, None, 33]})\n",
        "df_with_nan.iloc[0, 0] = pd.NA  # Introduce pd.NA to make .isna different from .isnull\n",
        "print(\"DataFrame with NaN, None, and pd.NA values:\")\n",
        "print(df_with_nan)\n"
      ]
    },
    {
      "cell_type": "code",
      "execution_count": 11,
      "id": "3694daa1",
      "metadata": {
        "id": "3694daa1",
        "outputId": "c5aaf123-78e8-4f77-8f2f-dd79ca06037c",
        "colab": {
          "base_uri": "https://localhost:8080/"
        }
      },
      "outputs": [
        {
          "output_type": "stream",
          "name": "stdout",
          "text": [
            "\n",
            "Check for missing values using .isna():\n",
            "       A      B\n",
            "0   True  False\n",
            "1   True   True\n",
            "2  False   True\n",
            "3  False  False\n"
          ]
        }
      ],
      "source": [
        "print(\"\\nCheck for missing values using .isna():\")\n",
        "print(df_with_nan.isna())\n"
      ]
    },
    {
      "cell_type": "markdown",
      "id": "141c40e3",
      "metadata": {
        "id": "141c40e3"
      },
      "source": [
        "isna\n"
      ]
    },
    {
      "cell_type": "code",
      "execution_count": 12,
      "id": "b086fa85",
      "metadata": {
        "id": "b086fa85",
        "outputId": "e1aaa76b-a865-44b0-e978-5a18603ddac0",
        "colab": {
          "base_uri": "https://localhost:8080/"
        }
      },
      "outputs": [
        {
          "output_type": "stream",
          "name": "stdout",
          "text": [
            "\n",
            "Check for non-missing values using .notna():\n",
            "       A      B\n",
            "0  False   True\n",
            "1  False  False\n",
            "2   True  False\n",
            "3   True   True\n"
          ]
        }
      ],
      "source": [
        "print(\"\\nCheck for non-missing values using .notna():\")\n",
        "print(df_with_nan.notna())\n"
      ]
    },
    {
      "cell_type": "code",
      "execution_count": 13,
      "id": "30aef07c",
      "metadata": {
        "id": "30aef07c",
        "outputId": "e12a26a3-0e74-464a-9146-4a5458590a7c",
        "colab": {
          "base_uri": "https://localhost:8080/"
        }
      },
      "outputs": [
        {
          "output_type": "stream",
          "name": "stdout",
          "text": [
            "\n",
            "Check if any values are missing in the DataFrame using .any():\n",
            "A    True\n",
            "B    True\n",
            "dtype: bool\n"
          ]
        }
      ],
      "source": [
        "print(\"\\nCheck if any values are missing in the DataFrame using .any():\")\n",
        "print(df_with_nan.isna().any())\n"
      ]
    },
    {
      "cell_type": "code",
      "execution_count": 14,
      "id": "78929631",
      "metadata": {
        "id": "78929631",
        "outputId": "66742256-f7c2-4aec-967d-38d19c620a88",
        "colab": {
          "base_uri": "https://localhost:8080/"
        }
      },
      "outputs": [
        {
          "output_type": "stream",
          "name": "stdout",
          "text": [
            "\n",
            "Count the number of missing values in each column using .sum():\n",
            "A    2\n",
            "B    2\n",
            "dtype: int64\n"
          ]
        }
      ],
      "source": [
        "\n",
        "print(\"\\nCount the number of missing values in each column using .sum():\")\n",
        "print(df_with_nan.isna().sum())\n"
      ]
    },
    {
      "cell_type": "markdown",
      "id": "1368e3b5",
      "metadata": {
        "id": "1368e3b5"
      },
      "source": [
        "### Handling Missing Values\n",
        "\n",
        "- Use `.fillna()` to replace missing values with a specified value.\n",
        "- Use `.dropna()` to remove rows or columns with missing values.\n"
      ]
    },
    {
      "cell_type": "code",
      "execution_count": 15,
      "id": "e67a29cc",
      "metadata": {
        "id": "e67a29cc",
        "outputId": "90a54f1c-f183-4e70-8234-7bf8e10bde90",
        "colab": {
          "base_uri": "https://localhost:8080/"
        }
      },
      "outputs": [
        {
          "output_type": "stream",
          "name": "stdout",
          "text": [
            "     A    B\n",
            "0  1.0  4.0\n",
            "1  0.0  5.0\n",
            "2  3.0  0.0\n"
          ]
        }
      ],
      "source": [
        "df_with_nan = pd.DataFrame({'A': [1, None, 3], 'B': [4, 5, None]})\n",
        "filled_df = df_with_nan.fillna(0)\n",
        "print(filled_df)\n"
      ]
    },
    {
      "cell_type": "code",
      "execution_count": 16,
      "id": "eaf003e3",
      "metadata": {
        "id": "eaf003e3",
        "outputId": "35322814-0aae-4261-e70d-589a6c7b2d2f",
        "colab": {
          "base_uri": "https://localhost:8080/"
        }
      },
      "outputs": [
        {
          "output_type": "stream",
          "name": "stdout",
          "text": [
            "     A    B\n",
            "0  1.0  4.0\n"
          ]
        }
      ],
      "source": [
        "df_with_nan = pd.DataFrame({'A': [1, None, 3], 'B': [4, 5, None]})\n",
        "dropped_df = df_with_nan.dropna()\n",
        "print(dropped_df)\n"
      ]
    },
    {
      "cell_type": "code",
      "source": [
        "#Exercise; create a new dataframe that only includes real entries for all columns in the row\n"
      ],
      "metadata": {
        "id": "9uu4d6Wc5nRd"
      },
      "id": "9uu4d6Wc5nRd",
      "execution_count": null,
      "outputs": []
    },
    {
      "cell_type": "markdown",
      "id": "bae2b90c",
      "metadata": {
        "id": "bae2b90c"
      },
      "source": [
        "### Data Type Conversion\n",
        "\n",
        "- Use `.astype()` to convert data types.\n"
      ]
    },
    {
      "cell_type": "code",
      "execution_count": 19,
      "id": "199c6a24",
      "metadata": {
        "id": "199c6a24",
        "colab": {
          "base_uri": "https://localhost:8080/"
        },
        "outputId": "5a0bd2d3-0be2-4318-aa7e-130e5f115e66"
      },
      "outputs": [
        {
          "output_type": "stream",
          "name": "stdout",
          "text": [
            "before conversion: A      int64\n",
            "B    float64\n",
            "dtype: object\n",
            "after conversion: A    float64\n",
            "B    float64\n",
            "dtype: object\n",
            "     A    B\n",
            "0  1.0  4.0\n",
            "1  2.0  5.0\n",
            "2  3.0  6.0\n"
          ]
        }
      ],
      "source": [
        "df = pd.DataFrame({'A': [1, 2, 3], 'B': [4.0, 5.0, 6.0]})\n",
        "print('before conversion:', df.dtypes)\n",
        "df['A'] = df['A'].astype(float)\n",
        "print('after conversion:', df.dtypes)\n",
        "print(df)"
      ]
    },
    {
      "cell_type": "code",
      "source": [
        "df = pd.DataFrame({'A': [1, 2, 3], 'B': [4.0, 5.0, 6.0]})\n",
        "print('before conversion:', df.dtypes)\n",
        "df['B'] = df['B'].astype(int)\n",
        "print('after conversion:', df.dtypes)\n",
        "print(df)"
      ],
      "metadata": {
        "colab": {
          "base_uri": "https://localhost:8080/"
        },
        "id": "2QWMAjkYGUIG",
        "outputId": "d6e67e76-96f6-48f1-93b4-57998a3fe959"
      },
      "id": "2QWMAjkYGUIG",
      "execution_count": 20,
      "outputs": [
        {
          "output_type": "stream",
          "name": "stdout",
          "text": [
            "before conversion: A      int64\n",
            "B    float64\n",
            "dtype: object\n",
            "after conversion: A    int64\n",
            "B    int64\n",
            "dtype: object\n",
            "   A  B\n",
            "0  1  4\n",
            "1  2  5\n",
            "2  3  6\n"
          ]
        }
      ]
    },
    {
      "cell_type": "markdown",
      "id": "5190fff0",
      "metadata": {
        "id": "5190fff0"
      },
      "source": [
        "#### ✏️ Exercise: DataFrame Treasure Hunt\n",
        "\n",
        "In this exercise, you'll be a data detective on a treasure hunt.\n",
        "Your goal is to clean and preprocess the given DataFrame to uncover hidden treasures (valuable insights).\n",
        "\n",
        "##### Step 1: Create the DataFrame\n",
        "\n",
        "Create a DataFrame with the following data:\n",
        "\n",
        "```python\n",
        "data = {\n",
        "    'Name': ['Alice', 'Bob', None, 'David', 'Eva'],\n",
        "    'Age': [25, None, 35, 45, None],\n",
        "    'Score': ['85.5', '90.0', None, '088.0', '92.0']\n",
        "}\n",
        "```\n",
        "\n",
        "##### Step 2: Print the person 'Name' with the highest score who isn't missing values in any column\n",
        "\n",
        "**Hint: You can use the [sort_values](https://pandas.pydata.org/pandas-docs/stable/reference/api/pandas.DataFrame.sort_values.html) method to sort the DataFrame by the 'Score' column.**\n",
        "\n",
        "When sorting values in a DataFrame, the original indices are preserved.\n",
        "If you want to reset the indices after sorting, you can use the reset_index method.\n",
        "\n",
        "For example:\n",
        "\n",
        "```python\n",
        "sorted_df = df.sort_values(by='Column_Name', ascending=False).reset_index(drop=True)\n",
        "```\n"
      ]
    },
    {
      "cell_type": "code",
      "execution_count": 68,
      "id": "cddc3908",
      "metadata": {
        "id": "cddc3908",
        "colab": {
          "base_uri": "https://localhost:8080/"
        },
        "outputId": "08ff2408-01fc-4fcb-d3f4-06cf9401b4de"
      },
      "outputs": [
        {
          "output_type": "stream",
          "name": "stdout",
          "text": [
            "David had the highest score, which was 88.0.\n"
          ]
        }
      ],
      "source": [
        "data = {\n",
        "    'Name': ['Alice', 'Bob', None, 'David', 'Eva'],\n",
        "    'Age': [25, None, 35, 45, None],\n",
        "    'Score': ['85.5', '90.0', None, '088.0', '92.0']\n",
        "}\n",
        "\n",
        "\n",
        "withNa = pd.DataFrame(data)\n",
        "withNa['Score'] = withNa['Score'].astype(float)\n",
        "\n",
        "noNa = withNa.dropna()\n",
        "\n",
        "sorted_noNa = noNa.sort_values(by='Score', ascending=False).reset_index(drop=True)\n",
        "highest_score =sorted_noNa.iloc[0]\n",
        "\n",
        "print(f'{highest_score['Name']} had the highest score, which was {highest_score['Score']}.')\n"
      ]
    }
  ],
  "metadata": {
    "kernelspec": {
      "display_name": ".venv",
      "language": "python",
      "name": "python3"
    },
    "language_info": {
      "codemirror_mode": {
        "name": "ipython",
        "version": 3
      },
      "file_extension": ".py",
      "mimetype": "text/x-python",
      "name": "python",
      "nbconvert_exporter": "python",
      "pygments_lexer": "ipython3",
      "version": "3.12.7"
    },
    "colab": {
      "provenance": [],
      "include_colab_link": true
    }
  },
  "nbformat": 4,
  "nbformat_minor": 5
}