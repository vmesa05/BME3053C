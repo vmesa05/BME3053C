{
  "cells": [
    {
      "cell_type": "markdown",
      "metadata": {
        "id": "view-in-github",
        "colab_type": "text"
      },
      "source": [
        "<a href=\"https://colab.research.google.com/github/vmesa05/BME3053C/blob/main/lessons-solved/05_Advanced_DataFrame_Operations_10.06.25.ipynb\" target=\"_parent\"><img src=\"https://colab.research.google.com/assets/colab-badge.svg\" alt=\"Open In Colab\"/></a>"
      ]
    },
    {
      "cell_type": "markdown",
      "id": "a1944203",
      "metadata": {
        "id": "a1944203"
      },
      "source": [
        "# BME3053C - Computer Applications for BME\n",
        "\n",
        "<br/>\n",
        "\n",
        "<h1 align=\"center\">Advanced DataFrame Operations</h1>\n",
        "\n",
        "---\n",
        "\n",
        "<center><h2>Lesson: 05</h2></center>\n",
        "\n",
        "<br/>\n",
        "\n",
        "<center><img src='https://github.com/snsie/aicc24/blob/main/graphics/pandas_logo.png?raw=1' alt='The Pandas logo' align='center' width=200></center>\n",
        "\n",
        "<br/>\n",
        "\n",
        "### Original Lesson Link: [![Open In Colab](https://colab.research.google.com/assets/colab-badge.svg)](https://colab.research.google.com/github/uf-bme/BME3053C-Fall-2025/blob/main/lessons/05_Advanced_DataFrame_Operations.ipynb)\n",
        "\n",
        "### **Covered Topics**\n",
        "\n",
        "1. **Indexing and Iteration**\n",
        "\n",
        "   - Different ways to access data in DataFrames\n",
        "   - Efficient methods for iterating through rows and columns\n",
        "\n",
        "2. **Combining DataFrames**\n",
        "\n",
        "   - Merging DataFrames\n",
        "   - Concatenating DataFrames\n",
        "\n",
        "3. **Data Cleaning**\n",
        "   - Handling missing values and duplicates\n",
        "   - Data type conversion\n"
      ]
    },
    {
      "cell_type": "markdown",
      "id": "c2558daf",
      "metadata": {
        "id": "c2558daf"
      },
      "source": [
        "#### Import Pandas\n"
      ]
    },
    {
      "cell_type": "code",
      "execution_count": 1,
      "id": "5eac5a00",
      "metadata": {
        "id": "5eac5a00"
      },
      "outputs": [],
      "source": [
        "import pandas as pd"
      ]
    },
    {
      "cell_type": "markdown",
      "id": "d459391f",
      "metadata": {
        "id": "d459391f"
      },
      "source": [
        "## Indexing and Iteration\n",
        "\n",
        "### Accessing Data in DataFrames\n",
        "\n",
        "- Use `.iloc[]` for integer position-based indexing (e.g., df.iloc[0, 1] for first row, second column)\n",
        "- Use `.loc[]` for label-based indexing (e.g., df.loc['row_label', 'column_name'])\n",
        "\n",
        "- Example:\n",
        "  - df.iloc[0, 1] gets value in first row, second column regardless of labels\n",
        "  - df.loc['A', 'price'] gets value where index='A' and column='price'\n"
      ]
    },
    {
      "cell_type": "code",
      "execution_count": 2,
      "id": "c53c3f97",
      "metadata": {
        "id": "c53c3f97",
        "outputId": "9e6ed192-535d-4831-c3eb-85336022c54b",
        "colab": {
          "base_uri": "https://localhost:8080/",
          "height": 206
        }
      },
      "outputs": [
        {
          "output_type": "execute_result",
          "data": {
            "text/plain": [
              "   A   B    C\n",
              "0  1  10  100\n",
              "1  2  20  200\n",
              "2  3  30  300\n",
              "3  4  40  400\n",
              "4  5  50  500"
            ],
            "text/html": [
              "\n",
              "  <div id=\"df-2db8f701-812d-4d94-a4f9-fe08de29e951\" class=\"colab-df-container\">\n",
              "    <div>\n",
              "<style scoped>\n",
              "    .dataframe tbody tr th:only-of-type {\n",
              "        vertical-align: middle;\n",
              "    }\n",
              "\n",
              "    .dataframe tbody tr th {\n",
              "        vertical-align: top;\n",
              "    }\n",
              "\n",
              "    .dataframe thead th {\n",
              "        text-align: right;\n",
              "    }\n",
              "</style>\n",
              "<table border=\"1\" class=\"dataframe\">\n",
              "  <thead>\n",
              "    <tr style=\"text-align: right;\">\n",
              "      <th></th>\n",
              "      <th>A</th>\n",
              "      <th>B</th>\n",
              "      <th>C</th>\n",
              "    </tr>\n",
              "  </thead>\n",
              "  <tbody>\n",
              "    <tr>\n",
              "      <th>0</th>\n",
              "      <td>1</td>\n",
              "      <td>10</td>\n",
              "      <td>100</td>\n",
              "    </tr>\n",
              "    <tr>\n",
              "      <th>1</th>\n",
              "      <td>2</td>\n",
              "      <td>20</td>\n",
              "      <td>200</td>\n",
              "    </tr>\n",
              "    <tr>\n",
              "      <th>2</th>\n",
              "      <td>3</td>\n",
              "      <td>30</td>\n",
              "      <td>300</td>\n",
              "    </tr>\n",
              "    <tr>\n",
              "      <th>3</th>\n",
              "      <td>4</td>\n",
              "      <td>40</td>\n",
              "      <td>400</td>\n",
              "    </tr>\n",
              "    <tr>\n",
              "      <th>4</th>\n",
              "      <td>5</td>\n",
              "      <td>50</td>\n",
              "      <td>500</td>\n",
              "    </tr>\n",
              "  </tbody>\n",
              "</table>\n",
              "</div>\n",
              "    <div class=\"colab-df-buttons\">\n",
              "\n",
              "  <div class=\"colab-df-container\">\n",
              "    <button class=\"colab-df-convert\" onclick=\"convertToInteractive('df-2db8f701-812d-4d94-a4f9-fe08de29e951')\"\n",
              "            title=\"Convert this dataframe to an interactive table.\"\n",
              "            style=\"display:none;\">\n",
              "\n",
              "  <svg xmlns=\"http://www.w3.org/2000/svg\" height=\"24px\" viewBox=\"0 -960 960 960\">\n",
              "    <path d=\"M120-120v-720h720v720H120Zm60-500h600v-160H180v160Zm220 220h160v-160H400v160Zm0 220h160v-160H400v160ZM180-400h160v-160H180v160Zm440 0h160v-160H620v160ZM180-180h160v-160H180v160Zm440 0h160v-160H620v160Z\"/>\n",
              "  </svg>\n",
              "    </button>\n",
              "\n",
              "  <style>\n",
              "    .colab-df-container {\n",
              "      display:flex;\n",
              "      gap: 12px;\n",
              "    }\n",
              "\n",
              "    .colab-df-convert {\n",
              "      background-color: #E8F0FE;\n",
              "      border: none;\n",
              "      border-radius: 50%;\n",
              "      cursor: pointer;\n",
              "      display: none;\n",
              "      fill: #1967D2;\n",
              "      height: 32px;\n",
              "      padding: 0 0 0 0;\n",
              "      width: 32px;\n",
              "    }\n",
              "\n",
              "    .colab-df-convert:hover {\n",
              "      background-color: #E2EBFA;\n",
              "      box-shadow: 0px 1px 2px rgba(60, 64, 67, 0.3), 0px 1px 3px 1px rgba(60, 64, 67, 0.15);\n",
              "      fill: #174EA6;\n",
              "    }\n",
              "\n",
              "    .colab-df-buttons div {\n",
              "      margin-bottom: 4px;\n",
              "    }\n",
              "\n",
              "    [theme=dark] .colab-df-convert {\n",
              "      background-color: #3B4455;\n",
              "      fill: #D2E3FC;\n",
              "    }\n",
              "\n",
              "    [theme=dark] .colab-df-convert:hover {\n",
              "      background-color: #434B5C;\n",
              "      box-shadow: 0px 1px 3px 1px rgba(0, 0, 0, 0.15);\n",
              "      filter: drop-shadow(0px 1px 2px rgba(0, 0, 0, 0.3));\n",
              "      fill: #FFFFFF;\n",
              "    }\n",
              "  </style>\n",
              "\n",
              "    <script>\n",
              "      const buttonEl =\n",
              "        document.querySelector('#df-2db8f701-812d-4d94-a4f9-fe08de29e951 button.colab-df-convert');\n",
              "      buttonEl.style.display =\n",
              "        google.colab.kernel.accessAllowed ? 'block' : 'none';\n",
              "\n",
              "      async function convertToInteractive(key) {\n",
              "        const element = document.querySelector('#df-2db8f701-812d-4d94-a4f9-fe08de29e951');\n",
              "        const dataTable =\n",
              "          await google.colab.kernel.invokeFunction('convertToInteractive',\n",
              "                                                    [key], {});\n",
              "        if (!dataTable) return;\n",
              "\n",
              "        const docLinkHtml = 'Like what you see? Visit the ' +\n",
              "          '<a target=\"_blank\" href=https://colab.research.google.com/notebooks/data_table.ipynb>data table notebook</a>'\n",
              "          + ' to learn more about interactive tables.';\n",
              "        element.innerHTML = '';\n",
              "        dataTable['output_type'] = 'display_data';\n",
              "        await google.colab.output.renderOutput(dataTable, element);\n",
              "        const docLink = document.createElement('div');\n",
              "        docLink.innerHTML = docLinkHtml;\n",
              "        element.appendChild(docLink);\n",
              "      }\n",
              "    </script>\n",
              "  </div>\n",
              "\n",
              "\n",
              "    <div id=\"df-b484e998-6fcd-47d1-a165-8a59004b47f5\">\n",
              "      <button class=\"colab-df-quickchart\" onclick=\"quickchart('df-b484e998-6fcd-47d1-a165-8a59004b47f5')\"\n",
              "                title=\"Suggest charts\"\n",
              "                style=\"display:none;\">\n",
              "\n",
              "<svg xmlns=\"http://www.w3.org/2000/svg\" height=\"24px\"viewBox=\"0 0 24 24\"\n",
              "     width=\"24px\">\n",
              "    <g>\n",
              "        <path d=\"M19 3H5c-1.1 0-2 .9-2 2v14c0 1.1.9 2 2 2h14c1.1 0 2-.9 2-2V5c0-1.1-.9-2-2-2zM9 17H7v-7h2v7zm4 0h-2V7h2v10zm4 0h-2v-4h2v4z\"/>\n",
              "    </g>\n",
              "</svg>\n",
              "      </button>\n",
              "\n",
              "<style>\n",
              "  .colab-df-quickchart {\n",
              "      --bg-color: #E8F0FE;\n",
              "      --fill-color: #1967D2;\n",
              "      --hover-bg-color: #E2EBFA;\n",
              "      --hover-fill-color: #174EA6;\n",
              "      --disabled-fill-color: #AAA;\n",
              "      --disabled-bg-color: #DDD;\n",
              "  }\n",
              "\n",
              "  [theme=dark] .colab-df-quickchart {\n",
              "      --bg-color: #3B4455;\n",
              "      --fill-color: #D2E3FC;\n",
              "      --hover-bg-color: #434B5C;\n",
              "      --hover-fill-color: #FFFFFF;\n",
              "      --disabled-bg-color: #3B4455;\n",
              "      --disabled-fill-color: #666;\n",
              "  }\n",
              "\n",
              "  .colab-df-quickchart {\n",
              "    background-color: var(--bg-color);\n",
              "    border: none;\n",
              "    border-radius: 50%;\n",
              "    cursor: pointer;\n",
              "    display: none;\n",
              "    fill: var(--fill-color);\n",
              "    height: 32px;\n",
              "    padding: 0;\n",
              "    width: 32px;\n",
              "  }\n",
              "\n",
              "  .colab-df-quickchart:hover {\n",
              "    background-color: var(--hover-bg-color);\n",
              "    box-shadow: 0 1px 2px rgba(60, 64, 67, 0.3), 0 1px 3px 1px rgba(60, 64, 67, 0.15);\n",
              "    fill: var(--button-hover-fill-color);\n",
              "  }\n",
              "\n",
              "  .colab-df-quickchart-complete:disabled,\n",
              "  .colab-df-quickchart-complete:disabled:hover {\n",
              "    background-color: var(--disabled-bg-color);\n",
              "    fill: var(--disabled-fill-color);\n",
              "    box-shadow: none;\n",
              "  }\n",
              "\n",
              "  .colab-df-spinner {\n",
              "    border: 2px solid var(--fill-color);\n",
              "    border-color: transparent;\n",
              "    border-bottom-color: var(--fill-color);\n",
              "    animation:\n",
              "      spin 1s steps(1) infinite;\n",
              "  }\n",
              "\n",
              "  @keyframes spin {\n",
              "    0% {\n",
              "      border-color: transparent;\n",
              "      border-bottom-color: var(--fill-color);\n",
              "      border-left-color: var(--fill-color);\n",
              "    }\n",
              "    20% {\n",
              "      border-color: transparent;\n",
              "      border-left-color: var(--fill-color);\n",
              "      border-top-color: var(--fill-color);\n",
              "    }\n",
              "    30% {\n",
              "      border-color: transparent;\n",
              "      border-left-color: var(--fill-color);\n",
              "      border-top-color: var(--fill-color);\n",
              "      border-right-color: var(--fill-color);\n",
              "    }\n",
              "    40% {\n",
              "      border-color: transparent;\n",
              "      border-right-color: var(--fill-color);\n",
              "      border-top-color: var(--fill-color);\n",
              "    }\n",
              "    60% {\n",
              "      border-color: transparent;\n",
              "      border-right-color: var(--fill-color);\n",
              "    }\n",
              "    80% {\n",
              "      border-color: transparent;\n",
              "      border-right-color: var(--fill-color);\n",
              "      border-bottom-color: var(--fill-color);\n",
              "    }\n",
              "    90% {\n",
              "      border-color: transparent;\n",
              "      border-bottom-color: var(--fill-color);\n",
              "    }\n",
              "  }\n",
              "</style>\n",
              "\n",
              "      <script>\n",
              "        async function quickchart(key) {\n",
              "          const quickchartButtonEl =\n",
              "            document.querySelector('#' + key + ' button');\n",
              "          quickchartButtonEl.disabled = true;  // To prevent multiple clicks.\n",
              "          quickchartButtonEl.classList.add('colab-df-spinner');\n",
              "          try {\n",
              "            const charts = await google.colab.kernel.invokeFunction(\n",
              "                'suggestCharts', [key], {});\n",
              "          } catch (error) {\n",
              "            console.error('Error during call to suggestCharts:', error);\n",
              "          }\n",
              "          quickchartButtonEl.classList.remove('colab-df-spinner');\n",
              "          quickchartButtonEl.classList.add('colab-df-quickchart-complete');\n",
              "        }\n",
              "        (() => {\n",
              "          let quickchartButtonEl =\n",
              "            document.querySelector('#df-b484e998-6fcd-47d1-a165-8a59004b47f5 button');\n",
              "          quickchartButtonEl.style.display =\n",
              "            google.colab.kernel.accessAllowed ? 'block' : 'none';\n",
              "        })();\n",
              "      </script>\n",
              "    </div>\n",
              "\n",
              "    </div>\n",
              "  </div>\n"
            ],
            "application/vnd.google.colaboratory.intrinsic+json": {
              "type": "dataframe",
              "variable_name": "df",
              "summary": "{\n  \"name\": \"df\",\n  \"rows\": 5,\n  \"fields\": [\n    {\n      \"column\": \"A\",\n      \"properties\": {\n        \"dtype\": \"number\",\n        \"std\": 1,\n        \"min\": 1,\n        \"max\": 5,\n        \"num_unique_values\": 5,\n        \"samples\": [\n          2,\n          5,\n          3\n        ],\n        \"semantic_type\": \"\",\n        \"description\": \"\"\n      }\n    },\n    {\n      \"column\": \"B\",\n      \"properties\": {\n        \"dtype\": \"number\",\n        \"std\": 15,\n        \"min\": 10,\n        \"max\": 50,\n        \"num_unique_values\": 5,\n        \"samples\": [\n          20,\n          50,\n          30\n        ],\n        \"semantic_type\": \"\",\n        \"description\": \"\"\n      }\n    },\n    {\n      \"column\": \"C\",\n      \"properties\": {\n        \"dtype\": \"number\",\n        \"std\": 158,\n        \"min\": 100,\n        \"max\": 500,\n        \"num_unique_values\": 5,\n        \"samples\": [\n          200,\n          500,\n          300\n        ],\n        \"semantic_type\": \"\",\n        \"description\": \"\"\n      }\n    }\n  ]\n}"
            }
          },
          "metadata": {},
          "execution_count": 2
        }
      ],
      "source": [
        "sample_data = {\n",
        "    'A': [1, 2, 3, 4, 5],\n",
        "    'B': [10, 20, 30, 40, 50],\n",
        "    'C': [100, 200, 300, 400, 500]\n",
        "}\n",
        "df = pd.DataFrame(sample_data)\n",
        "df.head()"
      ]
    },
    {
      "cell_type": "code",
      "execution_count": 3,
      "id": "0e38d7fa",
      "metadata": {
        "id": "0e38d7fa",
        "outputId": "17154b1f-f4ab-4898-82b5-5e46008b3344",
        "colab": {
          "base_uri": "https://localhost:8080/",
          "height": 213
        }
      },
      "outputs": [
        {
          "output_type": "stream",
          "name": "stdout",
          "text": [
            "\n",
            "First row using iloc:\n"
          ]
        },
        {
          "output_type": "execute_result",
          "data": {
            "text/plain": [
              "A      1\n",
              "B     10\n",
              "C    100\n",
              "Name: 0, dtype: int64"
            ],
            "text/html": [
              "<div>\n",
              "<style scoped>\n",
              "    .dataframe tbody tr th:only-of-type {\n",
              "        vertical-align: middle;\n",
              "    }\n",
              "\n",
              "    .dataframe tbody tr th {\n",
              "        vertical-align: top;\n",
              "    }\n",
              "\n",
              "    .dataframe thead th {\n",
              "        text-align: right;\n",
              "    }\n",
              "</style>\n",
              "<table border=\"1\" class=\"dataframe\">\n",
              "  <thead>\n",
              "    <tr style=\"text-align: right;\">\n",
              "      <th></th>\n",
              "      <th>0</th>\n",
              "    </tr>\n",
              "  </thead>\n",
              "  <tbody>\n",
              "    <tr>\n",
              "      <th>A</th>\n",
              "      <td>1</td>\n",
              "    </tr>\n",
              "    <tr>\n",
              "      <th>B</th>\n",
              "      <td>10</td>\n",
              "    </tr>\n",
              "    <tr>\n",
              "      <th>C</th>\n",
              "      <td>100</td>\n",
              "    </tr>\n",
              "  </tbody>\n",
              "</table>\n",
              "</div><br><label><b>dtype:</b> int64</label>"
            ]
          },
          "metadata": {},
          "execution_count": 3
        }
      ],
      "source": [
        "# Access first row using integer-based indexing\n",
        "print('\\nFirst row using iloc:')\n",
        "df.iloc[0]\n"
      ]
    },
    {
      "cell_type": "code",
      "source": [
        "# Access first row using integer-based indexing\n",
        "print('\\nFirst column using iloc:')\n",
        "df.iloc[:, 0]"
      ],
      "metadata": {
        "id": "4cRDcYkpdrA_",
        "outputId": "a80a5d68-3f63-498b-bf6f-57d534469208",
        "colab": {
          "base_uri": "https://localhost:8080/",
          "height": 276
        }
      },
      "id": "4cRDcYkpdrA_",
      "execution_count": 10,
      "outputs": [
        {
          "output_type": "stream",
          "name": "stdout",
          "text": [
            "\n",
            "First column using iloc:\n"
          ]
        },
        {
          "output_type": "execute_result",
          "data": {
            "text/plain": [
              "0    1\n",
              "1    2\n",
              "2    3\n",
              "3    4\n",
              "4    5\n",
              "Name: A, dtype: int64"
            ],
            "text/html": [
              "<div>\n",
              "<style scoped>\n",
              "    .dataframe tbody tr th:only-of-type {\n",
              "        vertical-align: middle;\n",
              "    }\n",
              "\n",
              "    .dataframe tbody tr th {\n",
              "        vertical-align: top;\n",
              "    }\n",
              "\n",
              "    .dataframe thead th {\n",
              "        text-align: right;\n",
              "    }\n",
              "</style>\n",
              "<table border=\"1\" class=\"dataframe\">\n",
              "  <thead>\n",
              "    <tr style=\"text-align: right;\">\n",
              "      <th></th>\n",
              "      <th>A</th>\n",
              "    </tr>\n",
              "  </thead>\n",
              "  <tbody>\n",
              "    <tr>\n",
              "      <th>0</th>\n",
              "      <td>1</td>\n",
              "    </tr>\n",
              "    <tr>\n",
              "      <th>1</th>\n",
              "      <td>2</td>\n",
              "    </tr>\n",
              "    <tr>\n",
              "      <th>2</th>\n",
              "      <td>3</td>\n",
              "    </tr>\n",
              "    <tr>\n",
              "      <th>3</th>\n",
              "      <td>4</td>\n",
              "    </tr>\n",
              "    <tr>\n",
              "      <th>4</th>\n",
              "      <td>5</td>\n",
              "    </tr>\n",
              "  </tbody>\n",
              "</table>\n",
              "</div><br><label><b>dtype:</b> int64</label>"
            ]
          },
          "metadata": {},
          "execution_count": 10
        }
      ]
    },
    {
      "cell_type": "code",
      "execution_count": 11,
      "id": "242aec8f",
      "metadata": {
        "id": "242aec8f",
        "outputId": "2dd10d92-afab-4568-9736-c7d21547c2cb",
        "colab": {
          "base_uri": "https://localhost:8080/"
        }
      },
      "outputs": [
        {
          "output_type": "stream",
          "name": "stdout",
          "text": [
            "\n",
            "First 3 rows and first 3 columns using iloc:\n",
            "   A   B    C\n",
            "0  1  10  100\n",
            "1  2  20  200\n",
            "2  3  30  300\n"
          ]
        }
      ],
      "source": [
        "\n",
        "# Access first 3 rows and first 3 columns using iloc\n",
        "print('\\nFirst 3 rows and first 3 columns using iloc:')\n",
        "print(df.iloc[0:3, 0:3])\n"
      ]
    },
    {
      "cell_type": "code",
      "execution_count": 12,
      "id": "e2160f19",
      "metadata": {
        "id": "e2160f19",
        "outputId": "676ed5b8-415e-4dd6-8f25-ce2e4bca10ff",
        "colab": {
          "base_uri": "https://localhost:8080/"
        }
      },
      "outputs": [
        {
          "output_type": "stream",
          "name": "stdout",
          "text": [
            "First row using loc:\n",
            "A      1\n",
            "B     10\n",
            "C    100\n",
            "Name: 0, dtype: int64\n"
          ]
        }
      ],
      "source": [
        "# Access first row using label-based indexing\n",
        "# Note: For this dataset, .loc[] with integer index acts similar to .iloc[]\n",
        "# because the index is numeric and sequential starting from 0\n",
        "\n",
        "print('First row using loc:')\n",
        "print(df.loc[0])\n"
      ]
    },
    {
      "cell_type": "code",
      "execution_count": 13,
      "id": "641aabd9",
      "metadata": {
        "id": "641aabd9",
        "outputId": "05fcd19e-caf7-4f0d-fece-35ca8ab7bdcc",
        "colab": {
          "base_uri": "https://localhost:8080/"
        }
      },
      "outputs": [
        {
          "output_type": "stream",
          "name": "stdout",
          "text": [
            "\n",
            "First 3 rows and selected columns using loc:\n",
            "   A   B\n",
            "0  1  10\n",
            "1  2  20\n",
            "2  3  30\n"
          ]
        }
      ],
      "source": [
        "# Access first 3 rows and specific columns using loc\n",
        "print('\\nFirst 3 rows and selected columns using loc:')\n",
        "print(df.loc[0:2, ['A', 'B']])"
      ]
    },
    {
      "cell_type": "markdown",
      "id": "e47e3ed0",
      "metadata": {
        "id": "e47e3ed0"
      },
      "source": [
        "### When .loc with integer index differs from .iloc\n",
        "\n",
        "1. **Non-sequential index**: If DataFrame index is not 0,1,2,...\n",
        "\n",
        "   - `.loc[0]` looks for row with index label 0 (may not exist)\n",
        "   - `.iloc[0]` gets first row regardless of its index\n",
        "\n",
        "2. **Non-numeric index**: If DataFrame uses string/date indices\n",
        "\n",
        "   - `.loc[]` won't work with integer input\n",
        "   - `.iloc[]` still works with integer positions\n",
        "\n",
        "3. **Gaps in numeric index**: If index like [0,2,5,...]\n",
        "   - `.loc[1]` looks for index 1 (doesn't exist)\n",
        "   - `.iloc[1]` gets second row (index 2)\n",
        "\n",
        "Example showing difference with non-sequential index:\n"
      ]
    },
    {
      "cell_type": "code",
      "execution_count": 14,
      "id": "4d911fa5",
      "metadata": {
        "id": "4d911fa5",
        "outputId": "a27b3bbc-5e60-4bb9-ee7c-774d40e7ceac",
        "colab": {
          "base_uri": "https://localhost:8080/"
        }
      },
      "outputs": [
        {
          "output_type": "stream",
          "name": "stdout",
          "text": [
            "\n",
            "Example with non-sequential index:\n",
            "Using .loc[10]:\n",
            "A    1\n",
            "B    4\n",
            "Name: 10, dtype: int64\n",
            "\n",
            "Using .iloc[0]:\n",
            "A    1\n",
            "B    4\n",
            "Name: 10, dtype: int64\n"
          ]
        }
      ],
      "source": [
        "\n",
        "example_df = pd.DataFrame({'A': [1,2,3], 'B': [4,5,6]}, index=[10,20,30])\n",
        "print(\"\\nExample with non-sequential index:\")\n",
        "print(\"Using .loc[10]:\")  # Gets row with index label 10\n",
        "print(example_df.loc[10])\n",
        "print(\"\\nUsing .iloc[0]:\")  # Gets first row regardless of index\n",
        "print(example_df.iloc[0])"
      ]
    },
    {
      "cell_type": "markdown",
      "id": "4685f406",
      "metadata": {
        "id": "4685f406"
      },
      "source": [
        "#### ✏️ **Exercise**\n",
        "\n",
        "1. Create a DataFrame with the following data:\n",
        "   - Columns: 'Name', 'Age', 'City'\n",
        "   - Data: [['Alice', 25, 'New York'], ['Bob', 30, 'Boston'], ['Charlie', 35, 'Chicago']]\n",
        "   - Index: [100, 200, 300]\n",
        "2. Use .loc[] to:\n",
        "   - Get the row with index 200\n",
        "3. Use .iloc[] to:\n",
        "   - Get the first row\n",
        "   - Get the second and third rows with only the 'Name' and 'City' columns\n"
      ]
    },
    {
      "cell_type": "code",
      "execution_count": 17,
      "id": "2675babd",
      "metadata": {
        "id": "2675babd",
        "outputId": "5aab6ec3-cf32-4a7b-e725-a01edd5c32db",
        "colab": {
          "base_uri": "https://localhost:8080/",
          "height": 143
        }
      },
      "outputs": [
        {
          "output_type": "execute_result",
          "data": {
            "text/plain": [
              "        Name  Age      City\n",
              "100    Alice   25  New York\n",
              "200      Bob   30    Boston\n",
              "300  Charlie   35   Chicago"
            ],
            "text/html": [
              "\n",
              "  <div id=\"df-e13aa3af-e5c1-40c0-af94-f6d3af59e2fc\" class=\"colab-df-container\">\n",
              "    <div>\n",
              "<style scoped>\n",
              "    .dataframe tbody tr th:only-of-type {\n",
              "        vertical-align: middle;\n",
              "    }\n",
              "\n",
              "    .dataframe tbody tr th {\n",
              "        vertical-align: top;\n",
              "    }\n",
              "\n",
              "    .dataframe thead th {\n",
              "        text-align: right;\n",
              "    }\n",
              "</style>\n",
              "<table border=\"1\" class=\"dataframe\">\n",
              "  <thead>\n",
              "    <tr style=\"text-align: right;\">\n",
              "      <th></th>\n",
              "      <th>Name</th>\n",
              "      <th>Age</th>\n",
              "      <th>City</th>\n",
              "    </tr>\n",
              "  </thead>\n",
              "  <tbody>\n",
              "    <tr>\n",
              "      <th>100</th>\n",
              "      <td>Alice</td>\n",
              "      <td>25</td>\n",
              "      <td>New York</td>\n",
              "    </tr>\n",
              "    <tr>\n",
              "      <th>200</th>\n",
              "      <td>Bob</td>\n",
              "      <td>30</td>\n",
              "      <td>Boston</td>\n",
              "    </tr>\n",
              "    <tr>\n",
              "      <th>300</th>\n",
              "      <td>Charlie</td>\n",
              "      <td>35</td>\n",
              "      <td>Chicago</td>\n",
              "    </tr>\n",
              "  </tbody>\n",
              "</table>\n",
              "</div>\n",
              "    <div class=\"colab-df-buttons\">\n",
              "\n",
              "  <div class=\"colab-df-container\">\n",
              "    <button class=\"colab-df-convert\" onclick=\"convertToInteractive('df-e13aa3af-e5c1-40c0-af94-f6d3af59e2fc')\"\n",
              "            title=\"Convert this dataframe to an interactive table.\"\n",
              "            style=\"display:none;\">\n",
              "\n",
              "  <svg xmlns=\"http://www.w3.org/2000/svg\" height=\"24px\" viewBox=\"0 -960 960 960\">\n",
              "    <path d=\"M120-120v-720h720v720H120Zm60-500h600v-160H180v160Zm220 220h160v-160H400v160Zm0 220h160v-160H400v160ZM180-400h160v-160H180v160Zm440 0h160v-160H620v160ZM180-180h160v-160H180v160Zm440 0h160v-160H620v160Z\"/>\n",
              "  </svg>\n",
              "    </button>\n",
              "\n",
              "  <style>\n",
              "    .colab-df-container {\n",
              "      display:flex;\n",
              "      gap: 12px;\n",
              "    }\n",
              "\n",
              "    .colab-df-convert {\n",
              "      background-color: #E8F0FE;\n",
              "      border: none;\n",
              "      border-radius: 50%;\n",
              "      cursor: pointer;\n",
              "      display: none;\n",
              "      fill: #1967D2;\n",
              "      height: 32px;\n",
              "      padding: 0 0 0 0;\n",
              "      width: 32px;\n",
              "    }\n",
              "\n",
              "    .colab-df-convert:hover {\n",
              "      background-color: #E2EBFA;\n",
              "      box-shadow: 0px 1px 2px rgba(60, 64, 67, 0.3), 0px 1px 3px 1px rgba(60, 64, 67, 0.15);\n",
              "      fill: #174EA6;\n",
              "    }\n",
              "\n",
              "    .colab-df-buttons div {\n",
              "      margin-bottom: 4px;\n",
              "    }\n",
              "\n",
              "    [theme=dark] .colab-df-convert {\n",
              "      background-color: #3B4455;\n",
              "      fill: #D2E3FC;\n",
              "    }\n",
              "\n",
              "    [theme=dark] .colab-df-convert:hover {\n",
              "      background-color: #434B5C;\n",
              "      box-shadow: 0px 1px 3px 1px rgba(0, 0, 0, 0.15);\n",
              "      filter: drop-shadow(0px 1px 2px rgba(0, 0, 0, 0.3));\n",
              "      fill: #FFFFFF;\n",
              "    }\n",
              "  </style>\n",
              "\n",
              "    <script>\n",
              "      const buttonEl =\n",
              "        document.querySelector('#df-e13aa3af-e5c1-40c0-af94-f6d3af59e2fc button.colab-df-convert');\n",
              "      buttonEl.style.display =\n",
              "        google.colab.kernel.accessAllowed ? 'block' : 'none';\n",
              "\n",
              "      async function convertToInteractive(key) {\n",
              "        const element = document.querySelector('#df-e13aa3af-e5c1-40c0-af94-f6d3af59e2fc');\n",
              "        const dataTable =\n",
              "          await google.colab.kernel.invokeFunction('convertToInteractive',\n",
              "                                                    [key], {});\n",
              "        if (!dataTable) return;\n",
              "\n",
              "        const docLinkHtml = 'Like what you see? Visit the ' +\n",
              "          '<a target=\"_blank\" href=https://colab.research.google.com/notebooks/data_table.ipynb>data table notebook</a>'\n",
              "          + ' to learn more about interactive tables.';\n",
              "        element.innerHTML = '';\n",
              "        dataTable['output_type'] = 'display_data';\n",
              "        await google.colab.output.renderOutput(dataTable, element);\n",
              "        const docLink = document.createElement('div');\n",
              "        docLink.innerHTML = docLinkHtml;\n",
              "        element.appendChild(docLink);\n",
              "      }\n",
              "    </script>\n",
              "  </div>\n",
              "\n",
              "\n",
              "    <div id=\"df-fe560d8e-53b4-419e-8ef8-eed3ed992645\">\n",
              "      <button class=\"colab-df-quickchart\" onclick=\"quickchart('df-fe560d8e-53b4-419e-8ef8-eed3ed992645')\"\n",
              "                title=\"Suggest charts\"\n",
              "                style=\"display:none;\">\n",
              "\n",
              "<svg xmlns=\"http://www.w3.org/2000/svg\" height=\"24px\"viewBox=\"0 0 24 24\"\n",
              "     width=\"24px\">\n",
              "    <g>\n",
              "        <path d=\"M19 3H5c-1.1 0-2 .9-2 2v14c0 1.1.9 2 2 2h14c1.1 0 2-.9 2-2V5c0-1.1-.9-2-2-2zM9 17H7v-7h2v7zm4 0h-2V7h2v10zm4 0h-2v-4h2v4z\"/>\n",
              "    </g>\n",
              "</svg>\n",
              "      </button>\n",
              "\n",
              "<style>\n",
              "  .colab-df-quickchart {\n",
              "      --bg-color: #E8F0FE;\n",
              "      --fill-color: #1967D2;\n",
              "      --hover-bg-color: #E2EBFA;\n",
              "      --hover-fill-color: #174EA6;\n",
              "      --disabled-fill-color: #AAA;\n",
              "      --disabled-bg-color: #DDD;\n",
              "  }\n",
              "\n",
              "  [theme=dark] .colab-df-quickchart {\n",
              "      --bg-color: #3B4455;\n",
              "      --fill-color: #D2E3FC;\n",
              "      --hover-bg-color: #434B5C;\n",
              "      --hover-fill-color: #FFFFFF;\n",
              "      --disabled-bg-color: #3B4455;\n",
              "      --disabled-fill-color: #666;\n",
              "  }\n",
              "\n",
              "  .colab-df-quickchart {\n",
              "    background-color: var(--bg-color);\n",
              "    border: none;\n",
              "    border-radius: 50%;\n",
              "    cursor: pointer;\n",
              "    display: none;\n",
              "    fill: var(--fill-color);\n",
              "    height: 32px;\n",
              "    padding: 0;\n",
              "    width: 32px;\n",
              "  }\n",
              "\n",
              "  .colab-df-quickchart:hover {\n",
              "    background-color: var(--hover-bg-color);\n",
              "    box-shadow: 0 1px 2px rgba(60, 64, 67, 0.3), 0 1px 3px 1px rgba(60, 64, 67, 0.15);\n",
              "    fill: var(--button-hover-fill-color);\n",
              "  }\n",
              "\n",
              "  .colab-df-quickchart-complete:disabled,\n",
              "  .colab-df-quickchart-complete:disabled:hover {\n",
              "    background-color: var(--disabled-bg-color);\n",
              "    fill: var(--disabled-fill-color);\n",
              "    box-shadow: none;\n",
              "  }\n",
              "\n",
              "  .colab-df-spinner {\n",
              "    border: 2px solid var(--fill-color);\n",
              "    border-color: transparent;\n",
              "    border-bottom-color: var(--fill-color);\n",
              "    animation:\n",
              "      spin 1s steps(1) infinite;\n",
              "  }\n",
              "\n",
              "  @keyframes spin {\n",
              "    0% {\n",
              "      border-color: transparent;\n",
              "      border-bottom-color: var(--fill-color);\n",
              "      border-left-color: var(--fill-color);\n",
              "    }\n",
              "    20% {\n",
              "      border-color: transparent;\n",
              "      border-left-color: var(--fill-color);\n",
              "      border-top-color: var(--fill-color);\n",
              "    }\n",
              "    30% {\n",
              "      border-color: transparent;\n",
              "      border-left-color: var(--fill-color);\n",
              "      border-top-color: var(--fill-color);\n",
              "      border-right-color: var(--fill-color);\n",
              "    }\n",
              "    40% {\n",
              "      border-color: transparent;\n",
              "      border-right-color: var(--fill-color);\n",
              "      border-top-color: var(--fill-color);\n",
              "    }\n",
              "    60% {\n",
              "      border-color: transparent;\n",
              "      border-right-color: var(--fill-color);\n",
              "    }\n",
              "    80% {\n",
              "      border-color: transparent;\n",
              "      border-right-color: var(--fill-color);\n",
              "      border-bottom-color: var(--fill-color);\n",
              "    }\n",
              "    90% {\n",
              "      border-color: transparent;\n",
              "      border-bottom-color: var(--fill-color);\n",
              "    }\n",
              "  }\n",
              "</style>\n",
              "\n",
              "      <script>\n",
              "        async function quickchart(key) {\n",
              "          const quickchartButtonEl =\n",
              "            document.querySelector('#' + key + ' button');\n",
              "          quickchartButtonEl.disabled = true;  // To prevent multiple clicks.\n",
              "          quickchartButtonEl.classList.add('colab-df-spinner');\n",
              "          try {\n",
              "            const charts = await google.colab.kernel.invokeFunction(\n",
              "                'suggestCharts', [key], {});\n",
              "          } catch (error) {\n",
              "            console.error('Error during call to suggestCharts:', error);\n",
              "          }\n",
              "          quickchartButtonEl.classList.remove('colab-df-spinner');\n",
              "          quickchartButtonEl.classList.add('colab-df-quickchart-complete');\n",
              "        }\n",
              "        (() => {\n",
              "          let quickchartButtonEl =\n",
              "            document.querySelector('#df-fe560d8e-53b4-419e-8ef8-eed3ed992645 button');\n",
              "          quickchartButtonEl.style.display =\n",
              "            google.colab.kernel.accessAllowed ? 'block' : 'none';\n",
              "        })();\n",
              "      </script>\n",
              "    </div>\n",
              "\n",
              "    </div>\n",
              "  </div>\n"
            ],
            "application/vnd.google.colaboratory.intrinsic+json": {
              "type": "dataframe",
              "variable_name": "df_ppl",
              "summary": "{\n  \"name\": \"df_ppl\",\n  \"rows\": 3,\n  \"fields\": [\n    {\n      \"column\": \"Name\",\n      \"properties\": {\n        \"dtype\": \"string\",\n        \"num_unique_values\": 3,\n        \"samples\": [\n          \"Alice\",\n          \"Bob\",\n          \"Charlie\"\n        ],\n        \"semantic_type\": \"\",\n        \"description\": \"\"\n      }\n    },\n    {\n      \"column\": \"Age\",\n      \"properties\": {\n        \"dtype\": \"number\",\n        \"std\": 5,\n        \"min\": 25,\n        \"max\": 35,\n        \"num_unique_values\": 3,\n        \"samples\": [\n          25,\n          30,\n          35\n        ],\n        \"semantic_type\": \"\",\n        \"description\": \"\"\n      }\n    },\n    {\n      \"column\": \"City\",\n      \"properties\": {\n        \"dtype\": \"string\",\n        \"num_unique_values\": 3,\n        \"samples\": [\n          \"New York\",\n          \"Boston\",\n          \"Chicago\"\n        ],\n        \"semantic_type\": \"\",\n        \"description\": \"\"\n      }\n    }\n  ]\n}"
            }
          },
          "metadata": {},
          "execution_count": 17
        }
      ],
      "source": [
        "df_ppl = pd.DataFrame([['Alice', 25, 'New York'], ['Bob', 30, 'Boston'], ['Charlie', 35, 'Chicago']], [100, 200, 300], [\"Name\", 'Age', 'City'])\n",
        "df_ppl.head()"
      ]
    },
    {
      "cell_type": "code",
      "source": [
        "df_ppl.loc[200]"
      ],
      "metadata": {
        "id": "ZCWMBKnJf2W5",
        "outputId": "b599431f-ced4-4784-93c8-a4a27c905a88",
        "colab": {
          "base_uri": "https://localhost:8080/",
          "height": 178
        }
      },
      "id": "ZCWMBKnJf2W5",
      "execution_count": 19,
      "outputs": [
        {
          "output_type": "execute_result",
          "data": {
            "text/plain": [
              "Name       Bob\n",
              "Age         30\n",
              "City    Boston\n",
              "Name: 200, dtype: object"
            ],
            "text/html": [
              "<div>\n",
              "<style scoped>\n",
              "    .dataframe tbody tr th:only-of-type {\n",
              "        vertical-align: middle;\n",
              "    }\n",
              "\n",
              "    .dataframe tbody tr th {\n",
              "        vertical-align: top;\n",
              "    }\n",
              "\n",
              "    .dataframe thead th {\n",
              "        text-align: right;\n",
              "    }\n",
              "</style>\n",
              "<table border=\"1\" class=\"dataframe\">\n",
              "  <thead>\n",
              "    <tr style=\"text-align: right;\">\n",
              "      <th></th>\n",
              "      <th>200</th>\n",
              "    </tr>\n",
              "  </thead>\n",
              "  <tbody>\n",
              "    <tr>\n",
              "      <th>Name</th>\n",
              "      <td>Bob</td>\n",
              "    </tr>\n",
              "    <tr>\n",
              "      <th>Age</th>\n",
              "      <td>30</td>\n",
              "    </tr>\n",
              "    <tr>\n",
              "      <th>City</th>\n",
              "      <td>Boston</td>\n",
              "    </tr>\n",
              "  </tbody>\n",
              "</table>\n",
              "</div><br><label><b>dtype:</b> object</label>"
            ]
          },
          "metadata": {},
          "execution_count": 19
        }
      ]
    },
    {
      "cell_type": "code",
      "source": [
        "df_ppl.iloc[0]"
      ],
      "metadata": {
        "id": "IVgU3c2GgDQd",
        "outputId": "dbfcca8c-2246-404a-f885-1de1ea6ebb57",
        "colab": {
          "base_uri": "https://localhost:8080/",
          "height": 178
        }
      },
      "id": "IVgU3c2GgDQd",
      "execution_count": 21,
      "outputs": [
        {
          "output_type": "execute_result",
          "data": {
            "text/plain": [
              "Name       Alice\n",
              "Age           25\n",
              "City    New York\n",
              "Name: 100, dtype: object"
            ],
            "text/html": [
              "<div>\n",
              "<style scoped>\n",
              "    .dataframe tbody tr th:only-of-type {\n",
              "        vertical-align: middle;\n",
              "    }\n",
              "\n",
              "    .dataframe tbody tr th {\n",
              "        vertical-align: top;\n",
              "    }\n",
              "\n",
              "    .dataframe thead th {\n",
              "        text-align: right;\n",
              "    }\n",
              "</style>\n",
              "<table border=\"1\" class=\"dataframe\">\n",
              "  <thead>\n",
              "    <tr style=\"text-align: right;\">\n",
              "      <th></th>\n",
              "      <th>100</th>\n",
              "    </tr>\n",
              "  </thead>\n",
              "  <tbody>\n",
              "    <tr>\n",
              "      <th>Name</th>\n",
              "      <td>Alice</td>\n",
              "    </tr>\n",
              "    <tr>\n",
              "      <th>Age</th>\n",
              "      <td>25</td>\n",
              "    </tr>\n",
              "    <tr>\n",
              "      <th>City</th>\n",
              "      <td>New York</td>\n",
              "    </tr>\n",
              "  </tbody>\n",
              "</table>\n",
              "</div><br><label><b>dtype:</b> object</label>"
            ]
          },
          "metadata": {},
          "execution_count": 21
        }
      ]
    },
    {
      "cell_type": "code",
      "source": [
        "df_ppl.iloc[1:3, [0, 2]] #can't do 1:2 because it ends on 2 (before 2). also columns MUST be [0,2] not [1,3]"
      ],
      "metadata": {
        "id": "m5E6AOIQgcw2",
        "outputId": "74ddd838-b559-4b3e-adb2-618d52dfcd04",
        "colab": {
          "base_uri": "https://localhost:8080/",
          "height": 112
        }
      },
      "id": "m5E6AOIQgcw2",
      "execution_count": 30,
      "outputs": [
        {
          "output_type": "execute_result",
          "data": {
            "text/plain": [
              "        Name     City\n",
              "200      Bob   Boston\n",
              "300  Charlie  Chicago"
            ],
            "text/html": [
              "\n",
              "  <div id=\"df-6e228058-16e4-48be-a8de-0469788d4a2f\" class=\"colab-df-container\">\n",
              "    <div>\n",
              "<style scoped>\n",
              "    .dataframe tbody tr th:only-of-type {\n",
              "        vertical-align: middle;\n",
              "    }\n",
              "\n",
              "    .dataframe tbody tr th {\n",
              "        vertical-align: top;\n",
              "    }\n",
              "\n",
              "    .dataframe thead th {\n",
              "        text-align: right;\n",
              "    }\n",
              "</style>\n",
              "<table border=\"1\" class=\"dataframe\">\n",
              "  <thead>\n",
              "    <tr style=\"text-align: right;\">\n",
              "      <th></th>\n",
              "      <th>Name</th>\n",
              "      <th>City</th>\n",
              "    </tr>\n",
              "  </thead>\n",
              "  <tbody>\n",
              "    <tr>\n",
              "      <th>200</th>\n",
              "      <td>Bob</td>\n",
              "      <td>Boston</td>\n",
              "    </tr>\n",
              "    <tr>\n",
              "      <th>300</th>\n",
              "      <td>Charlie</td>\n",
              "      <td>Chicago</td>\n",
              "    </tr>\n",
              "  </tbody>\n",
              "</table>\n",
              "</div>\n",
              "    <div class=\"colab-df-buttons\">\n",
              "\n",
              "  <div class=\"colab-df-container\">\n",
              "    <button class=\"colab-df-convert\" onclick=\"convertToInteractive('df-6e228058-16e4-48be-a8de-0469788d4a2f')\"\n",
              "            title=\"Convert this dataframe to an interactive table.\"\n",
              "            style=\"display:none;\">\n",
              "\n",
              "  <svg xmlns=\"http://www.w3.org/2000/svg\" height=\"24px\" viewBox=\"0 -960 960 960\">\n",
              "    <path d=\"M120-120v-720h720v720H120Zm60-500h600v-160H180v160Zm220 220h160v-160H400v160Zm0 220h160v-160H400v160ZM180-400h160v-160H180v160Zm440 0h160v-160H620v160ZM180-180h160v-160H180v160Zm440 0h160v-160H620v160Z\"/>\n",
              "  </svg>\n",
              "    </button>\n",
              "\n",
              "  <style>\n",
              "    .colab-df-container {\n",
              "      display:flex;\n",
              "      gap: 12px;\n",
              "    }\n",
              "\n",
              "    .colab-df-convert {\n",
              "      background-color: #E8F0FE;\n",
              "      border: none;\n",
              "      border-radius: 50%;\n",
              "      cursor: pointer;\n",
              "      display: none;\n",
              "      fill: #1967D2;\n",
              "      height: 32px;\n",
              "      padding: 0 0 0 0;\n",
              "      width: 32px;\n",
              "    }\n",
              "\n",
              "    .colab-df-convert:hover {\n",
              "      background-color: #E2EBFA;\n",
              "      box-shadow: 0px 1px 2px rgba(60, 64, 67, 0.3), 0px 1px 3px 1px rgba(60, 64, 67, 0.15);\n",
              "      fill: #174EA6;\n",
              "    }\n",
              "\n",
              "    .colab-df-buttons div {\n",
              "      margin-bottom: 4px;\n",
              "    }\n",
              "\n",
              "    [theme=dark] .colab-df-convert {\n",
              "      background-color: #3B4455;\n",
              "      fill: #D2E3FC;\n",
              "    }\n",
              "\n",
              "    [theme=dark] .colab-df-convert:hover {\n",
              "      background-color: #434B5C;\n",
              "      box-shadow: 0px 1px 3px 1px rgba(0, 0, 0, 0.15);\n",
              "      filter: drop-shadow(0px 1px 2px rgba(0, 0, 0, 0.3));\n",
              "      fill: #FFFFFF;\n",
              "    }\n",
              "  </style>\n",
              "\n",
              "    <script>\n",
              "      const buttonEl =\n",
              "        document.querySelector('#df-6e228058-16e4-48be-a8de-0469788d4a2f button.colab-df-convert');\n",
              "      buttonEl.style.display =\n",
              "        google.colab.kernel.accessAllowed ? 'block' : 'none';\n",
              "\n",
              "      async function convertToInteractive(key) {\n",
              "        const element = document.querySelector('#df-6e228058-16e4-48be-a8de-0469788d4a2f');\n",
              "        const dataTable =\n",
              "          await google.colab.kernel.invokeFunction('convertToInteractive',\n",
              "                                                    [key], {});\n",
              "        if (!dataTable) return;\n",
              "\n",
              "        const docLinkHtml = 'Like what you see? Visit the ' +\n",
              "          '<a target=\"_blank\" href=https://colab.research.google.com/notebooks/data_table.ipynb>data table notebook</a>'\n",
              "          + ' to learn more about interactive tables.';\n",
              "        element.innerHTML = '';\n",
              "        dataTable['output_type'] = 'display_data';\n",
              "        await google.colab.output.renderOutput(dataTable, element);\n",
              "        const docLink = document.createElement('div');\n",
              "        docLink.innerHTML = docLinkHtml;\n",
              "        element.appendChild(docLink);\n",
              "      }\n",
              "    </script>\n",
              "  </div>\n",
              "\n",
              "\n",
              "    <div id=\"df-1ea8a78f-99a9-4f9d-8821-eaf9f6976893\">\n",
              "      <button class=\"colab-df-quickchart\" onclick=\"quickchart('df-1ea8a78f-99a9-4f9d-8821-eaf9f6976893')\"\n",
              "                title=\"Suggest charts\"\n",
              "                style=\"display:none;\">\n",
              "\n",
              "<svg xmlns=\"http://www.w3.org/2000/svg\" height=\"24px\"viewBox=\"0 0 24 24\"\n",
              "     width=\"24px\">\n",
              "    <g>\n",
              "        <path d=\"M19 3H5c-1.1 0-2 .9-2 2v14c0 1.1.9 2 2 2h14c1.1 0 2-.9 2-2V5c0-1.1-.9-2-2-2zM9 17H7v-7h2v7zm4 0h-2V7h2v10zm4 0h-2v-4h2v4z\"/>\n",
              "    </g>\n",
              "</svg>\n",
              "      </button>\n",
              "\n",
              "<style>\n",
              "  .colab-df-quickchart {\n",
              "      --bg-color: #E8F0FE;\n",
              "      --fill-color: #1967D2;\n",
              "      --hover-bg-color: #E2EBFA;\n",
              "      --hover-fill-color: #174EA6;\n",
              "      --disabled-fill-color: #AAA;\n",
              "      --disabled-bg-color: #DDD;\n",
              "  }\n",
              "\n",
              "  [theme=dark] .colab-df-quickchart {\n",
              "      --bg-color: #3B4455;\n",
              "      --fill-color: #D2E3FC;\n",
              "      --hover-bg-color: #434B5C;\n",
              "      --hover-fill-color: #FFFFFF;\n",
              "      --disabled-bg-color: #3B4455;\n",
              "      --disabled-fill-color: #666;\n",
              "  }\n",
              "\n",
              "  .colab-df-quickchart {\n",
              "    background-color: var(--bg-color);\n",
              "    border: none;\n",
              "    border-radius: 50%;\n",
              "    cursor: pointer;\n",
              "    display: none;\n",
              "    fill: var(--fill-color);\n",
              "    height: 32px;\n",
              "    padding: 0;\n",
              "    width: 32px;\n",
              "  }\n",
              "\n",
              "  .colab-df-quickchart:hover {\n",
              "    background-color: var(--hover-bg-color);\n",
              "    box-shadow: 0 1px 2px rgba(60, 64, 67, 0.3), 0 1px 3px 1px rgba(60, 64, 67, 0.15);\n",
              "    fill: var(--button-hover-fill-color);\n",
              "  }\n",
              "\n",
              "  .colab-df-quickchart-complete:disabled,\n",
              "  .colab-df-quickchart-complete:disabled:hover {\n",
              "    background-color: var(--disabled-bg-color);\n",
              "    fill: var(--disabled-fill-color);\n",
              "    box-shadow: none;\n",
              "  }\n",
              "\n",
              "  .colab-df-spinner {\n",
              "    border: 2px solid var(--fill-color);\n",
              "    border-color: transparent;\n",
              "    border-bottom-color: var(--fill-color);\n",
              "    animation:\n",
              "      spin 1s steps(1) infinite;\n",
              "  }\n",
              "\n",
              "  @keyframes spin {\n",
              "    0% {\n",
              "      border-color: transparent;\n",
              "      border-bottom-color: var(--fill-color);\n",
              "      border-left-color: var(--fill-color);\n",
              "    }\n",
              "    20% {\n",
              "      border-color: transparent;\n",
              "      border-left-color: var(--fill-color);\n",
              "      border-top-color: var(--fill-color);\n",
              "    }\n",
              "    30% {\n",
              "      border-color: transparent;\n",
              "      border-left-color: var(--fill-color);\n",
              "      border-top-color: var(--fill-color);\n",
              "      border-right-color: var(--fill-color);\n",
              "    }\n",
              "    40% {\n",
              "      border-color: transparent;\n",
              "      border-right-color: var(--fill-color);\n",
              "      border-top-color: var(--fill-color);\n",
              "    }\n",
              "    60% {\n",
              "      border-color: transparent;\n",
              "      border-right-color: var(--fill-color);\n",
              "    }\n",
              "    80% {\n",
              "      border-color: transparent;\n",
              "      border-right-color: var(--fill-color);\n",
              "      border-bottom-color: var(--fill-color);\n",
              "    }\n",
              "    90% {\n",
              "      border-color: transparent;\n",
              "      border-bottom-color: var(--fill-color);\n",
              "    }\n",
              "  }\n",
              "</style>\n",
              "\n",
              "      <script>\n",
              "        async function quickchart(key) {\n",
              "          const quickchartButtonEl =\n",
              "            document.querySelector('#' + key + ' button');\n",
              "          quickchartButtonEl.disabled = true;  // To prevent multiple clicks.\n",
              "          quickchartButtonEl.classList.add('colab-df-spinner');\n",
              "          try {\n",
              "            const charts = await google.colab.kernel.invokeFunction(\n",
              "                'suggestCharts', [key], {});\n",
              "          } catch (error) {\n",
              "            console.error('Error during call to suggestCharts:', error);\n",
              "          }\n",
              "          quickchartButtonEl.classList.remove('colab-df-spinner');\n",
              "          quickchartButtonEl.classList.add('colab-df-quickchart-complete');\n",
              "        }\n",
              "        (() => {\n",
              "          let quickchartButtonEl =\n",
              "            document.querySelector('#df-1ea8a78f-99a9-4f9d-8821-eaf9f6976893 button');\n",
              "          quickchartButtonEl.style.display =\n",
              "            google.colab.kernel.accessAllowed ? 'block' : 'none';\n",
              "        })();\n",
              "      </script>\n",
              "    </div>\n",
              "\n",
              "    </div>\n",
              "  </div>\n"
            ],
            "application/vnd.google.colaboratory.intrinsic+json": {
              "type": "dataframe",
              "summary": "{\n  \"name\": \"df_ppl\",\n  \"rows\": 2,\n  \"fields\": [\n    {\n      \"column\": \"Name\",\n      \"properties\": {\n        \"dtype\": \"string\",\n        \"num_unique_values\": 2,\n        \"samples\": [\n          \"Charlie\",\n          \"Bob\"\n        ],\n        \"semantic_type\": \"\",\n        \"description\": \"\"\n      }\n    },\n    {\n      \"column\": \"City\",\n      \"properties\": {\n        \"dtype\": \"string\",\n        \"num_unique_values\": 2,\n        \"samples\": [\n          \"Chicago\",\n          \"Boston\"\n        ],\n        \"semantic_type\": \"\",\n        \"description\": \"\"\n      }\n    }\n  ]\n}"
            }
          },
          "metadata": {},
          "execution_count": 30
        }
      ]
    },
    {
      "cell_type": "markdown",
      "id": "b55830e5",
      "metadata": {
        "id": "b55830e5"
      },
      "source": [
        "## Iterating Through Rows and Columns\n",
        "\n",
        "#### Using .iterrows()\n",
        "\n",
        "- Iterates through DataFrame rows as (index, Series) pairs\n",
        "- Each row is returned as a pandas Series object\n",
        "- Useful for row-wise operations\n",
        "- Note: Can be slower than vectorized operations\n",
        "\n",
        "#### Using .items()\n",
        "\n",
        "- Iterates through DataFrame columns as (column_name, Series) pairs\n",
        "- Each column is returned as a pandas Series object\n",
        "- Useful for column-wise operations\n",
        "\n",
        "#### Best Practices:\n",
        "\n",
        "- Use vectorized operations when possible for better performance\n",
        "- Only use iteration when necessary for custom row/column operations\n",
        "- Consider using .apply() as an alternative to explicit loops\n"
      ]
    },
    {
      "cell_type": "code",
      "execution_count": 46,
      "id": "894b3b88",
      "metadata": {
        "id": "894b3b88",
        "outputId": "a7c354cb-a921-4996-d337-d0c45e9c518b",
        "colab": {
          "base_uri": "https://localhost:8080/"
        }
      },
      "outputs": [
        {
          "output_type": "stream",
          "name": "stdout",
          "text": [
            "Row 0: 1\n",
            "Row 1: 2\n",
            "Row 2: 3\n",
            "Row 3: 4\n",
            "Row 4: 5\n"
          ]
        }
      ],
      "source": [
        "for index, row in df.iterrows():\n",
        "    print(f\"Row {index}: {row ['A']}\")\n",
        "    if index > 3:\n",
        "        break\n"
      ]
    },
    {
      "cell_type": "code",
      "source": [
        "for index, row in df.iterrows():\n",
        "    print(f\"Row {index}: {row}\")\n",
        "    if index > 3:\n",
        "        break"
      ],
      "metadata": {
        "id": "lBPTYf18ltg2",
        "outputId": "fd773383-835d-43f1-be86-3c11a72ff386",
        "colab": {
          "base_uri": "https://localhost:8080/"
        }
      },
      "id": "lBPTYf18ltg2",
      "execution_count": 43,
      "outputs": [
        {
          "output_type": "stream",
          "name": "stdout",
          "text": [
            "Row 0: A      1\n",
            "B     10\n",
            "C    100\n",
            "Name: 0, dtype: int64\n",
            "Row 1: A      2\n",
            "B     20\n",
            "C    200\n",
            "Name: 1, dtype: int64\n",
            "Row 2: A      3\n",
            "B     30\n",
            "C    300\n",
            "Name: 2, dtype: int64\n",
            "Row 3: A      4\n",
            "B     40\n",
            "C    400\n",
            "Name: 3, dtype: int64\n",
            "Row 4: A      5\n",
            "B     50\n",
            "C    500\n",
            "Name: 4, dtype: int64\n"
          ]
        }
      ]
    },
    {
      "cell_type": "code",
      "execution_count": 32,
      "id": "b2f38e17",
      "metadata": {
        "id": "b2f38e17",
        "outputId": "1acdd9f9-8a97-4e42-939c-c73ea17a2342",
        "colab": {
          "base_uri": "https://localhost:8080/"
        }
      },
      "outputs": [
        {
          "output_type": "stream",
          "name": "stdout",
          "text": [
            "Column A: 0    1\n",
            "1    2\n",
            "2    3\n",
            "3    4\n",
            "4    5\n",
            "Name: A, dtype: int64\n"
          ]
        }
      ],
      "source": [
        "for column_name, column_data in df.items():\n",
        "    if column_name == 'A':  # Stop after mean radius column\n",
        "        print(f\"Column {column_name}: {column_data[0:5]}\")  # Print first value in each column\n",
        "        break\n"
      ]
    },
    {
      "cell_type": "code",
      "source": [
        "df.items()"
      ],
      "metadata": {
        "id": "SzVRjs8mjMNO",
        "outputId": "ec69b21f-0680-456d-acb2-deddf445c8c0",
        "colab": {
          "base_uri": "https://localhost:8080/"
        }
      },
      "id": "SzVRjs8mjMNO",
      "execution_count": 40,
      "outputs": [
        {
          "output_type": "execute_result",
          "data": {
            "text/plain": [
              "<generator object DataFrame.items at 0x7d9b8e0cda80>"
            ]
          },
          "metadata": {},
          "execution_count": 40
        }
      ]
    },
    {
      "cell_type": "markdown",
      "id": "5fdbcdfb",
      "metadata": {
        "id": "5fdbcdfb"
      },
      "source": [
        "#### ✏️ **Exercise**\n",
        "\n",
        "Create a loop using .items() to find the maximum value in each column of df.\n",
        "Print the column name and its maximum value.\n",
        "\n",
        "- Example output:\n",
        "\n",
        "`A: 5`\n",
        "\n",
        "`B: 50`\n",
        "\n",
        "`C: 500`\n"
      ]
    },
    {
      "cell_type": "code",
      "execution_count": null,
      "id": "e1bb3688",
      "metadata": {
        "id": "e1bb3688"
      },
      "outputs": [],
      "source": []
    },
    {
      "cell_type": "markdown",
      "id": "2bde1adb",
      "metadata": {
        "id": "2bde1adb"
      },
      "source": [
        "## Combining DataFrames\n",
        "\n",
        "### Concatenating Datasets with pd.concat()\n",
        "\n",
        "- Use `pd.concat()` to stack DataFrames vertically or horizontally\n",
        "- Parameters:\n",
        "  - `axis=0`: Stack vertically (default)\n",
        "  - `axis=1`: Stack horizontally\n",
        "  - `ignore_index`: Reset index after concatenation\n"
      ]
    },
    {
      "cell_type": "code",
      "execution_count": 38,
      "id": "c4aa4b7e",
      "metadata": {
        "id": "c4aa4b7e",
        "outputId": "2e7a8dc4-5042-454e-a7df-df6146b48013",
        "colab": {
          "base_uri": "https://localhost:8080/"
        }
      },
      "outputs": [
        {
          "output_type": "stream",
          "name": "stdout",
          "text": [
            "DataFrame 1:\n",
            "    A   B\n",
            "0  A0  B0\n",
            "1  A1  B1\n",
            "2  A2  B2\n",
            "\n",
            "DataFrame 2:\n",
            "    A   B\n",
            "0  A3  B3\n",
            "1  A4  B4\n",
            "2  A5  B5\n",
            "\n",
            "DataFrame 3:\n",
            "    C   D\n",
            "0  C0  D0\n",
            "1  C1  D1\n",
            "2  C2  D2\n",
            "\n",
            "Vertical concatenation (axis=0):\n",
            "    A   B\n",
            "0  A0  B0\n",
            "1  A1  B1\n",
            "2  A2  B2\n",
            "0  A3  B3\n",
            "1  A4  B4\n",
            "2  A5  B5\n"
          ]
        }
      ],
      "source": [
        "# Create sample DataFrames\n",
        "df1 = pd.DataFrame({\n",
        "    'A': ['A0', 'A1', 'A2'],\n",
        "    'B': ['B0', 'B1', 'B2']\n",
        "})\n",
        "\n",
        "df2 = pd.DataFrame({\n",
        "    'A': ['A3', 'A4', 'A5'],\n",
        "    'B': ['B3', 'B4', 'B5']\n",
        "})\n",
        "\n",
        "df3 = pd.DataFrame({\n",
        "    'C': ['C0', 'C1', 'C2'],\n",
        "    'D': ['D0', 'D1', 'D2']\n",
        "})\n",
        "\n",
        "print(\"DataFrame 1:\")\n",
        "print(df1)\n",
        "print(\"\\nDataFrame 2:\")\n",
        "print(df2)\n",
        "print(\"\\nDataFrame 3:\")\n",
        "print(df3)\n",
        "\n",
        "# Vertical concatenation (axis=0)\n",
        "vertical_concat = pd.concat([df1, df2])\n",
        "print(\"\\nVertical concatenation (axis=0):\")\n",
        "print(vertical_concat)"
      ]
    },
    {
      "cell_type": "code",
      "execution_count": null,
      "id": "15548ee1",
      "metadata": {
        "id": "15548ee1"
      },
      "outputs": [],
      "source": [
        "print(\"DataFrame 1:\")\n",
        "print(df1)\n",
        "print(\"\\nDataFrame 2:\")\n",
        "print(df2)\n",
        "# Vertical concatenation with reset index\n",
        "vertical_concat_reset = pd.concat([df1, df2], ignore_index=True)\n",
        "print(\"\\nVertical concatenation with reset index:\")\n",
        "print(vertical_concat_reset)"
      ]
    },
    {
      "cell_type": "code",
      "execution_count": null,
      "id": "f3e645c1",
      "metadata": {
        "id": "f3e645c1"
      },
      "outputs": [],
      "source": [
        "print(\"DataFrame 1:\")\n",
        "print(df1)\n",
        "\n",
        "print(\"\\nDataFrame 3:\")\n",
        "print(df3)\n",
        "# Horizontal concatenation (axis=1)\n",
        "horizontal_concat = pd.concat([df1, df3], axis=1)\n",
        "print(\"\\nHorizontal concatenation (axis=1):\")\n",
        "print(horizontal_concat)\n"
      ]
    },
    {
      "cell_type": "markdown",
      "id": "ed5f7e87",
      "metadata": {
        "id": "ed5f7e87"
      },
      "source": [
        "### Merging Datasets with pd.merge()\n",
        "\n",
        "- Use `pd.merge()` to combine DataFrames based on common columns/keys\n",
        "- Similar to SQL JOIN operations\n",
        "- Use `on`: to specify the column(s) to merge on\n"
      ]
    },
    {
      "cell_type": "code",
      "execution_count": null,
      "id": "3c956700",
      "metadata": {
        "id": "3c956700"
      },
      "outputs": [],
      "source": [
        "# Single key merge\n",
        "df1 = pd.DataFrame({'key': ['A', 'B', 'C'], 'columnA': [1, 2, 3]})\n",
        "df2 = pd.DataFrame({'key': ['A', 'B'], 'columnB': [3, 4]})\n",
        "merged_single = pd.merge(df1, df2, on='key')\n",
        "\n",
        "print(\"DataFrame 1:\")\n",
        "print(df1)\n",
        "\n",
        "print(\"\\nDataFrame 2:\")\n",
        "print(df2)\n",
        "\n",
        "print(\"\\nSingle key merge:\")\n",
        "print(merged_single)\n",
        "\n"
      ]
    },
    {
      "cell_type": "code",
      "execution_count": null,
      "id": "f537ceba",
      "metadata": {
        "id": "f537ceba"
      },
      "outputs": [],
      "source": [
        "# Multiple key merge\n",
        "df3 = pd.DataFrame({'ColumnA': ['A', 'B', 'C', 'D'], 'ColumnB': [1, 2, 3, 4], 'ColumnX': [1, 2, 3, 4]})\n",
        "df4 = pd.DataFrame({'ColumnA': ['B', 'C', 'D', 'E'], 'ColumnB': [2, 3, 1, 2], 'ColumnY': [4, 5, 6, 7]})\n",
        "merged_multi = pd.merge(df3, df4, on=['ColumnA', 'ColumnB'])\n",
        "\n",
        "print(\"DataFrame 1:\")\n",
        "print(df3)\n",
        "\n",
        "print(\"\\nDataFrame 2:\")\n",
        "print(df4)\n",
        "\n",
        "print(\"Multiple key merge:\")\n",
        "print(merged_multi)\n",
        "print()\n"
      ]
    },
    {
      "cell_type": "markdown",
      "id": "2d8db971",
      "metadata": {
        "id": "2d8db971"
      },
      "source": [
        "#### ✏️ **Exercise**\n",
        "\n",
        "Try to predict the output of the following operations:\n",
        "\n",
        "1. What will happen when we merge these DataFrames?\n",
        "   ```python\n",
        "   df1 = pd.DataFrame({'key': ['A','B'], 'val': [1,2]})\n",
        "   df2 = pd.DataFrame({'key': ['B','C'], 'val': [3,4]})\n",
        "   pd.merge(df1, df2, on='key')\n",
        "   ```\n",
        "2. What will happen when we concatenate the same DataFrames?\n",
        "   ```python\n",
        "   pd.concat([df1, df2])\n",
        "   ```\n",
        "   Key differences to note:\n",
        "\n",
        "- merge: Combines based on matching values in the 'key' column\n",
        "- concat: Simply stacks the DataFrames, keeping all rows\n",
        "  Check your predictions in the next code cell!\n"
      ]
    },
    {
      "cell_type": "code",
      "execution_count": null,
      "id": "5f5f38f4",
      "metadata": {
        "id": "5f5f38f4"
      },
      "outputs": [],
      "source": []
    },
    {
      "cell_type": "markdown",
      "id": "da106ab8",
      "metadata": {
        "id": "da106ab8"
      },
      "source": [
        "## Data Cleaning and Preprocessing\n",
        "\n",
        "### Checking for Missing Values\n",
        "\n",
        "- Use `.isna()` or `.isnull()` to check for missing values.\n",
        "- Use `.notna()` or `.notnull()` to check for non-missing values.\n",
        "- Use `.any()` to see if any values are missing in a DataFrame.\n",
        "- Use `.sum()` to count the number of missing values in each column.\n"
      ]
    },
    {
      "cell_type": "code",
      "execution_count": null,
      "id": "0bf83df1",
      "metadata": {
        "id": "0bf83df1"
      },
      "outputs": [],
      "source": [
        "df_with_nan = pd.DataFrame({'A': [None, None, 3, 1], 'B': [4, None, None, 33]})\n",
        "df_with_nan.iloc[0, 0] = pd.NA  # Introduce pd.NA to make .isna different from .isnull\n",
        "print(\"DataFrame with NaN, None, and pd.NA values:\")\n",
        "print(df_with_nan)\n"
      ]
    },
    {
      "cell_type": "code",
      "execution_count": null,
      "id": "3694daa1",
      "metadata": {
        "id": "3694daa1"
      },
      "outputs": [],
      "source": [
        "print(\"\\nCheck for missing values using .isna():\")\n",
        "print(df_with_nan.isna())\n"
      ]
    },
    {
      "cell_type": "markdown",
      "id": "141c40e3",
      "metadata": {
        "id": "141c40e3"
      },
      "source": [
        "isna\n"
      ]
    },
    {
      "cell_type": "code",
      "execution_count": null,
      "id": "b086fa85",
      "metadata": {
        "id": "b086fa85"
      },
      "outputs": [],
      "source": [
        "print(\"\\nCheck for non-missing values using .notna():\")\n",
        "print(df_with_nan.notna())\n"
      ]
    },
    {
      "cell_type": "code",
      "execution_count": null,
      "id": "30aef07c",
      "metadata": {
        "id": "30aef07c"
      },
      "outputs": [],
      "source": [
        "print(\"\\nCheck if any values are missing in the DataFrame using .any():\")\n",
        "print(df_with_nan.isna().any())\n"
      ]
    },
    {
      "cell_type": "code",
      "execution_count": null,
      "id": "78929631",
      "metadata": {
        "id": "78929631"
      },
      "outputs": [],
      "source": [
        "\n",
        "print(\"\\nCount the number of missing values in each column using .sum():\")\n",
        "print(df_with_nan.isna().sum())\n"
      ]
    },
    {
      "cell_type": "markdown",
      "id": "1368e3b5",
      "metadata": {
        "id": "1368e3b5"
      },
      "source": [
        "### Handling Missing Values\n",
        "\n",
        "- Use `.fillna()` to replace missing values with a specified value.\n",
        "- Use `.dropna()` to remove rows or columns with missing values.\n"
      ]
    },
    {
      "cell_type": "code",
      "execution_count": null,
      "id": "e67a29cc",
      "metadata": {
        "id": "e67a29cc"
      },
      "outputs": [],
      "source": [
        "df_with_nan = pd.DataFrame({'A': [1, None, 3], 'B': [4, 5, None]})\n",
        "filled_df = df_with_nan.fillna(0)\n",
        "print(filled_df)\n"
      ]
    },
    {
      "cell_type": "code",
      "execution_count": null,
      "id": "eaf003e3",
      "metadata": {
        "id": "eaf003e3"
      },
      "outputs": [],
      "source": [
        "df_with_nan = pd.DataFrame({'A': [1, None, 3], 'B': [4, 5, None]})\n",
        "dropped_df = df_with_nan.dropna()\n",
        "print(dropped_df)\n"
      ]
    },
    {
      "cell_type": "markdown",
      "id": "bae2b90c",
      "metadata": {
        "id": "bae2b90c"
      },
      "source": [
        "### Data Type Conversion\n",
        "\n",
        "- Use `.astype()` to convert data types.\n"
      ]
    },
    {
      "cell_type": "code",
      "execution_count": null,
      "id": "199c6a24",
      "metadata": {
        "id": "199c6a24"
      },
      "outputs": [],
      "source": [
        "df = pd.DataFrame({'A': [1, 2, 3], 'B': [4.0, 5.0, 6.0]})\n",
        "print('before conversion:', df.dtypes)\n",
        "df['A'] = df['A'].astype(float)\n",
        "print('after conversion:', df.dtypes)"
      ]
    },
    {
      "cell_type": "markdown",
      "id": "5190fff0",
      "metadata": {
        "id": "5190fff0"
      },
      "source": [
        "#### ✏️ Exercise: DataFrame Treasure Hunt\n",
        "\n",
        "In this exercise, you'll be a data detective on a treasure hunt.\n",
        "Your goal is to clean and preprocess the given DataFrame to uncover hidden treasures (valuable insights).\n",
        "\n",
        "##### Step 1: Create the DataFrame\n",
        "\n",
        "Create a DataFrame with the following data:\n",
        "\n",
        "```python\n",
        "data = {\n",
        "    'Name': ['Alice', 'Bob', None, 'David', 'Eva'],\n",
        "    'Age': [25, None, 35, 45, None],\n",
        "    'Score': ['85.5', '90.0', None, '088.0', '92.0']\n",
        "}\n",
        "```\n",
        "\n",
        "##### Step 2: Print the person 'Name' with the highest score who isn't missing values in any column\n",
        "\n",
        "**Hint: You can use the [sort_values](https://pandas.pydata.org/pandas-docs/stable/reference/api/pandas.DataFrame.sort_values.html) method to sort the DataFrame by the 'Score' column.**\n",
        "\n",
        "When sorting values in a DataFrame, the original indices are preserved.\n",
        "If you want to reset the indices after sorting, you can use the reset_index method.\n",
        "\n",
        "For example:\n",
        "\n",
        "```python\n",
        "sorted_df = df.sort_values(by='Column_Name', ascending=False).reset_index(drop=True)\n",
        "```\n"
      ]
    },
    {
      "cell_type": "code",
      "execution_count": null,
      "id": "cddc3908",
      "metadata": {
        "id": "cddc3908"
      },
      "outputs": [],
      "source": []
    }
  ],
  "metadata": {
    "kernelspec": {
      "display_name": ".venv",
      "language": "python",
      "name": "python3"
    },
    "language_info": {
      "codemirror_mode": {
        "name": "ipython",
        "version": 3
      },
      "file_extension": ".py",
      "mimetype": "text/x-python",
      "name": "python",
      "nbconvert_exporter": "python",
      "pygments_lexer": "ipython3",
      "version": "3.12.7"
    },
    "colab": {
      "provenance": [],
      "include_colab_link": true
    }
  },
  "nbformat": 4,
  "nbformat_minor": 5
}